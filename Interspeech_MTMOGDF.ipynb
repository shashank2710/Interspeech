{
 "cells": [
  {
   "cell_type": "markdown",
   "metadata": {},
   "source": [
    "# Interspeech\n"
   ]
  },
  {
   "cell_type": "code",
   "execution_count": 1,
   "metadata": {},
   "outputs": [],
   "source": [
    "import matplotlib.pyplot"
   ]
  },
  {
   "cell_type": "code",
   "execution_count": 2,
   "metadata": {},
   "outputs": [
    {
     "name": "stderr",
     "output_type": "stream",
     "text": [
      "/home/shashank/.virtualenvs/keras_tf/lib/python3.5/site-packages/h5py/__init__.py:36: FutureWarning: Conversion of the second argument of issubdtype from `float` to `np.floating` is deprecated. In future, it will be treated as `np.float64 == np.dtype(float).type`.\n",
      "  from ._conv import register_converters as _register_converters\n",
      "Using TensorFlow backend.\n"
     ]
    }
   ],
   "source": [
    "import numpy as np\n",
    "\n",
    "import scipy.io as sio\n",
    "import matplotlib.pyplot as plt\n",
    "%matplotlib inline\n",
    "from skimage import io\n",
    "from sklearn.model_selection import train_test_split\n",
    "import random\n",
    "\n",
    "import keras\n",
    "from keras import backend as K\n",
    "from keras import layers\n",
    "\n",
    "from keras.utils import np_utils\n",
    "from keras.models import Sequential\n",
    "from keras.layers import Dense, Dropout, Activation\n",
    "\n",
    "from keras.datasets import mnist\n",
    "from keras.layers import Dense, Dropout, Flatten\n",
    "from keras.layers import Conv2D, MaxPooling2D\n",
    "\n",
    "import tensorflow as tf"
   ]
  },
  {
   "cell_type": "code",
   "execution_count": 3,
   "metadata": {},
   "outputs": [],
   "source": [
    "global X, T\n",
    "X=[]\n",
    "T=[]"
   ]
  },
  {
   "cell_type": "code",
   "execution_count": 4,
   "metadata": {},
   "outputs": [],
   "source": [
    "def loaddata(filename,num):\n",
    "    f=sio.loadmat(filename)\n",
    "    data=f['cep']\n",
    "    data=np.asarray(data)\n",
    "    mean=np.mean(data,axis=0)\n",
    "    std=np.std(data,axis=0)\n",
    "    data=(data-mean)/std\n",
    "    data=np.asarray(np.vsplit(data[0:int(data.shape[0]/data.shape[1])*data.shape[1]],int(data.shape[0]/data.shape[1])))\n",
    "    for i in range (data.shape[0]):\n",
    "        X.append(data[i])\n",
    "        T.append(num)\n",
    "    return X, T"
   ]
  },
  {
   "cell_type": "code",
   "execution_count": 5,
   "metadata": {},
   "outputs": [],
   "source": [
    "X,T = loaddata('punjabi.mat',0)"
   ]
  },
  {
   "cell_type": "code",
   "execution_count": 6,
   "metadata": {},
   "outputs": [
    {
     "data": {
      "text/plain": [
       "(1405, 1405)"
      ]
     },
     "execution_count": 6,
     "metadata": {},
     "output_type": "execute_result"
    }
   ],
   "source": [
    "len(X), len(T)"
   ]
  },
  {
   "cell_type": "code",
   "execution_count": 7,
   "metadata": {},
   "outputs": [],
   "source": [
    "X,T = loaddata('malayalam.mat',1)"
   ]
  },
  {
   "cell_type": "code",
   "execution_count": 8,
   "metadata": {},
   "outputs": [
    {
     "data": {
      "text/plain": [
       "(2973, 2973)"
      ]
     },
     "execution_count": 8,
     "metadata": {},
     "output_type": "execute_result"
    }
   ],
   "source": [
    "len(X), len(T)"
   ]
  },
  {
   "cell_type": "code",
   "execution_count": 9,
   "metadata": {},
   "outputs": [],
   "source": [
    "X,T = loaddata('bengali.mat',2)"
   ]
  },
  {
   "cell_type": "code",
   "execution_count": 10,
   "metadata": {},
   "outputs": [
    {
     "data": {
      "text/plain": [
       "(4561, 4561)"
      ]
     },
     "execution_count": 10,
     "metadata": {},
     "output_type": "execute_result"
    }
   ],
   "source": [
    "len(X),len(T)"
   ]
  },
  {
   "cell_type": "markdown",
   "metadata": {},
   "source": [
    "## Split Dataset"
   ]
  },
  {
   "cell_type": "code",
   "execution_count": 11,
   "metadata": {},
   "outputs": [
    {
     "name": "stderr",
     "output_type": "stream",
     "text": [
      "/home/shashank/.virtualenvs/keras_tf/lib/python3.5/site-packages/sklearn/model_selection/_split.py:2026: FutureWarning: From version 0.21, test_size will always complement train_size unless both are specified.\n",
      "  FutureWarning)\n"
     ]
    },
    {
     "data": {
      "text/plain": [
       "((3648, 39, 39), (913, 39, 39))"
      ]
     },
     "execution_count": 11,
     "metadata": {},
     "output_type": "execute_result"
    }
   ],
   "source": [
    "Xtrain, Xtest, Ytrain, Ytest = train_test_split(np.array(X),np.array(T), train_size=0.8, random_state=30)\n",
    "np.array(Xtrain).shape, np.array(Xtest).shape"
   ]
  },
  {
   "cell_type": "markdown",
   "metadata": {},
   "source": [
    "## Convert 2D dataset to a 1D vector"
   ]
  },
  {
   "cell_type": "code",
   "execution_count": 12,
   "metadata": {},
   "outputs": [],
   "source": [
    "batchSize=10\n",
    "numClasses=3\n",
    "epochs=20\n",
    "imageRows, imageCols =39,39\n",
    "inputShape = (imageRows,imageCols,1)"
   ]
  },
  {
   "cell_type": "code",
   "execution_count": 13,
   "metadata": {},
   "outputs": [],
   "source": [
    "Xtrain = Xtrain.reshape(Xtrain.shape[0], imageRows, imageCols, 1)\n",
    "Xtest = Xtest.reshape(Xtest.shape[0], imageRows,imageCols, 1)\n",
    "inputShape = (imageRows,imageCols,1)\n",
    "Xtrain = Xtrain.astype('float32')\n",
    "Xtest = Xtest.astype('float32')"
   ]
  },
  {
   "cell_type": "code",
   "execution_count": 14,
   "metadata": {},
   "outputs": [],
   "source": [
    "Ytrain = keras.utils.to_categorical(Ytrain, numClasses)\n",
    "Ytest = keras.utils.to_categorical(Ytest, numClasses)"
   ]
  },
  {
   "cell_type": "markdown",
   "metadata": {},
   "source": [
    "## Define CNN Model"
   ]
  },
  {
   "cell_type": "code",
   "execution_count": 15,
   "metadata": {},
   "outputs": [],
   "source": [
    "model = Sequential()\n",
    "model.add(Conv2D(32, kernel_size=(3, 3),activation='relu',input_shape=inputShape))\n",
    "model.add(Conv2D(64, (3, 3), activation='relu'))\n",
    "model.add(MaxPooling2D(pool_size=(2, 2)))\n",
    "model.add(Dropout(0.25))\n",
    "model.add(Flatten())\n",
    "model.add(Dense(128, activation='relu'))\n",
    "model.add(Dropout(0.5))\n",
    "model.add(Dense(numClasses, activation='softmax'))"
   ]
  },
  {
   "cell_type": "code",
   "execution_count": 16,
   "metadata": {},
   "outputs": [
    {
     "name": "stdout",
     "output_type": "stream",
     "text": [
      "_________________________________________________________________\n",
      "Layer (type)                 Output Shape              Param #   \n",
      "=================================================================\n",
      "conv2d_1 (Conv2D)            (None, 37, 37, 32)        320       \n",
      "_________________________________________________________________\n",
      "conv2d_2 (Conv2D)            (None, 35, 35, 64)        18496     \n",
      "_________________________________________________________________\n",
      "max_pooling2d_1 (MaxPooling2 (None, 17, 17, 64)        0         \n",
      "_________________________________________________________________\n",
      "dropout_1 (Dropout)          (None, 17, 17, 64)        0         \n",
      "_________________________________________________________________\n",
      "flatten_1 (Flatten)          (None, 18496)             0         \n",
      "_________________________________________________________________\n",
      "dense_1 (Dense)              (None, 128)               2367616   \n",
      "_________________________________________________________________\n",
      "dropout_2 (Dropout)          (None, 128)               0         \n",
      "_________________________________________________________________\n",
      "dense_2 (Dense)              (None, 3)                 387       \n",
      "=================================================================\n",
      "Total params: 2,386,819\n",
      "Trainable params: 2,386,819\n",
      "Non-trainable params: 0\n",
      "_________________________________________________________________\n"
     ]
    }
   ],
   "source": [
    "model.summary()"
   ]
  },
  {
   "cell_type": "markdown",
   "metadata": {},
   "source": [
    "## Model Train"
   ]
  },
  {
   "cell_type": "code",
   "execution_count": 17,
   "metadata": {},
   "outputs": [],
   "source": [
    "model.compile(loss=keras.losses.categorical_crossentropy,optimizer=keras.optimizers.Adadelta(),metrics=['accuracy'])"
   ]
  },
  {
   "cell_type": "code",
   "execution_count": 18,
   "metadata": {},
   "outputs": [
    {
     "name": "stdout",
     "output_type": "stream",
     "text": [
      "Train on 3648 samples, validate on 913 samples\n",
      "Epoch 1/20\n",
      "3648/3648 [==============================] - 95s 26ms/step - loss: 7.2268 - acc: 0.3410 - val_loss: 10.4159 - val_acc: 0.3538\n",
      "Epoch 2/20\n",
      "3648/3648 [==============================] - 115s 31ms/step - loss: 8.3750 - acc: 0.3459 - val_loss: 10.4159 - val_acc: 0.3538\n",
      "Epoch 3/20\n",
      "3648/3648 [==============================] - 114s 31ms/step - loss: 7.9611 - acc: 0.3462 - val_loss: 10.4159 - val_acc: 0.3538\n",
      "Epoch 4/20\n",
      "3648/3648 [==============================] - 118s 32ms/step - loss: 8.1011 - acc: 0.3405 - val_loss: 10.4159 - val_acc: 0.3538\n",
      "Epoch 5/20\n",
      "3648/3648 [==============================] - 116s 32ms/step - loss: 8.2583 - acc: 0.3465 - val_loss: 10.4159 - val_acc: 0.3538\n",
      "Epoch 6/20\n",
      "3648/3648 [==============================] - 115s 32ms/step - loss: 8.0656 - acc: 0.3429 - val_loss: 10.4159 - val_acc: 0.3538\n",
      "Epoch 7/20\n",
      "3648/3648 [==============================] - 114s 31ms/step - loss: 8.1566 - acc: 0.3421 - val_loss: 10.4159 - val_acc: 0.3538\n",
      "Epoch 8/20\n",
      "3648/3648 [==============================] - 114s 31ms/step - loss: 8.4629 - acc: 0.3317 - val_loss: 10.4159 - val_acc: 0.3538\n",
      "Epoch 9/20\n",
      "3648/3648 [==============================] - 113s 31ms/step - loss: 8.4436 - acc: 0.3287 - val_loss: 10.4159 - val_acc: 0.3538\n",
      "Epoch 10/20\n",
      "3648/3648 [==============================] - 112s 31ms/step - loss: 8.2884 - acc: 0.3347 - val_loss: 10.4159 - val_acc: 0.3538\n",
      "Epoch 11/20\n",
      "3648/3648 [==============================] - 114s 31ms/step - loss: 8.2196 - acc: 0.3399 - val_loss: 10.4159 - val_acc: 0.3538\n",
      "Epoch 12/20\n",
      "3648/3648 [==============================] - 112s 31ms/step - loss: 8.1888 - acc: 0.3361 - val_loss: 10.4159 - val_acc: 0.3538\n",
      "Epoch 13/20\n",
      "3648/3648 [==============================] - 112s 31ms/step - loss: 8.5336 - acc: 0.3243 - val_loss: 10.4159 - val_acc: 0.3538\n",
      "Epoch 14/20\n",
      "3648/3648 [==============================] - 112s 31ms/step - loss: 8.1937 - acc: 0.3451 - val_loss: 10.4159 - val_acc: 0.3538\n",
      "Epoch 15/20\n",
      "3648/3648 [==============================] - 112s 31ms/step - loss: 8.2476 - acc: 0.3410 - val_loss: 10.4159 - val_acc: 0.3538\n",
      "Epoch 16/20\n",
      "3648/3648 [==============================] - 112s 31ms/step - loss: 8.2722 - acc: 0.3361 - val_loss: 10.4159 - val_acc: 0.3538\n",
      "Epoch 17/20\n",
      "3648/3648 [==============================] - 113s 31ms/step - loss: 8.3123 - acc: 0.3331 - val_loss: 10.4159 - val_acc: 0.3538\n",
      "Epoch 18/20\n",
      "3648/3648 [==============================] - 115s 31ms/step - loss: 8.2712 - acc: 0.3424 - val_loss: 10.4159 - val_acc: 0.3538\n",
      "Epoch 19/20\n",
      "3648/3648 [==============================] - 159s 44ms/step - loss: 8.0549 - acc: 0.3514 - val_loss: 10.4159 - val_acc: 0.3538\n",
      "Epoch 20/20\n",
      "3648/3648 [==============================] - 117s 32ms/step - loss: 8.2578 - acc: 0.3339 - val_loss: 10.4159 - val_acc: 0.3538\n"
     ]
    }
   ],
   "source": [
    "speechTrainData=model.fit(Xtrain, Ytrain,batch_size=batchSize,epochs=epochs,verbose=1,validation_data=(Xtest, Ytest))"
   ]
  },
  {
   "cell_type": "code",
   "execution_count": 19,
   "metadata": {},
   "outputs": [
    {
     "data": {
      "image/png": "[encoded data removed]",
      "text/plain": [
       "<matplotlib.figure.Figure at 0x7fccabb8b278>"
      ]
     },
     "metadata": {},
     "output_type": "display_data"
    },
    {
     "data": {
      "image/png": "[encoded data removed]",
      "text/plain": [
       "<matplotlib.figure.Figure at 0x7fccabc3be48>"
      ]
     },
     "metadata": {},
     "output_type": "display_data"
    }
   ],
   "source": [
    "plt.plot(speechTrainData.history['acc'])\n",
    "plt.plot(speechTrainData.history['val_acc'])\n",
    "plt.title('Model Accuracy for CNN with Batch Size={}, Epochs={} '.format(batchSize,epochs))\n",
    "plt.ylabel('Accuracy')\n",
    "plt.xlabel('Epoch')\n",
    "plt.legend(['Train', 'Test'], loc='upper left')\n",
    "plt.show()\n",
    "# Plot Model  Loss\n",
    "plt.plot(speechTrainData.history['loss'])\n",
    "plt.plot(speechTrainData.history['val_loss'])\n",
    "plt.title('Model Loss for CNN with Batch Size={}, Epochs={} '.format(batchSize,epochs))\n",
    "plt.ylabel('Loss')\n",
    "plt.xlabel('Epoch')\n",
    "plt.legend(['Train', 'Test'], loc='upper left')\n",
    "plt.show()"
   ]
  }
 ],
 "metadata": {
  "kernelspec": {
   "display_name": "Python 3",
   "language": "python",
   "name": "python3"
  },
  "language_info": {
   "codemirror_mode": {
    "name": "ipython",
    "version": 3
   },
   "file_extension": ".py",
   "mimetype": "text/x-python",
   "name": "python",
   "nbconvert_exporter": "python",
   "pygments_lexer": "ipython3",
   "version": "3.5.2"
  }
 },
 "nbformat": 4,
 "nbformat_minor": 2
}
