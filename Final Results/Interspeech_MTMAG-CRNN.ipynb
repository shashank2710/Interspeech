{
 "cells": [
  {
   "cell_type": "markdown",
   "metadata": {},
   "source": [
    "# Interspeech\n"
   ]
  },
  {
   "cell_type": "code",
   "execution_count": 1,
   "metadata": {},
   "outputs": [],
   "source": [
    "import matplotlib.pyplot"
   ]
  },
  {
   "cell_type": "code",
   "execution_count": 2,
   "metadata": {},
   "outputs": [
    {
     "name": "stderr",
     "output_type": "stream",
     "text": [
      "Using TensorFlow backend.\n"
     ]
    }
   ],
   "source": [
    "import numpy as np\n",
    "import pandas as pd\n",
    "\n",
    "import scipy.io as sio\n",
    "import matplotlib.pyplot as plt\n",
    "%matplotlib inline\n",
    "from skimage import io\n",
    "from sklearn.model_selection import train_test_split\n",
    "import random\n",
    "\n",
    "import keras\n",
    "from keras import backend as K\n",
    "from keras import layers\n",
    "\n",
    "from keras.utils import np_utils\n",
    "from keras.models import Sequential\n",
    "from keras.layers import Dense, Dropout, Activation\n",
    "\n",
    "from keras.datasets import mnist\n",
    "from keras.layers import Dense, Dropout, Flatten\n",
    "from keras.layers import Conv2D, MaxPooling2D\n",
    "from keras.layers.convolutional import Convolution2D\n",
    "\n",
    "from keras.layers.core import Dense, Permute, Reshape\n",
    "from keras.layers.normalization import BatchNormalization\n",
    "from keras.layers.wrappers import Bidirectional\n",
    "from keras.layers.recurrent import LSTM\n",
    "from keras.models import Sequential\n",
    "from keras.regularizers import l2\n",
    "\n",
    "import tensorflow as tf"
   ]
  },
  {
   "cell_type": "code",
   "execution_count": 3,
   "metadata": {},
   "outputs": [],
   "source": [
    "global X, T\n",
    "X=[]\n",
    "T=[]"
   ]
  },
  {
   "cell_type": "code",
   "execution_count": 4,
   "metadata": {},
   "outputs": [],
   "source": [
    "def loaddata(filename,num):\n",
    "    f=sio.loadmat(filename)\n",
    "    data=f['cep']\n",
    "    data=np.asarray(data)\n",
    "    mean=np.mean(data,axis=0)\n",
    "    std=np.std(data,axis=0)\n",
    "    data=(data-mean)/std\n",
    "    data=np.asarray(np.vsplit(data[0:int(data.shape[0]/data.shape[1])*data.shape[1]],int(data.shape[0]/data.shape[1])))\n",
    "    for i in range (data.shape[0]):\n",
    "        X.append(data[i])\n",
    "        T.append(num)\n",
    "    return X, T"
   ]
  },
  {
   "cell_type": "code",
   "execution_count": 5,
   "metadata": {},
   "outputs": [
    {
     "data": {
      "text/plain": [
       "(5704, 5704)"
      ]
     },
     "execution_count": 5,
     "metadata": {},
     "output_type": "execute_result"
    }
   ],
   "source": [
    "X,T = loaddata('assamese.mat',0)\n",
    "len(X), len(T)"
   ]
  },
  {
   "cell_type": "code",
   "execution_count": 6,
   "metadata": {},
   "outputs": [
    {
     "data": {
      "text/plain": [
       "(8880, 8880)"
      ]
     },
     "execution_count": 6,
     "metadata": {},
     "output_type": "execute_result"
    }
   ],
   "source": [
    "X,T = loaddata('bengali.mat',1)\n",
    "len(X), len(T)"
   ]
  },
  {
   "cell_type": "code",
   "execution_count": 7,
   "metadata": {},
   "outputs": [
    {
     "data": {
      "text/plain": [
       "(15135, 15135)"
      ]
     },
     "execution_count": 7,
     "metadata": {},
     "output_type": "execute_result"
    }
   ],
   "source": [
    "X,T = loaddata('kannada.mat',2)\n",
    "len(X),len(T)"
   ]
  },
  {
   "cell_type": "code",
   "execution_count": 8,
   "metadata": {},
   "outputs": [
    {
     "data": {
      "text/plain": [
       "(18272, 18272)"
      ]
     },
     "execution_count": 8,
     "metadata": {},
     "output_type": "execute_result"
    }
   ],
   "source": [
    "X,T = loaddata('malayalam.mat',3)\n",
    "len(X),len(T)"
   ]
  },
  {
   "cell_type": "code",
   "execution_count": 9,
   "metadata": {},
   "outputs": [
    {
     "data": {
      "text/plain": [
       "(21083, 21083)"
      ]
     },
     "execution_count": 9,
     "metadata": {},
     "output_type": "execute_result"
    }
   ],
   "source": [
    "X,T = loaddata('punjabi.mat',4)\n",
    "len(X),len(T)"
   ]
  },
  {
   "cell_type": "code",
   "execution_count": 10,
   "metadata": {},
   "outputs": [
    {
     "data": {
      "text/plain": [
       "(24092, 24092)"
      ]
     },
     "execution_count": 10,
     "metadata": {},
     "output_type": "execute_result"
    }
   ],
   "source": [
    "X,T = loaddata('rajasthani.mat',5)\n",
    "len(X),len(T)"
   ]
  },
  {
   "cell_type": "code",
   "execution_count": 11,
   "metadata": {},
   "outputs": [
    {
     "data": {
      "text/plain": [
       "(27027, 27027)"
      ]
     },
     "execution_count": 11,
     "metadata": {},
     "output_type": "execute_result"
    }
   ],
   "source": [
    "X,T = loaddata('tamil.mat',6)\n",
    "len(X),len(T)"
   ]
  },
  {
   "cell_type": "code",
   "execution_count": 12,
   "metadata": {},
   "outputs": [
    {
     "data": {
      "text/plain": [
       "(29906, 29906)"
      ]
     },
     "execution_count": 12,
     "metadata": {},
     "output_type": "execute_result"
    }
   ],
   "source": [
    "X,T = loaddata('telugu.mat',7)\n",
    "len(X),len(T)"
   ]
  },
  {
   "cell_type": "markdown",
   "metadata": {},
   "source": [
    "## Split Dataset"
   ]
  },
  {
   "cell_type": "code",
   "execution_count": 13,
   "metadata": {},
   "outputs": [
    {
     "name": "stderr",
     "output_type": "stream",
     "text": [
      "c:\\users\\shash\\anaconda3\\envs\\tensorflow-gpu\\lib\\site-packages\\sklearn\\model_selection\\_split.py:2026: FutureWarning: From version 0.21, test_size will always complement train_size unless both are specified.\n",
      "  FutureWarning)\n"
     ]
    },
    {
     "data": {
      "text/plain": [
       "((23924, 39, 39), (5982, 39, 39))"
      ]
     },
     "execution_count": 13,
     "metadata": {},
     "output_type": "execute_result"
    }
   ],
   "source": [
    "Xtrain, Xtest, Ytrain, Ytest = train_test_split(np.array(X),np.array(T), train_size=0.8, random_state=30)\n",
    "np.array(Xtrain).shape, np.array(Xtest).shape"
   ]
  },
  {
   "cell_type": "markdown",
   "metadata": {},
   "source": [
    "## Convert 2D dataset to a 1D vector"
   ]
  },
  {
   "cell_type": "code",
   "execution_count": 14,
   "metadata": {},
   "outputs": [],
   "source": [
    "batchSize=128\n",
    "num_classes=8\n",
    "epochs=100\n",
    "imageRows, imageCols =39,39"
   ]
  },
  {
   "cell_type": "code",
   "execution_count": 15,
   "metadata": {},
   "outputs": [],
   "source": [
    "Xtrain = Xtrain.reshape(Xtrain.shape[0], imageRows, imageCols, 1)\n",
    "Xtest = Xtest.reshape(Xtest.shape[0], imageRows,imageCols, 1)\n",
    "input_shape = (imageRows, imageCols, 1)\n",
    "Xtrain = Xtrain.astype('float32')\n",
    "Xtest = Xtest.astype('float32')"
   ]
  },
  {
   "cell_type": "code",
   "execution_count": 16,
   "metadata": {},
   "outputs": [
    {
     "data": {
      "text/plain": [
       "(39, 39, 1)"
      ]
     },
     "execution_count": 16,
     "metadata": {},
     "output_type": "execute_result"
    }
   ],
   "source": [
    "input_shape"
   ]
  },
  {
   "cell_type": "code",
   "execution_count": 17,
   "metadata": {},
   "outputs": [],
   "source": [
    "Ytrain = keras.utils.to_categorical(Ytrain, num_classes)\n",
    "Ytest = keras.utils.to_categorical(Ytest, num_classes)"
   ]
  },
  {
   "cell_type": "markdown",
   "metadata": {},
   "source": [
    "## Define CNN Model"
   ]
  },
  {
   "cell_type": "code",
   "execution_count": 18,
   "metadata": {},
   "outputs": [
    {
     "name": "stderr",
     "output_type": "stream",
     "text": [
      "c:\\users\\shash\\anaconda3\\envs\\tensorflow-gpu\\lib\\site-packages\\ipykernel_launcher.py:5: UserWarning: Update your `Conv2D` call to the Keras 2 API: `Conv2D(64, kernel_size=(3, 3), padding=\"same\", activation=\"relu\", input_shape=(39, 39, 1..., kernel_regularizer=<keras.reg...)`\n",
      "  \"\"\"\n",
      "c:\\users\\shash\\anaconda3\\envs\\tensorflow-gpu\\lib\\site-packages\\ipykernel_launcher.py:9: UserWarning: Update your `Conv2D` call to the Keras 2 API: `Conv2D(128, kernel_size=(3, 3), padding=\"same\", activation=\"relu\", kernel_regularizer=<keras.reg...)`\n",
      "  if __name__ == '__main__':\n",
      "c:\\users\\shash\\anaconda3\\envs\\tensorflow-gpu\\lib\\site-packages\\ipykernel_launcher.py:13: UserWarning: Update your `Conv2D` call to the Keras 2 API: `Conv2D(256, kernel_size=(3, 3), padding=\"same\", activation=\"relu\", kernel_regularizer=<keras.reg...)`\n",
      "  del sys.path[0]\n",
      "c:\\users\\shash\\anaconda3\\envs\\tensorflow-gpu\\lib\\site-packages\\ipykernel_launcher.py:17: UserWarning: Update your `Conv2D` call to the Keras 2 API: `Conv2D(256, kernel_size=(3, 3), padding=\"same\", activation=\"relu\", kernel_regularizer=<keras.reg...)`\n",
      "c:\\users\\shash\\anaconda3\\envs\\tensorflow-gpu\\lib\\site-packages\\ipykernel_launcher.py:21: UserWarning: Update your `Conv2D` call to the Keras 2 API: `Conv2D(512, kernel_size=(3, 3), padding=\"same\", activation=\"relu\", kernel_regularizer=<keras.reg...)`\n",
      "c:\\users\\shash\\anaconda3\\envs\\tensorflow-gpu\\lib\\site-packages\\ipykernel_launcher.py:25: UserWarning: Update your `Conv2D` call to the Keras 2 API: `Conv2D(512, kernel_size=(3, 3), padding=\"same\", activation=\"relu\", kernel_regularizer=<keras.reg...)`\n",
      "c:\\users\\shash\\anaconda3\\envs\\tensorflow-gpu\\lib\\site-packages\\ipykernel_launcher.py:29: UserWarning: Update your `Conv2D` call to the Keras 2 API: `Conv2D(512, kernel_size=(3, 3), padding=\"same\", activation=\"relu\", kernel_regularizer=<keras.reg...)`\n"
     ]
    }
   ],
   "source": [
    "weight_decay = 0.001\n",
    "\n",
    "model = Sequential()\n",
    "\n",
    "model.add(Conv2D(64, kernel_size=(3,3), W_regularizer=l2(weight_decay), padding=\"same\", activation=\"relu\", input_shape=input_shape))\n",
    "model.add(BatchNormalization())\n",
    "model.add(MaxPooling2D(pool_size=(2, 2), strides=(2, 2)))\n",
    "\n",
    "model.add(Conv2D(128, kernel_size=(3,3), W_regularizer=l2(weight_decay), padding=\"same\", activation=\"relu\"))\n",
    "model.add(BatchNormalization())\n",
    "model.add(MaxPooling2D(pool_size=(2, 2), strides=(2, 2)))\n",
    "\n",
    "model.add(Conv2D(256, kernel_size=(3,3), W_regularizer=l2(weight_decay), padding=\"same\", activation=\"relu\"))\n",
    "model.add(BatchNormalization())\n",
    "#model.add(MaxPooling2D(pool_size=(2, 2), strides=(2, 2)))\n",
    "\n",
    "model.add(Conv2D(256, kernel_size=(3,3), W_regularizer=l2(weight_decay), padding=\"same\", activation=\"relu\"))\n",
    "model.add(BatchNormalization())\n",
    "model.add(MaxPooling2D(pool_size=(2, 2), strides=(2, 2)))\n",
    "\n",
    "model.add(Conv2D(512, kernel_size=(3,3), W_regularizer=l2(weight_decay), padding=\"same\", activation=\"relu\"))\n",
    "model.add(BatchNormalization())\n",
    "#model.add(MaxPooling2D(pool_size=(2, 2), strides=(2, 2)))\n",
    "\n",
    "model.add(Conv2D(512, kernel_size=(3,3), W_regularizer=l2(weight_decay),padding=\"same\", activation=\"relu\"))\n",
    "model.add(BatchNormalization())\n",
    "model.add(MaxPooling2D(pool_size=(2, 2), strides=(2, 2)))\n",
    "\n",
    "model.add(Conv2D(512, kernel_size=(3,3), W_regularizer=l2(weight_decay), padding=\"same\", activation=\"relu\"))\n",
    "model.add(BatchNormalization())\n",
    "model.add(MaxPooling2D(pool_size=(2, 2), strides=(2, 2)))\n",
    "\n",
    "    # (bs, y, x, c) --> (bs, x, y, c)\n",
    "model.add(Permute((2, 1, 3)))\n",
    "\n",
    "    # (bs, x, y, c) --> (bs, x, y * c)\n",
    "bs, x, y, c = model.layers[-1].output_shape\n",
    "model.add(Reshape((x, y*c)))\n",
    "\n",
    "model.add(Bidirectional(LSTM(256, return_sequences=False), merge_mode=\"concat\"))\n",
    "model.add(Dense(num_classes, activation=\"softmax\"))\n"
   ]
  },
  {
   "cell_type": "code",
   "execution_count": 19,
   "metadata": {},
   "outputs": [
    {
     "name": "stdout",
     "output_type": "stream",
     "text": [
      "_________________________________________________________________\n",
      "Layer (type)                 Output Shape              Param #   \n",
      "=================================================================\n",
      "conv2d_1 (Conv2D)            (None, 39, 39, 64)        640       \n",
      "_________________________________________________________________\n",
      "batch_normalization_1 (Batch (None, 39, 39, 64)        256       \n",
      "_________________________________________________________________\n",
      "max_pooling2d_1 (MaxPooling2 (None, 19, 19, 64)        0         \n",
      "_________________________________________________________________\n",
      "conv2d_2 (Conv2D)            (None, 19, 19, 128)       73856     \n",
      "_________________________________________________________________\n",
      "batch_normalization_2 (Batch (None, 19, 19, 128)       512       \n",
      "_________________________________________________________________\n",
      "max_pooling2d_2 (MaxPooling2 (None, 9, 9, 128)         0         \n",
      "_________________________________________________________________\n",
      "conv2d_3 (Conv2D)            (None, 9, 9, 256)         295168    \n",
      "_________________________________________________________________\n",
      "batch_normalization_3 (Batch (None, 9, 9, 256)         1024      \n",
      "_________________________________________________________________\n",
      "conv2d_4 (Conv2D)            (None, 9, 9, 256)         590080    \n",
      "_________________________________________________________________\n",
      "batch_normalization_4 (Batch (None, 9, 9, 256)         1024      \n",
      "_________________________________________________________________\n",
      "max_pooling2d_3 (MaxPooling2 (None, 4, 4, 256)         0         \n",
      "_________________________________________________________________\n",
      "conv2d_5 (Conv2D)            (None, 4, 4, 512)         1180160   \n",
      "_________________________________________________________________\n",
      "batch_normalization_5 (Batch (None, 4, 4, 512)         2048      \n",
      "_________________________________________________________________\n",
      "conv2d_6 (Conv2D)            (None, 4, 4, 512)         2359808   \n",
      "_________________________________________________________________\n",
      "batch_normalization_6 (Batch (None, 4, 4, 512)         2048      \n",
      "_________________________________________________________________\n",
      "max_pooling2d_4 (MaxPooling2 (None, 2, 2, 512)         0         \n",
      "_________________________________________________________________\n",
      "conv2d_7 (Conv2D)            (None, 2, 2, 512)         2359808   \n",
      "_________________________________________________________________\n",
      "batch_normalization_7 (Batch (None, 2, 2, 512)         2048      \n",
      "_________________________________________________________________\n",
      "max_pooling2d_5 (MaxPooling2 (None, 1, 1, 512)         0         \n",
      "_________________________________________________________________\n",
      "permute_1 (Permute)          (None, 1, 1, 512)         0         \n",
      "_________________________________________________________________\n",
      "reshape_1 (Reshape)          (None, 1, 512)            0         \n",
      "_________________________________________________________________\n",
      "bidirectional_1 (Bidirection (None, 512)               1574912   \n",
      "_________________________________________________________________\n",
      "dense_1 (Dense)              (None, 8)                 4104      \n",
      "=================================================================\n",
      "Total params: 8,447,496\n",
      "Trainable params: 8,443,016\n",
      "Non-trainable params: 4,480\n",
      "_________________________________________________________________\n"
     ]
    }
   ],
   "source": [
    "model.summary()"
   ]
  },
  {
   "cell_type": "markdown",
   "metadata": {},
   "source": [
    "## Model Train"
   ]
  },
  {
   "cell_type": "code",
   "execution_count": 20,
   "metadata": {},
   "outputs": [],
   "source": [
    "model.compile(loss=keras.losses.categorical_crossentropy,optimizer=keras.optimizers.Adadelta(),metrics=['accuracy'])"
   ]
  },
  {
   "cell_type": "code",
   "execution_count": 21,
   "metadata": {},
   "outputs": [
    {
     "name": "stdout",
     "output_type": "stream",
     "text": [
      "Train on 23924 samples, validate on 5982 samples\n",
      "Epoch 1/100\n",
      "23924/23924 [==============================] - 27s 1ms/step - loss: 2.2563 - acc: 0.7439 - val_loss: 1.8166 - val_acc: 0.7994\n",
      "Epoch 2/100\n",
      "23924/23924 [==============================] - 22s 915us/step - loss: 1.2249 - acc: 0.9211 - val_loss: 1.1853 - val_acc: 0.8806\n",
      "Epoch 3/100\n",
      "23924/23924 [==============================] - 22s 908us/step - loss: 0.8049 - acc: 0.9524 - val_loss: 1.0098 - val_acc: 0.8648\n",
      "Epoch 4/100\n",
      "23924/23924 [==============================] - 22s 907us/step - loss: 0.5937 - acc: 0.9607 - val_loss: 0.5652 - val_acc: 0.9458\n",
      "Epoch 5/100\n",
      "23924/23924 [==============================] - 23s 952us/step - loss: 0.4546 - acc: 0.9708 - val_loss: 0.5055 - val_acc: 0.9398\n",
      "Epoch 6/100\n",
      "23924/23924 [==============================] - 21s 890us/step - loss: 0.3856 - acc: 0.9723 - val_loss: 0.8625 - val_acc: 0.8492\n",
      "Epoch 7/100\n",
      "23924/23924 [==============================] - 21s 887us/step - loss: 0.3417 - acc: 0.9762 - val_loss: 0.5053 - val_acc: 0.9164\n",
      "Epoch 8/100\n",
      "23924/23924 [==============================] - 21s 894us/step - loss: 0.3205 - acc: 0.9746 - val_loss: 0.5414 - val_acc: 0.9017\n",
      "Epoch 9/100\n",
      "23924/23924 [==============================] - 21s 898us/step - loss: 0.2925 - acc: 0.9782 - val_loss: 0.4742 - val_acc: 0.9256\n",
      "Epoch 10/100\n",
      "23924/23924 [==============================] - 21s 888us/step - loss: 0.2749 - acc: 0.9802 - val_loss: 0.3113 - val_acc: 0.9657\n",
      "Epoch 11/100\n",
      "23924/23924 [==============================] - 21s 891us/step - loss: 0.2676 - acc: 0.9807 - val_loss: 0.3750 - val_acc: 0.9455\n",
      "Epoch 12/100\n",
      "23924/23924 [==============================] - 21s 887us/step - loss: 0.2584 - acc: 0.9805 - val_loss: 0.8797 - val_acc: 0.8198\n",
      "Epoch 13/100\n",
      "23924/23924 [==============================] - 21s 886us/step - loss: 0.2463 - acc: 0.9828 - val_loss: 0.3444 - val_acc: 0.9522\n",
      "Epoch 14/100\n",
      "23924/23924 [==============================] - 21s 887us/step - loss: 0.2449 - acc: 0.9813 - val_loss: 0.4582 - val_acc: 0.9248\n",
      "Epoch 15/100\n",
      "23924/23924 [==============================] - 21s 896us/step - loss: 0.2378 - acc: 0.9813 - val_loss: 0.3881 - val_acc: 0.9400\n",
      "Epoch 16/100\n",
      "23924/23924 [==============================] - 21s 894us/step - loss: 0.2315 - acc: 0.9839 - val_loss: 0.3065 - val_acc: 0.9589\n",
      "Epoch 17/100\n",
      "23924/23924 [==============================] - 21s 886us/step - loss: 0.2262 - acc: 0.9847 - val_loss: 0.5126 - val_acc: 0.9049\n",
      "Epoch 18/100\n",
      "23924/23924 [==============================] - 21s 888us/step - loss: 0.2195 - acc: 0.9840 - val_loss: 0.2964 - val_acc: 0.9631\n",
      "Epoch 19/100\n",
      "23924/23924 [==============================] - 21s 891us/step - loss: 0.2170 - acc: 0.9839 - val_loss: 0.2635 - val_acc: 0.9686\n",
      "Epoch 20/100\n",
      "23924/23924 [==============================] - 21s 890us/step - loss: 0.2073 - acc: 0.9865 - val_loss: 0.5752 - val_acc: 0.8788\n",
      "Epoch 21/100\n",
      "23924/23924 [==============================] - 21s 891us/step - loss: 0.2120 - acc: 0.9833 - val_loss: 0.4682 - val_acc: 0.9136\n",
      "Epoch 22/100\n",
      "23924/23924 [==============================] - 21s 890us/step - loss: 0.2071 - acc: 0.9858 - val_loss: 0.2544 - val_acc: 0.9679\n",
      "Epoch 23/100\n",
      "23924/23924 [==============================] - 21s 888us/step - loss: 0.2045 - acc: 0.9850 - val_loss: 0.4050 - val_acc: 0.9316\n",
      "Epoch 24/100\n",
      "23924/23924 [==============================] - 21s 896us/step - loss: 0.2065 - acc: 0.9834 - val_loss: 0.2522 - val_acc: 0.9712\n",
      "Epoch 25/100\n",
      "23924/23924 [==============================] - 22s 904us/step - loss: 0.1893 - acc: 0.9885 - val_loss: 0.2778 - val_acc: 0.9594\n",
      "Epoch 26/100\n",
      "23924/23924 [==============================] - 21s 889us/step - loss: 0.2042 - acc: 0.9830 - val_loss: 0.2473 - val_acc: 0.9707\n",
      "Epoch 27/100\n",
      "23924/23924 [==============================] - 21s 883us/step - loss: 0.1828 - acc: 0.9884 - val_loss: 0.3010 - val_acc: 0.9517\n",
      "Epoch 28/100\n",
      "23924/23924 [==============================] - 22s 901us/step - loss: 0.1896 - acc: 0.9862 - val_loss: 0.2763 - val_acc: 0.9594\n",
      "Epoch 29/100\n",
      "23924/23924 [==============================] - 21s 892us/step - loss: 0.1798 - acc: 0.9896 - val_loss: 0.2567 - val_acc: 0.9629\n",
      "Epoch 30/100\n",
      "23924/23924 [==============================] - 21s 885us/step - loss: 0.1850 - acc: 0.9851 - val_loss: 0.2644 - val_acc: 0.9616\n",
      "Epoch 31/100\n",
      "23924/23924 [==============================] - 21s 887us/step - loss: 0.1760 - acc: 0.9881 - val_loss: 0.2391 - val_acc: 0.9694\n",
      "Epoch 32/100\n",
      "23924/23924 [==============================] - 21s 886us/step - loss: 0.1767 - acc: 0.9872 - val_loss: 0.2413 - val_acc: 0.9686\n",
      "Epoch 33/100\n",
      "23924/23924 [==============================] - 21s 892us/step - loss: 0.1762 - acc: 0.9870 - val_loss: 0.2338 - val_acc: 0.9672\n",
      "Epoch 34/100\n",
      "23924/23924 [==============================] - 21s 887us/step - loss: 0.1770 - acc: 0.9861 - val_loss: 0.3231 - val_acc: 0.9435\n",
      "Epoch 35/100\n",
      "23924/23924 [==============================] - 21s 890us/step - loss: 0.1730 - acc: 0.9877 - val_loss: 0.2426 - val_acc: 0.9621\n",
      "Epoch 36/100\n",
      "23924/23924 [==============================] - 21s 884us/step - loss: 0.1727 - acc: 0.9874 - val_loss: 0.2860 - val_acc: 0.9569\n",
      "Epoch 37/100\n",
      "23924/23924 [==============================] - 21s 884us/step - loss: 0.1666 - acc: 0.9885 - val_loss: 0.2533 - val_acc: 0.9626\n",
      "Epoch 38/100\n",
      "23924/23924 [==============================] - 21s 893us/step - loss: 0.1570 - acc: 0.9900 - val_loss: 0.2390 - val_acc: 0.9661\n",
      "Epoch 39/100\n",
      "23924/23924 [==============================] - 22s 919us/step - loss: 0.1642 - acc: 0.9883 - val_loss: 0.2007 - val_acc: 0.9781\n",
      "Epoch 40/100\n",
      "23924/23924 [==============================] - 21s 893us/step - loss: 0.1586 - acc: 0.9884 - val_loss: 0.2540 - val_acc: 0.9622\n",
      "Epoch 41/100\n",
      "23924/23924 [==============================] - 21s 889us/step - loss: 0.1660 - acc: 0.9876 - val_loss: 0.2442 - val_acc: 0.9642\n",
      "Epoch 42/100\n",
      "23924/23924 [==============================] - 21s 894us/step - loss: 0.1610 - acc: 0.9888 - val_loss: 0.1846 - val_acc: 0.9814\n",
      "Epoch 43/100\n",
      "23924/23924 [==============================] - 22s 904us/step - loss: 0.1580 - acc: 0.9881 - val_loss: 0.2617 - val_acc: 0.9579\n",
      "Epoch 44/100\n",
      "23924/23924 [==============================] - 21s 891us/step - loss: 0.1493 - acc: 0.9901 - val_loss: 0.2402 - val_acc: 0.9632\n",
      "Epoch 45/100\n",
      "23924/23924 [==============================] - 21s 886us/step - loss: 0.1519 - acc: 0.9897 - val_loss: 0.3223 - val_acc: 0.9373\n",
      "Epoch 46/100\n",
      "23924/23924 [==============================] - 21s 888us/step - loss: 0.1466 - acc: 0.9899 - val_loss: 0.5687 - val_acc: 0.8923\n",
      "Epoch 47/100\n",
      "23924/23924 [==============================] - 21s 885us/step - loss: 0.1441 - acc: 0.9906 - val_loss: 0.2130 - val_acc: 0.9697\n",
      "Epoch 48/100\n",
      "23924/23924 [==============================] - 21s 892us/step - loss: 0.1461 - acc: 0.9890 - val_loss: 0.2263 - val_acc: 0.9649\n",
      "Epoch 49/100\n",
      "23924/23924 [==============================] - 21s 886us/step - loss: 0.1458 - acc: 0.9886 - val_loss: 0.3146 - val_acc: 0.9463\n",
      "Epoch 50/100\n",
      "23924/23924 [==============================] - 21s 885us/step - loss: 0.1438 - acc: 0.9906 - val_loss: 0.3399 - val_acc: 0.9432\n",
      "Epoch 51/100\n",
      "23924/23924 [==============================] - 21s 884us/step - loss: 0.1409 - acc: 0.9918 - val_loss: 0.2120 - val_acc: 0.9662\n",
      "Epoch 52/100\n",
      "23924/23924 [==============================] - 21s 885us/step - loss: 0.1410 - acc: 0.9902 - val_loss: 0.1915 - val_acc: 0.9744\n",
      "Epoch 53/100\n",
      "23924/23924 [==============================] - 21s 882us/step - loss: 0.1421 - acc: 0.9878 - val_loss: 0.2999 - val_acc: 0.9493\n",
      "Epoch 54/100\n",
      "23924/23924 [==============================] - 21s 881us/step - loss: 0.1389 - acc: 0.9905 - val_loss: 0.2241 - val_acc: 0.9662\n",
      "Epoch 55/100\n",
      "23924/23924 [==============================] - 21s 881us/step - loss: 0.1374 - acc: 0.9901 - val_loss: 0.2598 - val_acc: 0.9517\n",
      "Epoch 56/100\n",
      "23924/23924 [==============================] - 21s 882us/step - loss: 0.1304 - acc: 0.9913 - val_loss: 0.4298 - val_acc: 0.9109\n",
      "Epoch 57/100\n",
      "23924/23924 [==============================] - 21s 883us/step - loss: 0.1369 - acc: 0.9899 - val_loss: 0.2191 - val_acc: 0.9654\n",
      "Epoch 58/100\n"
     ]
    },
    {
     "name": "stdout",
     "output_type": "stream",
     "text": [
      "23924/23924 [==============================] - 21s 881us/step - loss: 0.1382 - acc: 0.9889 - val_loss: 0.2017 - val_acc: 0.9714\n",
      "Epoch 59/100\n",
      "23924/23924 [==============================] - 21s 883us/step - loss: 0.1267 - acc: 0.9913 - val_loss: 0.2854 - val_acc: 0.9525\n",
      "Epoch 60/100\n",
      "23924/23924 [==============================] - 21s 885us/step - loss: 0.1321 - acc: 0.9906 - val_loss: 0.2354 - val_acc: 0.9585\n",
      "Epoch 61/100\n",
      "23924/23924 [==============================] - 21s 883us/step - loss: 0.1302 - acc: 0.9909 - val_loss: 0.1977 - val_acc: 0.9744\n",
      "Epoch 62/100\n",
      "23924/23924 [==============================] - 21s 883us/step - loss: 0.1317 - acc: 0.9894 - val_loss: 0.2880 - val_acc: 0.9502\n",
      "Epoch 63/100\n",
      "23924/23924 [==============================] - 21s 882us/step - loss: 0.1291 - acc: 0.9904 - val_loss: 0.4102 - val_acc: 0.9224\n",
      "Epoch 64/100\n",
      "23924/23924 [==============================] - 21s 884us/step - loss: 0.1314 - acc: 0.9905 - val_loss: 0.2372 - val_acc: 0.9626\n",
      "Epoch 65/100\n",
      "23924/23924 [==============================] - 21s 882us/step - loss: 0.1257 - acc: 0.9917 - val_loss: 0.2469 - val_acc: 0.9579\n",
      "Epoch 66/100\n",
      "23924/23924 [==============================] - 21s 884us/step - loss: 0.1134 - acc: 0.9936 - val_loss: 0.2345 - val_acc: 0.9590\n",
      "Epoch 67/100\n",
      "23924/23924 [==============================] - 21s 881us/step - loss: 0.1227 - acc: 0.9915 - val_loss: 0.2289 - val_acc: 0.9626\n",
      "Epoch 68/100\n",
      "23924/23924 [==============================] - 21s 882us/step - loss: 0.1246 - acc: 0.9906 - val_loss: 0.1942 - val_acc: 0.9716\n",
      "Epoch 69/100\n",
      "23924/23924 [==============================] - 21s 883us/step - loss: 0.1238 - acc: 0.9915 - val_loss: 0.2087 - val_acc: 0.9691\n",
      "Epoch 70/100\n",
      "23924/23924 [==============================] - 21s 881us/step - loss: 0.1189 - acc: 0.9921 - val_loss: 0.2176 - val_acc: 0.9621\n",
      "Epoch 71/100\n",
      "23924/23924 [==============================] - 21s 883us/step - loss: 0.1176 - acc: 0.9921 - val_loss: 0.2860 - val_acc: 0.9390\n",
      "Epoch 72/100\n",
      "23924/23924 [==============================] - 21s 884us/step - loss: 0.1172 - acc: 0.9919 - val_loss: 0.1906 - val_acc: 0.9689\n",
      "Epoch 73/100\n",
      "23924/23924 [==============================] - 21s 882us/step - loss: 0.1164 - acc: 0.9915 - val_loss: 0.2294 - val_acc: 0.9622\n",
      "Epoch 74/100\n",
      "23924/23924 [==============================] - 21s 884us/step - loss: 0.1191 - acc: 0.9910 - val_loss: 0.1678 - val_acc: 0.9784\n",
      "Epoch 75/100\n",
      "23924/23924 [==============================] - 21s 882us/step - loss: 0.1154 - acc: 0.9919 - val_loss: 0.1979 - val_acc: 0.9711\n",
      "Epoch 76/100\n",
      "23924/23924 [==============================] - 21s 881us/step - loss: 0.1149 - acc: 0.9924 - val_loss: 0.1844 - val_acc: 0.9728\n",
      "Epoch 77/100\n",
      "23924/23924 [==============================] - 21s 883us/step - loss: 0.1080 - acc: 0.9930 - val_loss: 0.2083 - val_acc: 0.9681\n",
      "Epoch 78/100\n",
      "23924/23924 [==============================] - 21s 882us/step - loss: 0.1214 - acc: 0.9899 - val_loss: 0.1654 - val_acc: 0.9764\n",
      "Epoch 79/100\n",
      "23924/23924 [==============================] - 21s 882us/step - loss: 0.1164 - acc: 0.9918 - val_loss: 0.1734 - val_acc: 0.9766\n",
      "Epoch 80/100\n",
      "23924/23924 [==============================] - 21s 884us/step - loss: 0.1080 - acc: 0.9932 - val_loss: 0.1620 - val_acc: 0.9779\n",
      "Epoch 81/100\n",
      "23924/23924 [==============================] - 21s 883us/step - loss: 0.1109 - acc: 0.9921 - val_loss: 0.1722 - val_acc: 0.9754\n",
      "Epoch 82/100\n",
      "23924/23924 [==============================] - 21s 884us/step - loss: 0.1110 - acc: 0.9921 - val_loss: 0.1714 - val_acc: 0.9754\n",
      "Epoch 83/100\n",
      "23924/23924 [==============================] - 21s 882us/step - loss: 0.1111 - acc: 0.9920 - val_loss: 0.3107 - val_acc: 0.9445\n",
      "Epoch 84/100\n",
      "23924/23924 [==============================] - 21s 882us/step - loss: 0.1100 - acc: 0.9926 - val_loss: 0.3491 - val_acc: 0.9336\n",
      "Epoch 85/100\n",
      "23924/23924 [==============================] - 21s 883us/step - loss: 0.1123 - acc: 0.9918 - val_loss: 0.1685 - val_acc: 0.9759\n",
      "Epoch 86/100\n",
      "23924/23924 [==============================] - 21s 884us/step - loss: 0.1049 - acc: 0.9933 - val_loss: 0.1868 - val_acc: 0.9696\n",
      "Epoch 87/100\n",
      "23924/23924 [==============================] - 21s 882us/step - loss: 0.1091 - acc: 0.9920 - val_loss: 0.2333 - val_acc: 0.9597\n",
      "Epoch 88/100\n",
      "23924/23924 [==============================] - 21s 881us/step - loss: 0.1055 - acc: 0.9926 - val_loss: 0.2921 - val_acc: 0.9435\n",
      "Epoch 89/100\n",
      "23924/23924 [==============================] - 21s 882us/step - loss: 0.1052 - acc: 0.9933 - val_loss: 0.1849 - val_acc: 0.9728\n",
      "Epoch 90/100\n",
      "23924/23924 [==============================] - 21s 883us/step - loss: 0.0999 - acc: 0.9936 - val_loss: 0.2180 - val_acc: 0.9629\n",
      "Epoch 91/100\n",
      "23924/23924 [==============================] - 21s 881us/step - loss: 0.0983 - acc: 0.9936 - val_loss: 0.2071 - val_acc: 0.9651\n",
      "Epoch 92/100\n",
      "23924/23924 [==============================] - 21s 883us/step - loss: 0.1041 - acc: 0.9924 - val_loss: 0.2590 - val_acc: 0.9517\n",
      "Epoch 93/100\n",
      "23924/23924 [==============================] - 21s 881us/step - loss: 0.1075 - acc: 0.9921 - val_loss: 0.1896 - val_acc: 0.9669\n",
      "Epoch 94/100\n",
      "23924/23924 [==============================] - 21s 884us/step - loss: 0.1048 - acc: 0.9921 - val_loss: 0.2179 - val_acc: 0.9612\n",
      "Epoch 95/100\n",
      "23924/23924 [==============================] - 21s 880us/step - loss: 0.0988 - acc: 0.9932 - val_loss: 0.2088 - val_acc: 0.9652\n",
      "Epoch 96/100\n",
      "23924/23924 [==============================] - 21s 882us/step - loss: 0.1022 - acc: 0.9924 - val_loss: 0.2133 - val_acc: 0.9641\n",
      "Epoch 97/100\n",
      "23924/23924 [==============================] - 21s 882us/step - loss: 0.1008 - acc: 0.9921 - val_loss: 0.1643 - val_acc: 0.9733\n",
      "Epoch 98/100\n",
      "23924/23924 [==============================] - 21s 882us/step - loss: 0.0945 - acc: 0.9933 - val_loss: 0.1793 - val_acc: 0.9709\n",
      "Epoch 99/100\n",
      "23924/23924 [==============================] - 21s 883us/step - loss: 0.1069 - acc: 0.9911 - val_loss: 0.1505 - val_acc: 0.9771\n",
      "Epoch 100/100\n",
      "23924/23924 [==============================] - 21s 882us/step - loss: 0.0991 - acc: 0.9934 - val_loss: 0.2060 - val_acc: 0.9627\n"
     ]
    }
   ],
   "source": [
    "speechTrainData=model.fit(Xtrain, Ytrain,batch_size=batchSize,epochs=epochs,verbose=1,validation_data=(Xtest, Ytest))"
   ]
  },
  {
   "cell_type": "code",
   "execution_count": 22,
   "metadata": {},
   "outputs": [
    {
     "data": {
      "image/png": "[encoded data removed]",
      "text/plain": [
       "<Figure size 432x288 with 1 Axes>"
      ]
     },
     "metadata": {},
     "output_type": "display_data"
    },
    {
     "data": {
      "image/png": "[encoded data removed]",
      "text/plain": [
       "<Figure size 432x288 with 1 Axes>"
      ]
     },
     "metadata": {},
     "output_type": "display_data"
    }
   ],
   "source": [
    "plt.plot(speechTrainData.history['acc'])\n",
    "plt.plot(speechTrainData.history['val_acc'])\n",
    "plt.title('Model Accuracy for CNN with Batch Size={}, Epochs={} '.format(batchSize,epochs))\n",
    "plt.ylabel('Accuracy')\n",
    "plt.xlabel('Epoch')\n",
    "plt.legend(['Train', 'Test'], loc='upper left')\n",
    "plt.show()\n",
    "# Plot Model  Loss\n",
    "plt.plot(speechTrainData.history['loss'])\n",
    "plt.plot(speechTrainData.history['val_loss'])\n",
    "plt.title('Model Loss for CNN with Batch Size={}, Epochs={} '.format(batchSize,epochs))\n",
    "plt.ylabel('Loss')\n",
    "plt.xlabel('Epoch')\n",
    "plt.legend(['Train', 'Test'], loc='upper left')\n",
    "plt.show()"
   ]
  },
  {
   "cell_type": "code",
   "execution_count": 23,
   "metadata": {},
   "outputs": [],
   "source": [
    "def ConfusionMatrix(actual,predicts,numberClasses,classname):\n",
    "    nc=numberClasses\n",
    "    confmat=np.zeros([nc,nc])\n",
    "    I = pd.Index(classname, name=\"rows\")\n",
    "    C = pd.Index(classname, name=\"columns\")\n",
    "    for ri in range (nc):\n",
    "        value=[]\n",
    "        trueIndex=np.where(actual[:,ri]==1)\n",
    "        for j in range (len(trueIndex[0])):\n",
    "            value.append(predict[trueIndex[0][j]])\n",
    "        for rj in range (nc):\n",
    "            confmat[ri][rj]=100*np.mean(value,axis=0)[rj]\n",
    "    df = pd.DataFrame(data=confmat, index=I, columns=C)\n",
    "    print(df)\n",
    "    return"
   ]
  },
  {
   "cell_type": "code",
   "execution_count": 24,
   "metadata": {},
   "outputs": [
    {
     "name": "stdout",
     "output_type": "stream",
     "text": [
      "Confusion Matrix for Train Data\n",
      "columns      Assamese    Bengali    Kannada  Malayalam    Punjabi  Rajasthani  \\\n",
      "rows                                                                            \n",
      "Assamese    99.905562   0.001514   0.004804   0.012597   0.004470    0.008297   \n",
      "Bengali      0.002416  95.124429   0.059934   4.776638   0.001694    0.002850   \n",
      "Kannada      0.034464   0.006112  99.338311   0.385437   0.021545    0.062039   \n",
      "Malayalam    0.035800   0.232431   0.109943  99.475962   0.003140    0.009776   \n",
      "Punjabi      4.824089   0.008477   0.040474   0.008410  94.714206    0.040597   \n",
      "Rajasthani   0.042117   0.013782   0.393302   0.351094   0.023904   98.646325   \n",
      "Tamil        0.043630   0.319870   0.566266   6.392008   0.029106    0.098892   \n",
      "Telugu       0.004597   0.001750   0.009452   0.038303   0.005829    0.025816   \n",
      "\n",
      "columns         Tamil     Telugu  \n",
      "rows                              \n",
      "Assamese     0.005688   0.057687  \n",
      "Bengali      0.028587   0.003470  \n",
      "Kannada      0.081532   0.070632  \n",
      "Malayalam    0.116729   0.016298  \n",
      "Punjabi      0.006457   0.357257  \n",
      "Rajasthani   0.101794   0.427655  \n",
      "Tamil       92.496622   0.053532  \n",
      "Telugu       0.002466  99.912393  \n"
     ]
    }
   ],
   "source": [
    "predict=model.predict(Xtrain)\n",
    "print('Confusion Matrix for Train Data')\n",
    "ConfusionMatrix(Ytrain,predict,num_classes,['Assamese','Bengali','Kannada','Malayalam','Punjabi','Rajasthani','Tamil','Telugu'])"
   ]
  },
  {
   "cell_type": "code",
   "execution_count": 25,
   "metadata": {
    "scrolled": false
   },
   "outputs": [
    {
     "name": "stdout",
     "output_type": "stream",
     "text": [
      "Confusion Matrix for Test Data\n",
      "columns      Assamese    Bengali    Kannada  Malayalam    Punjabi  Rajasthani  \\\n",
      "rows                                                                            \n",
      "Assamese    99.462986   0.003519   0.021256   0.140397   0.008616    0.026901   \n",
      "Bengali      0.004900  89.228219   0.127791  10.575354   0.002840    0.005791   \n",
      "Kannada      0.125534   0.063462  97.886664   1.271885   0.026132    0.079384   \n",
      "Malayalam    0.279778   1.619455   1.534715  95.742279   0.012412    0.052599   \n",
      "Punjabi      4.645595   0.014961   0.192924   0.026584  93.927532    0.266429   \n",
      "Rajasthani   0.205246   0.052148   1.395504   1.130102   0.057051   95.862186   \n",
      "Tamil        0.085624   1.084717   1.429446  11.114226   0.030614    0.203444   \n",
      "Telugu       0.170001   0.003671   0.042512   0.058644   0.010215    0.224109   \n",
      "\n",
      "columns         Tamil     Telugu  \n",
      "rows                              \n",
      "Assamese     0.012300   0.324312  \n",
      "Bengali      0.047567   0.007487  \n",
      "Kannada      0.136483   0.410514  \n",
      "Malayalam    0.662055   0.096736  \n",
      "Punjabi      0.018626   0.907386  \n",
      "Rajasthani   0.168496   1.129255  \n",
      "Tamil       85.930794   0.121082  \n",
      "Telugu       0.006511  99.484324  \n"
     ]
    }
   ],
   "source": [
    "predict=model.predict(Xtest)\n",
    "print('Confusion Matrix for Test Data')\n",
    "ConfusionMatrix(Ytest,predict,num_classes,['Assamese','Bengali','Kannada','Malayalam','Punjabi','Rajasthani','Tamil','Telugu'])"
   ]
  }
 ],
 "metadata": {
  "kernelspec": {
   "display_name": "Python 3",
   "language": "python",
   "name": "python3"
  },
  "language_info": {
   "codemirror_mode": {
    "name": "ipython",
    "version": 3
   },
   "file_extension": ".py",
   "mimetype": "text/x-python",
   "name": "python",
   "nbconvert_exporter": "python",
   "pygments_lexer": "ipython3",
   "version": "3.6.4"
  }
 },
 "nbformat": 4,
 "nbformat_minor": 2
}
