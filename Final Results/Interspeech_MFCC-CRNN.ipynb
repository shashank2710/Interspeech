{
 "cells": [
  {
   "cell_type": "markdown",
   "metadata": {},
   "source": [
    "# Interspeech\n"
   ]
  },
  {
   "cell_type": "code",
   "execution_count": 1,
   "metadata": {},
   "outputs": [],
   "source": [
    "import matplotlib.pyplot"
   ]
  },
  {
   "cell_type": "code",
   "execution_count": 2,
   "metadata": {},
   "outputs": [
    {
     "name": "stderr",
     "output_type": "stream",
     "text": [
      "Using TensorFlow backend.\n"
     ]
    }
   ],
   "source": [
    "import numpy as np\n",
    "import pandas as pd\n",
    "\n",
    "import scipy.io as sio\n",
    "import matplotlib.pyplot as plt\n",
    "%matplotlib inline\n",
    "from skimage import io\n",
    "from sklearn.model_selection import train_test_split\n",
    "import random\n",
    "\n",
    "import keras\n",
    "from keras import backend as K\n",
    "from keras import layers\n",
    "\n",
    "from keras.utils import np_utils\n",
    "from keras.models import Sequential\n",
    "from keras.layers import Dense, Dropout, Activation\n",
    "\n",
    "from keras.datasets import mnist\n",
    "from keras.layers import Dense, Dropout, Flatten\n",
    "from keras.layers import Conv2D, MaxPooling2D\n",
    "from keras.layers.convolutional import Convolution2D\n",
    "\n",
    "from keras.layers.core import Dense, Permute, Reshape\n",
    "from keras.layers.normalization import BatchNormalization\n",
    "from keras.layers.wrappers import Bidirectional\n",
    "from keras.layers.recurrent import LSTM\n",
    "from keras.models import Sequential\n",
    "from keras.regularizers import l2\n",
    "\n",
    "import tensorflow as tf"
   ]
  },
  {
   "cell_type": "code",
   "execution_count": 3,
   "metadata": {},
   "outputs": [],
   "source": [
    "global X, T\n",
    "X=[]\n",
    "T=[]"
   ]
  },
  {
   "cell_type": "code",
   "execution_count": 4,
   "metadata": {},
   "outputs": [],
   "source": [
    "def loaddata(filename,num):\n",
    "    f=sio.loadmat(filename)\n",
    "    data=f['cep']\n",
    "    data=np.asarray(data)\n",
    "    mean=np.mean(data,axis=0)\n",
    "    std=np.std(data,axis=0)\n",
    "    data=(data-mean)/std\n",
    "    data=np.asarray(np.vsplit(data[0:int(data.shape[0]/data.shape[1])*data.shape[1]],int(data.shape[0]/data.shape[1])))\n",
    "    for i in range (data.shape[0]):\n",
    "        X.append(data[i])\n",
    "        T.append(num)\n",
    "    return X, T"
   ]
  },
  {
   "cell_type": "code",
   "execution_count": 5,
   "metadata": {},
   "outputs": [
    {
     "data": {
      "text/plain": [
       "(5704, 5704)"
      ]
     },
     "execution_count": 5,
     "metadata": {},
     "output_type": "execute_result"
    }
   ],
   "source": [
    "X,T = loaddata('assamese.mat',0)\n",
    "len(X), len(T)"
   ]
  },
  {
   "cell_type": "code",
   "execution_count": 6,
   "metadata": {},
   "outputs": [
    {
     "data": {
      "text/plain": [
       "(8880, 8880)"
      ]
     },
     "execution_count": 6,
     "metadata": {},
     "output_type": "execute_result"
    }
   ],
   "source": [
    "X,T = loaddata('bengali.mat',1)\n",
    "len(X), len(T)"
   ]
  },
  {
   "cell_type": "code",
   "execution_count": 7,
   "metadata": {},
   "outputs": [
    {
     "data": {
      "text/plain": [
       "(15135, 15135)"
      ]
     },
     "execution_count": 7,
     "metadata": {},
     "output_type": "execute_result"
    }
   ],
   "source": [
    "X,T = loaddata('kannada.mat',2)\n",
    "len(X),len(T)"
   ]
  },
  {
   "cell_type": "code",
   "execution_count": 8,
   "metadata": {},
   "outputs": [
    {
     "data": {
      "text/plain": [
       "(18272, 18272)"
      ]
     },
     "execution_count": 8,
     "metadata": {},
     "output_type": "execute_result"
    }
   ],
   "source": [
    "X,T = loaddata('malayalam.mat',3)\n",
    "len(X),len(T)"
   ]
  },
  {
   "cell_type": "code",
   "execution_count": 9,
   "metadata": {},
   "outputs": [
    {
     "data": {
      "text/plain": [
       "(21083, 21083)"
      ]
     },
     "execution_count": 9,
     "metadata": {},
     "output_type": "execute_result"
    }
   ],
   "source": [
    "X,T = loaddata('punjabi.mat',4)\n",
    "len(X),len(T)"
   ]
  },
  {
   "cell_type": "code",
   "execution_count": 10,
   "metadata": {},
   "outputs": [
    {
     "data": {
      "text/plain": [
       "(24092, 24092)"
      ]
     },
     "execution_count": 10,
     "metadata": {},
     "output_type": "execute_result"
    }
   ],
   "source": [
    "X,T = loaddata('rajasthani.mat',5)\n",
    "len(X),len(T)"
   ]
  },
  {
   "cell_type": "code",
   "execution_count": 11,
   "metadata": {},
   "outputs": [
    {
     "data": {
      "text/plain": [
       "(27027, 27027)"
      ]
     },
     "execution_count": 11,
     "metadata": {},
     "output_type": "execute_result"
    }
   ],
   "source": [
    "X,T = loaddata('tamil.mat',6)\n",
    "len(X),len(T)"
   ]
  },
  {
   "cell_type": "code",
   "execution_count": 12,
   "metadata": {},
   "outputs": [
    {
     "data": {
      "text/plain": [
       "(29906, 29906)"
      ]
     },
     "execution_count": 12,
     "metadata": {},
     "output_type": "execute_result"
    }
   ],
   "source": [
    "X,T = loaddata('telugu.mat',7)\n",
    "len(X),len(T)"
   ]
  },
  {
   "cell_type": "markdown",
   "metadata": {},
   "source": [
    "## Split Dataset"
   ]
  },
  {
   "cell_type": "code",
   "execution_count": 13,
   "metadata": {},
   "outputs": [
    {
     "name": "stderr",
     "output_type": "stream",
     "text": [
      "c:\\users\\shash\\anaconda3\\envs\\tensorflow-gpu\\lib\\site-packages\\sklearn\\model_selection\\_split.py:2026: FutureWarning: From version 0.21, test_size will always complement train_size unless both are specified.\n",
      "  FutureWarning)\n"
     ]
    },
    {
     "data": {
      "text/plain": [
       "((23924, 39, 39), (5982, 39, 39))"
      ]
     },
     "execution_count": 13,
     "metadata": {},
     "output_type": "execute_result"
    }
   ],
   "source": [
    "Xtrain, Xtest, Ytrain, Ytest = train_test_split(np.array(X),np.array(T), train_size=0.8, random_state=30)\n",
    "np.array(Xtrain).shape, np.array(Xtest).shape"
   ]
  },
  {
   "cell_type": "markdown",
   "metadata": {},
   "source": [
    "## Convert 2D dataset to a 1D vector"
   ]
  },
  {
   "cell_type": "code",
   "execution_count": 14,
   "metadata": {},
   "outputs": [],
   "source": [
    "batchSize=128\n",
    "num_classes=8\n",
    "epochs=100\n",
    "imageRows, imageCols =39,39"
   ]
  },
  {
   "cell_type": "code",
   "execution_count": 15,
   "metadata": {},
   "outputs": [],
   "source": [
    "Xtrain = Xtrain.reshape(Xtrain.shape[0], imageRows, imageCols, 1)\n",
    "Xtest = Xtest.reshape(Xtest.shape[0], imageRows,imageCols, 1)\n",
    "input_shape = (imageRows, imageCols, 1)\n",
    "Xtrain = Xtrain.astype('float32')\n",
    "Xtest = Xtest.astype('float32')"
   ]
  },
  {
   "cell_type": "code",
   "execution_count": 16,
   "metadata": {},
   "outputs": [
    {
     "data": {
      "text/plain": [
       "(39, 39, 1)"
      ]
     },
     "execution_count": 16,
     "metadata": {},
     "output_type": "execute_result"
    }
   ],
   "source": [
    "input_shape"
   ]
  },
  {
   "cell_type": "code",
   "execution_count": 17,
   "metadata": {},
   "outputs": [],
   "source": [
    "Ytrain = keras.utils.to_categorical(Ytrain, num_classes)\n",
    "Ytest = keras.utils.to_categorical(Ytest, num_classes)"
   ]
  },
  {
   "cell_type": "markdown",
   "metadata": {},
   "source": [
    "## Define CNN Model"
   ]
  },
  {
   "cell_type": "code",
   "execution_count": 18,
   "metadata": {},
   "outputs": [
    {
     "name": "stderr",
     "output_type": "stream",
     "text": [
      "c:\\users\\shash\\anaconda3\\envs\\tensorflow-gpu\\lib\\site-packages\\ipykernel_launcher.py:5: UserWarning: Update your `Conv2D` call to the Keras 2 API: `Conv2D(64, kernel_size=(3, 3), padding=\"same\", activation=\"relu\", input_shape=(39, 39, 1..., kernel_regularizer=<keras.reg...)`\n",
      "  \"\"\"\n",
      "c:\\users\\shash\\anaconda3\\envs\\tensorflow-gpu\\lib\\site-packages\\ipykernel_launcher.py:9: UserWarning: Update your `Conv2D` call to the Keras 2 API: `Conv2D(128, kernel_size=(3, 3), padding=\"same\", activation=\"relu\", kernel_regularizer=<keras.reg...)`\n",
      "  if __name__ == '__main__':\n",
      "c:\\users\\shash\\anaconda3\\envs\\tensorflow-gpu\\lib\\site-packages\\ipykernel_launcher.py:13: UserWarning: Update your `Conv2D` call to the Keras 2 API: `Conv2D(256, kernel_size=(3, 3), padding=\"same\", activation=\"relu\", kernel_regularizer=<keras.reg...)`\n",
      "  del sys.path[0]\n",
      "c:\\users\\shash\\anaconda3\\envs\\tensorflow-gpu\\lib\\site-packages\\ipykernel_launcher.py:17: UserWarning: Update your `Conv2D` call to the Keras 2 API: `Conv2D(256, kernel_size=(3, 3), padding=\"same\", activation=\"relu\", kernel_regularizer=<keras.reg...)`\n",
      "c:\\users\\shash\\anaconda3\\envs\\tensorflow-gpu\\lib\\site-packages\\ipykernel_launcher.py:21: UserWarning: Update your `Conv2D` call to the Keras 2 API: `Conv2D(512, kernel_size=(3, 3), padding=\"same\", activation=\"relu\", kernel_regularizer=<keras.reg...)`\n",
      "c:\\users\\shash\\anaconda3\\envs\\tensorflow-gpu\\lib\\site-packages\\ipykernel_launcher.py:25: UserWarning: Update your `Conv2D` call to the Keras 2 API: `Conv2D(512, kernel_size=(3, 3), padding=\"same\", activation=\"relu\", kernel_regularizer=<keras.reg...)`\n",
      "c:\\users\\shash\\anaconda3\\envs\\tensorflow-gpu\\lib\\site-packages\\ipykernel_launcher.py:29: UserWarning: Update your `Conv2D` call to the Keras 2 API: `Conv2D(512, kernel_size=(3, 3), padding=\"same\", activation=\"relu\", kernel_regularizer=<keras.reg...)`\n"
     ]
    }
   ],
   "source": [
    "weight_decay = 0.001\n",
    "\n",
    "model = Sequential()\n",
    "\n",
    "model.add(Conv2D(64, kernel_size=(3,3), W_regularizer=l2(weight_decay), padding=\"same\", activation=\"relu\", input_shape=input_shape))\n",
    "model.add(BatchNormalization())\n",
    "model.add(MaxPooling2D(pool_size=(2, 2), strides=(2, 2)))\n",
    "\n",
    "model.add(Conv2D(128, kernel_size=(3,3), W_regularizer=l2(weight_decay), padding=\"same\", activation=\"relu\"))\n",
    "model.add(BatchNormalization())\n",
    "model.add(MaxPooling2D(pool_size=(2, 2), strides=(2, 2)))\n",
    "\n",
    "model.add(Conv2D(256, kernel_size=(3,3), W_regularizer=l2(weight_decay), padding=\"same\", activation=\"relu\"))\n",
    "model.add(BatchNormalization())\n",
    "#model.add(MaxPooling2D(pool_size=(2, 2), strides=(2, 2)))\n",
    "\n",
    "model.add(Conv2D(256, kernel_size=(3,3), W_regularizer=l2(weight_decay), padding=\"same\", activation=\"relu\"))\n",
    "model.add(BatchNormalization())\n",
    "model.add(MaxPooling2D(pool_size=(2, 2), strides=(2, 2)))\n",
    "\n",
    "model.add(Conv2D(512, kernel_size=(3,3), W_regularizer=l2(weight_decay), padding=\"same\", activation=\"relu\"))\n",
    "model.add(BatchNormalization())\n",
    "#model.add(MaxPooling2D(pool_size=(2, 2), strides=(2, 2)))\n",
    "\n",
    "model.add(Conv2D(512, kernel_size=(3,3), W_regularizer=l2(weight_decay),padding=\"same\", activation=\"relu\"))\n",
    "model.add(BatchNormalization())\n",
    "model.add(MaxPooling2D(pool_size=(2, 2), strides=(2, 2)))\n",
    "\n",
    "model.add(Conv2D(512, kernel_size=(3,3), W_regularizer=l2(weight_decay), padding=\"same\", activation=\"relu\"))\n",
    "model.add(BatchNormalization())\n",
    "model.add(MaxPooling2D(pool_size=(2, 2), strides=(2, 2)))\n",
    "\n",
    "    # (bs, y, x, c) --> (bs, x, y, c)\n",
    "model.add(Permute((2, 1, 3)))\n",
    "\n",
    "    # (bs, x, y, c) --> (bs, x, y * c)\n",
    "bs, x, y, c = model.layers[-1].output_shape\n",
    "model.add(Reshape((x, y*c)))\n",
    "\n",
    "model.add(Bidirectional(LSTM(256, return_sequences=False), merge_mode=\"concat\"))\n",
    "model.add(Dense(num_classes, activation=\"softmax\"))\n"
   ]
  },
  {
   "cell_type": "code",
   "execution_count": 19,
   "metadata": {},
   "outputs": [
    {
     "name": "stdout",
     "output_type": "stream",
     "text": [
      "_________________________________________________________________\n",
      "Layer (type)                 Output Shape              Param #   \n",
      "=================================================================\n",
      "conv2d_1 (Conv2D)            (None, 39, 39, 64)        640       \n",
      "_________________________________________________________________\n",
      "batch_normalization_1 (Batch (None, 39, 39, 64)        256       \n",
      "_________________________________________________________________\n",
      "max_pooling2d_1 (MaxPooling2 (None, 19, 19, 64)        0         \n",
      "_________________________________________________________________\n",
      "conv2d_2 (Conv2D)            (None, 19, 19, 128)       73856     \n",
      "_________________________________________________________________\n",
      "batch_normalization_2 (Batch (None, 19, 19, 128)       512       \n",
      "_________________________________________________________________\n",
      "max_pooling2d_2 (MaxPooling2 (None, 9, 9, 128)         0         \n",
      "_________________________________________________________________\n",
      "conv2d_3 (Conv2D)            (None, 9, 9, 256)         295168    \n",
      "_________________________________________________________________\n",
      "batch_normalization_3 (Batch (None, 9, 9, 256)         1024      \n",
      "_________________________________________________________________\n",
      "conv2d_4 (Conv2D)            (None, 9, 9, 256)         590080    \n",
      "_________________________________________________________________\n",
      "batch_normalization_4 (Batch (None, 9, 9, 256)         1024      \n",
      "_________________________________________________________________\n",
      "max_pooling2d_3 (MaxPooling2 (None, 4, 4, 256)         0         \n",
      "_________________________________________________________________\n",
      "conv2d_5 (Conv2D)            (None, 4, 4, 512)         1180160   \n",
      "_________________________________________________________________\n",
      "batch_normalization_5 (Batch (None, 4, 4, 512)         2048      \n",
      "_________________________________________________________________\n",
      "conv2d_6 (Conv2D)            (None, 4, 4, 512)         2359808   \n",
      "_________________________________________________________________\n",
      "batch_normalization_6 (Batch (None, 4, 4, 512)         2048      \n",
      "_________________________________________________________________\n",
      "max_pooling2d_4 (MaxPooling2 (None, 2, 2, 512)         0         \n",
      "_________________________________________________________________\n",
      "conv2d_7 (Conv2D)            (None, 2, 2, 512)         2359808   \n",
      "_________________________________________________________________\n",
      "batch_normalization_7 (Batch (None, 2, 2, 512)         2048      \n",
      "_________________________________________________________________\n",
      "max_pooling2d_5 (MaxPooling2 (None, 1, 1, 512)         0         \n",
      "_________________________________________________________________\n",
      "permute_1 (Permute)          (None, 1, 1, 512)         0         \n",
      "_________________________________________________________________\n",
      "reshape_1 (Reshape)          (None, 1, 512)            0         \n",
      "_________________________________________________________________\n",
      "bidirectional_1 (Bidirection (None, 512)               1574912   \n",
      "_________________________________________________________________\n",
      "dense_1 (Dense)              (None, 8)                 4104      \n",
      "=================================================================\n",
      "Total params: 8,447,496\n",
      "Trainable params: 8,443,016\n",
      "Non-trainable params: 4,480\n",
      "_________________________________________________________________\n"
     ]
    }
   ],
   "source": [
    "model.summary()"
   ]
  },
  {
   "cell_type": "markdown",
   "metadata": {},
   "source": [
    "## Model Train"
   ]
  },
  {
   "cell_type": "code",
   "execution_count": 20,
   "metadata": {},
   "outputs": [],
   "source": [
    "model.compile(loss=keras.losses.categorical_crossentropy,optimizer=keras.optimizers.Adadelta(),metrics=['accuracy'])"
   ]
  },
  {
   "cell_type": "code",
   "execution_count": 21,
   "metadata": {},
   "outputs": [
    {
     "name": "stdout",
     "output_type": "stream",
     "text": [
      "Train on 23924 samples, validate on 5982 samples\n",
      "Epoch 1/100\n",
      "23924/23924 [==============================] - 27s 1ms/step - loss: 2.2796 - acc: 0.7471 - val_loss: 2.8311 - val_acc: 0.6065\n",
      "Epoch 2/100\n",
      "23924/23924 [==============================] - 22s 909us/step - loss: 1.2482 - acc: 0.9256 - val_loss: 1.2719 - val_acc: 0.8566\n",
      "Epoch 3/100\n",
      "23924/23924 [==============================] - 22s 913us/step - loss: 0.8392 - acc: 0.9499 - val_loss: 0.8206 - val_acc: 0.9199\n",
      "Epoch 4/100\n",
      "23924/23924 [==============================] - 22s 911us/step - loss: 0.6219 - acc: 0.9595 - val_loss: 0.9280 - val_acc: 0.8485\n",
      "Epoch 5/100\n",
      "23924/23924 [==============================] - 22s 909us/step - loss: 0.4909 - acc: 0.9650 - val_loss: 0.5777 - val_acc: 0.9258\n",
      "Epoch 6/100\n",
      "23924/23924 [==============================] - 22s 912us/step - loss: 0.4172 - acc: 0.9709 - val_loss: 0.5091 - val_acc: 0.9330\n",
      "Epoch 7/100\n",
      "23924/23924 [==============================] - 22s 909us/step - loss: 0.3687 - acc: 0.9727 - val_loss: 0.4765 - val_acc: 0.9355\n",
      "Epoch 8/100\n",
      "23924/23924 [==============================] - 22s 910us/step - loss: 0.3422 - acc: 0.9753 - val_loss: 0.7086 - val_acc: 0.8694\n",
      "Epoch 9/100\n",
      "23924/23924 [==============================] - 22s 912us/step - loss: 0.3224 - acc: 0.9767 - val_loss: 0.3441 - val_acc: 0.9649\n",
      "Epoch 10/100\n",
      "23924/23924 [==============================] - 22s 913us/step - loss: 0.2984 - acc: 0.9788 - val_loss: 0.5123 - val_acc: 0.9199\n",
      "Epoch 11/100\n",
      "23924/23924 [==============================] - 22s 910us/step - loss: 0.2898 - acc: 0.9790 - val_loss: 0.4137 - val_acc: 0.9412\n",
      "Epoch 12/100\n",
      "23924/23924 [==============================] - 22s 911us/step - loss: 0.2764 - acc: 0.9807 - val_loss: 0.3531 - val_acc: 0.9545\n",
      "Epoch 13/100\n",
      "23924/23924 [==============================] - 22s 912us/step - loss: 0.2667 - acc: 0.9814 - val_loss: 0.3885 - val_acc: 0.9458\n",
      "Epoch 14/100\n",
      "23924/23924 [==============================] - 22s 912us/step - loss: 0.2575 - acc: 0.9817 - val_loss: 0.4073 - val_acc: 0.9358\n",
      "Epoch 15/100\n",
      "23924/23924 [==============================] - 22s 912us/step - loss: 0.2483 - acc: 0.9834 - val_loss: 0.5205 - val_acc: 0.9009\n",
      "Epoch 16/100\n",
      "23924/23924 [==============================] - 24s 996us/step - loss: 0.2507 - acc: 0.9822 - val_loss: 0.3224 - val_acc: 0.9605\n",
      "Epoch 17/100\n",
      "23924/23924 [==============================] - 22s 926us/step - loss: 0.2460 - acc: 0.9815 - val_loss: 0.9337 - val_acc: 0.7987\n",
      "Epoch 18/100\n",
      "23924/23924 [==============================] - 22s 925us/step - loss: 0.2345 - acc: 0.9838 - val_loss: 0.3395 - val_acc: 0.9535\n",
      "Epoch 19/100\n",
      "23924/23924 [==============================] - 22s 929us/step - loss: 0.2300 - acc: 0.9835 - val_loss: 0.3904 - val_acc: 0.9365\n",
      "Epoch 20/100\n",
      "23924/23924 [==============================] - 22s 927us/step - loss: 0.2313 - acc: 0.9840 - val_loss: 0.3422 - val_acc: 0.9497\n",
      "Epoch 21/100\n",
      "23924/23924 [==============================] - 22s 932us/step - loss: 0.2232 - acc: 0.9857 - val_loss: 0.3516 - val_acc: 0.9407\n",
      "Epoch 22/100\n",
      "23924/23924 [==============================] - 22s 929us/step - loss: 0.2226 - acc: 0.9834 - val_loss: 0.3864 - val_acc: 0.9388\n",
      "Epoch 23/100\n",
      "23924/23924 [==============================] - 22s 927us/step - loss: 0.2131 - acc: 0.9858 - val_loss: 0.3723 - val_acc: 0.9361\n",
      "Epoch 24/100\n",
      "23924/23924 [==============================] - 22s 928us/step - loss: 0.2147 - acc: 0.9856 - val_loss: 0.3948 - val_acc: 0.9361\n",
      "Epoch 25/100\n",
      "23924/23924 [==============================] - 22s 927us/step - loss: 0.2179 - acc: 0.9845 - val_loss: 0.3022 - val_acc: 0.9631\n",
      "Epoch 26/100\n",
      "23924/23924 [==============================] - 22s 926us/step - loss: 0.2097 - acc: 0.9860 - val_loss: 0.2729 - val_acc: 0.9654\n",
      "Epoch 27/100\n",
      "23924/23924 [==============================] - 22s 930us/step - loss: 0.2019 - acc: 0.9860 - val_loss: 0.3204 - val_acc: 0.9509\n",
      "Epoch 28/100\n",
      "23924/23924 [==============================] - 22s 926us/step - loss: 0.1962 - acc: 0.9877 - val_loss: 0.8963 - val_acc: 0.8332\n",
      "Epoch 29/100\n",
      "23924/23924 [==============================] - 22s 930us/step - loss: 0.1998 - acc: 0.9873 - val_loss: 0.3165 - val_acc: 0.9549\n",
      "Epoch 30/100\n",
      "23924/23924 [==============================] - 22s 924us/step - loss: 0.2035 - acc: 0.9854 - val_loss: 0.3275 - val_acc: 0.9450\n",
      "Epoch 31/100\n",
      "23924/23924 [==============================] - 22s 928us/step - loss: 0.1928 - acc: 0.9869 - val_loss: 0.2866 - val_acc: 0.9624\n",
      "Epoch 32/100\n",
      "23924/23924 [==============================] - 22s 928us/step - loss: 0.1922 - acc: 0.9866 - val_loss: 0.4852 - val_acc: 0.9117\n",
      "Epoch 33/100\n",
      "23924/23924 [==============================] - 22s 926us/step - loss: 0.1905 - acc: 0.9865 - val_loss: 0.3038 - val_acc: 0.9554\n",
      "Epoch 34/100\n",
      "23924/23924 [==============================] - 22s 929us/step - loss: 0.1829 - acc: 0.9887 - val_loss: 0.2941 - val_acc: 0.9529\n",
      "Epoch 35/100\n",
      "23924/23924 [==============================] - 22s 931us/step - loss: 0.1848 - acc: 0.9875 - val_loss: 0.3378 - val_acc: 0.9465\n",
      "Epoch 36/100\n",
      "23924/23924 [==============================] - 22s 931us/step - loss: 0.1780 - acc: 0.9885 - val_loss: 0.3707 - val_acc: 0.9360\n",
      "Epoch 37/100\n",
      "23924/23924 [==============================] - 22s 924us/step - loss: 0.1847 - acc: 0.9867 - val_loss: 0.4761 - val_acc: 0.9156\n",
      "Epoch 38/100\n",
      "23924/23924 [==============================] - 22s 928us/step - loss: 0.1736 - acc: 0.9888 - val_loss: 0.2779 - val_acc: 0.9607\n",
      "Epoch 39/100\n",
      "23924/23924 [==============================] - 22s 929us/step - loss: 0.1791 - acc: 0.9868 - val_loss: 0.2575 - val_acc: 0.9674\n",
      "Epoch 40/100\n",
      "23924/23924 [==============================] - 22s 927us/step - loss: 0.1734 - acc: 0.9883 - val_loss: 0.2397 - val_acc: 0.9707\n",
      "Epoch 41/100\n",
      "23924/23924 [==============================] - 22s 925us/step - loss: 0.1648 - acc: 0.9897 - val_loss: 0.2606 - val_acc: 0.9641\n",
      "Epoch 42/100\n",
      "23924/23924 [==============================] - 22s 932us/step - loss: 0.1620 - acc: 0.9901 - val_loss: 0.2821 - val_acc: 0.9572\n",
      "Epoch 43/100\n",
      "23924/23924 [==============================] - 22s 921us/step - loss: 0.1700 - acc: 0.9873 - val_loss: 0.2728 - val_acc: 0.9600\n",
      "Epoch 44/100\n",
      "23924/23924 [==============================] - 22s 929us/step - loss: 0.1618 - acc: 0.9896 - val_loss: 0.2577 - val_acc: 0.9617\n",
      "Epoch 45/100\n",
      "23924/23924 [==============================] - 22s 927us/step - loss: 0.1573 - acc: 0.9908 - val_loss: 0.2793 - val_acc: 0.9535\n",
      "Epoch 46/100\n",
      "23924/23924 [==============================] - 22s 925us/step - loss: 0.1611 - acc: 0.9888 - val_loss: 0.3019 - val_acc: 0.9487\n",
      "Epoch 47/100\n",
      "23924/23924 [==============================] - 22s 926us/step - loss: 0.1585 - acc: 0.9895 - val_loss: 0.2865 - val_acc: 0.9525\n",
      "Epoch 48/100\n",
      "23924/23924 [==============================] - 22s 923us/step - loss: 0.1617 - acc: 0.9880 - val_loss: 0.3995 - val_acc: 0.9236\n",
      "Epoch 49/100\n",
      "23924/23924 [==============================] - 22s 924us/step - loss: 0.1513 - acc: 0.9902 - val_loss: 0.2932 - val_acc: 0.9529\n",
      "Epoch 50/100\n",
      "23924/23924 [==============================] - 22s 924us/step - loss: 0.1542 - acc: 0.9898 - val_loss: 0.2788 - val_acc: 0.9554\n",
      "Epoch 51/100\n",
      "23924/23924 [==============================] - 22s 925us/step - loss: 0.1464 - acc: 0.9906 - val_loss: 0.2843 - val_acc: 0.9519\n",
      "Epoch 52/100\n",
      "23924/23924 [==============================] - 22s 927us/step - loss: 0.1477 - acc: 0.9901 - val_loss: 0.2411 - val_acc: 0.9666\n",
      "Epoch 53/100\n",
      "23924/23924 [==============================] - 22s 916us/step - loss: 0.1466 - acc: 0.9903 - val_loss: 0.3074 - val_acc: 0.9470\n",
      "Epoch 54/100\n",
      "23924/23924 [==============================] - 22s 914us/step - loss: 0.1461 - acc: 0.9903 - val_loss: 0.2802 - val_acc: 0.9544\n",
      "Epoch 55/100\n",
      "23924/23924 [==============================] - 22s 912us/step - loss: 0.1521 - acc: 0.9881 - val_loss: 0.2340 - val_acc: 0.9659\n",
      "Epoch 56/100\n",
      "23924/23924 [==============================] - 22s 914us/step - loss: 0.1413 - acc: 0.9911 - val_loss: 0.2172 - val_acc: 0.9684\n",
      "Epoch 57/100\n",
      "23924/23924 [==============================] - 22s 911us/step - loss: 0.1438 - acc: 0.9897 - val_loss: 0.3232 - val_acc: 0.9417\n",
      "Epoch 58/100\n",
      "23924/23924 [==============================] - 22s 914us/step - loss: 0.1367 - acc: 0.9918 - val_loss: 0.3016 - val_acc: 0.9457\n"
     ]
    },
    {
     "name": "stdout",
     "output_type": "stream",
     "text": [
      "Epoch 59/100\n",
      "23924/23924 [==============================] - 22s 910us/step - loss: 0.1395 - acc: 0.9908 - val_loss: 0.2201 - val_acc: 0.9687\n",
      "Epoch 60/100\n",
      "23924/23924 [==============================] - 22s 911us/step - loss: 0.1360 - acc: 0.9907 - val_loss: 0.2528 - val_acc: 0.9594\n",
      "Epoch 61/100\n",
      "23924/23924 [==============================] - 22s 911us/step - loss: 0.1412 - acc: 0.9899 - val_loss: 0.2802 - val_acc: 0.9545\n",
      "Epoch 62/100\n",
      "23924/23924 [==============================] - 22s 910us/step - loss: 0.1410 - acc: 0.9905 - val_loss: 0.2434 - val_acc: 0.9632\n",
      "Epoch 63/100\n",
      "23924/23924 [==============================] - 22s 910us/step - loss: 0.1309 - acc: 0.9919 - val_loss: 0.3106 - val_acc: 0.9472\n",
      "Epoch 64/100\n",
      "23924/23924 [==============================] - 22s 907us/step - loss: 0.1413 - acc: 0.9895 - val_loss: 0.2133 - val_acc: 0.9714\n",
      "Epoch 65/100\n",
      "23924/23924 [==============================] - 22s 910us/step - loss: 0.1319 - acc: 0.9920 - val_loss: 0.2950 - val_acc: 0.9472\n",
      "Epoch 66/100\n",
      "23924/23924 [==============================] - 22s 910us/step - loss: 0.1355 - acc: 0.9905 - val_loss: 0.2028 - val_acc: 0.9706\n",
      "Epoch 67/100\n",
      "23924/23924 [==============================] - 22s 911us/step - loss: 0.1330 - acc: 0.9904 - val_loss: 0.2044 - val_acc: 0.9686\n",
      "Epoch 68/100\n",
      "23924/23924 [==============================] - 22s 911us/step - loss: 0.1248 - acc: 0.9928 - val_loss: 0.2265 - val_acc: 0.9609\n",
      "Epoch 69/100\n",
      "23924/23924 [==============================] - 23s 959us/step - loss: 0.1361 - acc: 0.9894 - val_loss: 0.3759 - val_acc: 0.9346\n",
      "Epoch 70/100\n",
      "23924/23924 [==============================] - 22s 940us/step - loss: 0.1286 - acc: 0.9909 - val_loss: 0.2907 - val_acc: 0.9440\n",
      "Epoch 71/100\n",
      "23924/23924 [==============================] - 22s 921us/step - loss: 0.1278 - acc: 0.9924 - val_loss: 0.2820 - val_acc: 0.9539\n",
      "Epoch 72/100\n",
      "23924/23924 [==============================] - 22s 921us/step - loss: 0.1315 - acc: 0.9897 - val_loss: 0.3197 - val_acc: 0.9514\n",
      "Epoch 73/100\n",
      "23924/23924 [==============================] - 22s 923us/step - loss: 0.1241 - acc: 0.9929 - val_loss: 0.2379 - val_acc: 0.9594\n",
      "Epoch 74/100\n",
      "23924/23924 [==============================] - 22s 922us/step - loss: 0.1271 - acc: 0.9917 - val_loss: 0.2529 - val_acc: 0.9555\n",
      "Epoch 75/100\n",
      "23924/23924 [==============================] - 22s 922us/step - loss: 0.1262 - acc: 0.9911 - val_loss: 0.2959 - val_acc: 0.9514\n",
      "Epoch 76/100\n",
      "23924/23924 [==============================] - 22s 924us/step - loss: 0.1243 - acc: 0.9918 - val_loss: 0.5065 - val_acc: 0.9017\n",
      "Epoch 77/100\n",
      "23924/23924 [==============================] - 22s 920us/step - loss: 0.1184 - acc: 0.9930 - val_loss: 0.4589 - val_acc: 0.9124\n",
      "Epoch 78/100\n",
      "23924/23924 [==============================] - 22s 921us/step - loss: 0.1303 - acc: 0.9894 - val_loss: 0.2073 - val_acc: 0.9689\n",
      "Epoch 79/100\n",
      "23924/23924 [==============================] - 22s 920us/step - loss: 0.1206 - acc: 0.9918 - val_loss: 0.2365 - val_acc: 0.9639\n",
      "Epoch 80/100\n",
      "23924/23924 [==============================] - 22s 918us/step - loss: 0.1237 - acc: 0.9913 - val_loss: 0.2072 - val_acc: 0.9709\n",
      "Epoch 81/100\n",
      "23924/23924 [==============================] - 22s 926us/step - loss: 0.1238 - acc: 0.9913 - val_loss: 0.2363 - val_acc: 0.9637\n",
      "Epoch 82/100\n",
      "23924/23924 [==============================] - 22s 923us/step - loss: 0.1214 - acc: 0.9917 - val_loss: 0.2476 - val_acc: 0.9592\n",
      "Epoch 83/100\n",
      "23924/23924 [==============================] - 22s 923us/step - loss: 0.1191 - acc: 0.9924 - val_loss: 0.2633 - val_acc: 0.9564\n",
      "Epoch 84/100\n",
      "23924/23924 [==============================] - 22s 921us/step - loss: 0.1192 - acc: 0.9918 - val_loss: 0.2337 - val_acc: 0.9599\n",
      "Epoch 85/100\n",
      "23924/23924 [==============================] - 22s 925us/step - loss: 0.1161 - acc: 0.9924 - val_loss: 0.2287 - val_acc: 0.9600\n",
      "Epoch 86/100\n",
      "23924/23924 [==============================] - 22s 923us/step - loss: 0.1142 - acc: 0.9929 - val_loss: 0.6010 - val_acc: 0.8786\n",
      "Epoch 87/100\n",
      "23924/23924 [==============================] - 22s 923us/step - loss: 0.1129 - acc: 0.9927 - val_loss: 0.2356 - val_acc: 0.9624\n",
      "Epoch 88/100\n",
      "23924/23924 [==============================] - 22s 922us/step - loss: 0.1188 - acc: 0.9912 - val_loss: 0.2068 - val_acc: 0.9651\n",
      "Epoch 89/100\n",
      "23924/23924 [==============================] - 22s 921us/step - loss: 0.1109 - acc: 0.9928 - val_loss: 0.2022 - val_acc: 0.9689\n",
      "Epoch 90/100\n",
      "23924/23924 [==============================] - 22s 923us/step - loss: 0.1165 - acc: 0.9920 - val_loss: 0.1763 - val_acc: 0.9748\n",
      "Epoch 91/100\n",
      "23924/23924 [==============================] - 22s 918us/step - loss: 0.1135 - acc: 0.9917 - val_loss: 0.2421 - val_acc: 0.9597\n",
      "Epoch 92/100\n",
      "23924/23924 [==============================] - 22s 918us/step - loss: 0.1102 - acc: 0.9926 - val_loss: 0.2213 - val_acc: 0.9614\n",
      "Epoch 93/100\n",
      "23924/23924 [==============================] - 22s 919us/step - loss: 0.1105 - acc: 0.9928 - val_loss: 0.2688 - val_acc: 0.9517\n",
      "Epoch 94/100\n",
      "23924/23924 [==============================] - 22s 918us/step - loss: 0.1084 - acc: 0.9931 - val_loss: 0.3949 - val_acc: 0.9413\n",
      "Epoch 95/100\n",
      "23924/23924 [==============================] - 22s 920us/step - loss: 0.1053 - acc: 0.9931 - val_loss: 0.8264 - val_acc: 0.8287\n",
      "Epoch 96/100\n",
      "23924/23924 [==============================] - 22s 923us/step - loss: 0.1090 - acc: 0.9927 - val_loss: 0.2240 - val_acc: 0.9589\n",
      "Epoch 97/100\n",
      "23924/23924 [==============================] - 22s 921us/step - loss: 0.1132 - acc: 0.9915 - val_loss: 0.2479 - val_acc: 0.9574\n",
      "Epoch 98/100\n",
      "23924/23924 [==============================] - 22s 919us/step - loss: 0.1068 - acc: 0.9928 - val_loss: 0.2515 - val_acc: 0.9580\n",
      "Epoch 99/100\n",
      "23924/23924 [==============================] - 22s 921us/step - loss: 0.1033 - acc: 0.9931 - val_loss: 0.2155 - val_acc: 0.9627\n",
      "Epoch 100/100\n",
      "23924/23924 [==============================] - 22s 916us/step - loss: 0.1151 - acc: 0.9905 - val_loss: 0.3150 - val_acc: 0.9430\n"
     ]
    }
   ],
   "source": [
    "speechTrainData=model.fit(Xtrain, Ytrain,batch_size=batchSize,epochs=epochs,verbose=1,validation_data=(Xtest, Ytest))"
   ]
  },
  {
   "cell_type": "code",
   "execution_count": 22,
   "metadata": {},
   "outputs": [
    {
     "data": {
      "image/png": "[encoded data removed]",
      "text/plain": [
       "<Figure size 432x288 with 1 Axes>"
      ]
     },
     "metadata": {},
     "output_type": "display_data"
    },
    {
     "data": {
      "image/png": "[encoded data removed]",
      "text/plain": [
       "<Figure size 432x288 with 1 Axes>"
      ]
     },
     "metadata": {},
     "output_type": "display_data"
    }
   ],
   "source": [
    "plt.plot(speechTrainData.history['acc'])\n",
    "plt.plot(speechTrainData.history['val_acc'])\n",
    "plt.title('Model Accuracy for CNN with Batch Size={}, Epochs={} '.format(batchSize,epochs))\n",
    "plt.ylabel('Accuracy')\n",
    "plt.xlabel('Epoch')\n",
    "plt.legend(['Train', 'Test'], loc='upper left')\n",
    "plt.show()\n",
    "# Plot Model  Loss\n",
    "plt.plot(speechTrainData.history['loss'])\n",
    "plt.plot(speechTrainData.history['val_loss'])\n",
    "plt.title('Model Loss for CNN with Batch Size={}, Epochs={} '.format(batchSize,epochs))\n",
    "plt.ylabel('Loss')\n",
    "plt.xlabel('Epoch')\n",
    "plt.legend(['Train', 'Test'], loc='upper left')\n",
    "plt.show()"
   ]
  },
  {
   "cell_type": "code",
   "execution_count": 23,
   "metadata": {},
   "outputs": [],
   "source": [
    "def ConfusionMatrix(actual,predicts,numberClasses,classname):\n",
    "    nc=numberClasses\n",
    "    confmat=np.zeros([nc,nc])\n",
    "    I = pd.Index(classname, name=\"rows\")\n",
    "    C = pd.Index(classname, name=\"columns\")\n",
    "    for ri in range (nc):\n",
    "        value=[]\n",
    "        trueIndex=np.where(actual[:,ri]==1)\n",
    "        for j in range (len(trueIndex[0])):\n",
    "            value.append(predict[trueIndex[0][j]])\n",
    "        for rj in range (nc):\n",
    "            confmat[ri][rj]=100*np.mean(value,axis=0)[rj]\n",
    "    df = pd.DataFrame(data=confmat, index=I, columns=C)\n",
    "    print(df)\n",
    "    return"
   ]
  },
  {
   "cell_type": "code",
   "execution_count": 24,
   "metadata": {},
   "outputs": [
    {
     "name": "stdout",
     "output_type": "stream",
     "text": [
      "Confusion Matrix for Train Data\n",
      "columns      Assamese    Bengali    Kannada  Malayalam    Punjabi  Rajasthani  \\\n",
      "rows                                                                            \n",
      "Assamese    99.195552   0.000901   0.752046   0.009984   0.007737    0.000890   \n",
      "Bengali      0.008124  98.032057   0.004161   1.316904   0.001267    0.606257   \n",
      "Kannada      0.021785   0.103592  99.589235   0.018076   0.001094    0.263258   \n",
      "Malayalam    0.257613   1.305747   1.695912  94.408721   0.028688    1.915900   \n",
      "Punjabi      0.003560   0.000860   0.038559   0.000304  99.947697    0.000249   \n",
      "Rajasthani   0.000524   0.001171   0.016764   0.013067   0.000174   99.957687   \n",
      "Tamil        0.176626   0.919111   0.776334   5.418352   0.032525    4.090144   \n",
      "Telugu       0.858498   0.363610   4.847237   1.393628   0.050597    1.372417   \n",
      "\n",
      "columns         Tamil     Telugu  \n",
      "rows                              \n",
      "Assamese     0.006713   0.027048  \n",
      "Bengali      0.022952   0.008092  \n",
      "Kannada      0.002523   0.002631  \n",
      "Malayalam    0.218533   0.168729  \n",
      "Punjabi      0.000509   0.009203  \n",
      "Rajasthani   0.007580   0.004268  \n",
      "Tamil       88.508534   0.078355  \n",
      "Telugu       0.032475  91.081542  \n"
     ]
    }
   ],
   "source": [
    "predict=model.predict(Xtrain)\n",
    "print('Confusion Matrix for Train Data')\n",
    "ConfusionMatrix(Ytrain,predict,num_classes,['Assamese','Bengali','Kannada','Malayalam','Punjabi','Rajasthani','Tamil','Telugu'])"
   ]
  },
  {
   "cell_type": "code",
   "execution_count": 25,
   "metadata": {
    "scrolled": false
   },
   "outputs": [
    {
     "name": "stdout",
     "output_type": "stream",
     "text": [
      "Confusion Matrix for Test Data\n",
      "columns      Assamese    Bengali    Kannada  Malayalam    Punjabi  Rajasthani  \\\n",
      "rows                                                                            \n",
      "Assamese    98.683929   0.001316   1.227912   0.019749   0.009159    0.004082   \n",
      "Bengali      0.007850  94.937927   0.008642   3.622266   0.003423    1.207763   \n",
      "Kannada      0.010941   0.128485  98.740655   0.245615   0.015256    0.821417   \n",
      "Malayalam    0.925662   2.459626   4.504875  86.679626   0.167555    2.952183   \n",
      "Punjabi      0.005001   0.001710   0.389607   0.003061  99.369854    0.002188   \n",
      "Rajasthani   0.001904   0.058635   0.689327   0.115941   0.018337   99.025369   \n",
      "Tamil        0.384491   1.505485   2.811750   9.395788   0.030301    4.808902   \n",
      "Telugu       1.759577   1.626887  10.600013   2.445072   0.241753    1.851595   \n",
      "\n",
      "columns         Tamil     Telugu  \n",
      "rows                              \n",
      "Assamese     0.012779   0.041433  \n",
      "Bengali      0.104821   0.107336  \n",
      "Kannada      0.009052   0.028776  \n",
      "Malayalam    0.998043   1.312360  \n",
      "Punjabi      0.195316   0.033310  \n",
      "Rajasthani   0.002299   0.088164  \n",
      "Tamil       80.936986   0.126269  \n",
      "Telugu       0.098266  81.376863  \n"
     ]
    }
   ],
   "source": [
    "predict=model.predict(Xtest)\n",
    "print('Confusion Matrix for Test Data')\n",
    "ConfusionMatrix(Ytest,predict,num_classes,['Assamese','Bengali','Kannada','Malayalam','Punjabi','Rajasthani','Tamil','Telugu'])"
   ]
  }
 ],
 "metadata": {
  "kernelspec": {
   "display_name": "Python 3",
   "language": "python",
   "name": "python3"
  },
  "language_info": {
   "codemirror_mode": {
    "name": "ipython",
    "version": 3
   },
   "file_extension": ".py",
   "mimetype": "text/x-python",
   "name": "python",
   "nbconvert_exporter": "python",
   "pygments_lexer": "ipython3",
   "version": "3.6.4"
  }
 },
 "nbformat": 4,
 "nbformat_minor": 2
}
