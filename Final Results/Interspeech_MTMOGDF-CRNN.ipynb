{
 "cells": [
  {
   "cell_type": "markdown",
   "metadata": {},
   "source": [
    "# Interspeech\n"
   ]
  },
  {
   "cell_type": "code",
   "execution_count": 1,
   "metadata": {},
   "outputs": [],
   "source": [
    "import matplotlib.pyplot"
   ]
  },
  {
   "cell_type": "code",
   "execution_count": 2,
   "metadata": {},
   "outputs": [
    {
     "name": "stderr",
     "output_type": "stream",
     "text": [
      "Using TensorFlow backend.\n"
     ]
    }
   ],
   "source": [
    "import numpy as np\n",
    "import pandas as pd\n",
    "\n",
    "import scipy.io as sio\n",
    "import matplotlib.pyplot as plt\n",
    "%matplotlib inline\n",
    "from skimage import io\n",
    "from sklearn.model_selection import train_test_split\n",
    "import random\n",
    "\n",
    "import keras\n",
    "from keras import backend as K\n",
    "from keras import layers\n",
    "\n",
    "from keras.utils import np_utils\n",
    "from keras.models import Sequential\n",
    "from keras.layers import Dense, Dropout, Activation\n",
    "\n",
    "from keras.datasets import mnist\n",
    "from keras.layers import Dense, Dropout, Flatten\n",
    "from keras.layers import Conv2D, MaxPooling2D\n",
    "from keras.layers.convolutional import Convolution2D\n",
    "\n",
    "from keras.layers.core import Dense, Permute, Reshape\n",
    "from keras.layers.normalization import BatchNormalization\n",
    "from keras.layers.wrappers import Bidirectional\n",
    "from keras.layers.recurrent import LSTM\n",
    "from keras.models import Sequential\n",
    "from keras.regularizers import l2\n",
    "\n",
    "import tensorflow as tf"
   ]
  },
  {
   "cell_type": "code",
   "execution_count": 3,
   "metadata": {},
   "outputs": [],
   "source": [
    "global X, T\n",
    "X=[]\n",
    "T=[]"
   ]
  },
  {
   "cell_type": "code",
   "execution_count": 4,
   "metadata": {},
   "outputs": [],
   "source": [
    "def loaddata(filename,num):\n",
    "    f=sio.loadmat(filename)\n",
    "    data=f['cep']\n",
    "    data=np.asarray(data)\n",
    "    mean=np.mean(data,axis=0)\n",
    "    std=np.std(data,axis=0)\n",
    "    data=(data-mean)/std\n",
    "    data=np.asarray(np.vsplit(data[0:int(data.shape[0]/data.shape[1])*data.shape[1]],int(data.shape[0]/data.shape[1])))\n",
    "    for i in range (data.shape[0]):\n",
    "        X.append(data[i])\n",
    "        T.append(num)\n",
    "    return X, T"
   ]
  },
  {
   "cell_type": "code",
   "execution_count": 5,
   "metadata": {},
   "outputs": [
    {
     "data": {
      "text/plain": [
       "(5704, 5704)"
      ]
     },
     "execution_count": 5,
     "metadata": {},
     "output_type": "execute_result"
    }
   ],
   "source": [
    "X,T = loaddata('assamese.mat',0)\n",
    "len(X), len(T)"
   ]
  },
  {
   "cell_type": "code",
   "execution_count": 6,
   "metadata": {},
   "outputs": [
    {
     "data": {
      "text/plain": [
       "(8880, 8880)"
      ]
     },
     "execution_count": 6,
     "metadata": {},
     "output_type": "execute_result"
    }
   ],
   "source": [
    "X,T = loaddata('bengali.mat',1)\n",
    "len(X), len(T)"
   ]
  },
  {
   "cell_type": "code",
   "execution_count": 7,
   "metadata": {},
   "outputs": [
    {
     "data": {
      "text/plain": [
       "(15135, 15135)"
      ]
     },
     "execution_count": 7,
     "metadata": {},
     "output_type": "execute_result"
    }
   ],
   "source": [
    "X,T = loaddata('kannada.mat',2)\n",
    "len(X),len(T)"
   ]
  },
  {
   "cell_type": "code",
   "execution_count": 8,
   "metadata": {},
   "outputs": [
    {
     "data": {
      "text/plain": [
       "(18272, 18272)"
      ]
     },
     "execution_count": 8,
     "metadata": {},
     "output_type": "execute_result"
    }
   ],
   "source": [
    "X,T = loaddata('malayalam.mat',3)\n",
    "len(X),len(T)"
   ]
  },
  {
   "cell_type": "code",
   "execution_count": 9,
   "metadata": {},
   "outputs": [
    {
     "data": {
      "text/plain": [
       "(21083, 21083)"
      ]
     },
     "execution_count": 9,
     "metadata": {},
     "output_type": "execute_result"
    }
   ],
   "source": [
    "X,T = loaddata('punjabi.mat',4)\n",
    "len(X),len(T)"
   ]
  },
  {
   "cell_type": "code",
   "execution_count": 10,
   "metadata": {},
   "outputs": [
    {
     "data": {
      "text/plain": [
       "(24092, 24092)"
      ]
     },
     "execution_count": 10,
     "metadata": {},
     "output_type": "execute_result"
    }
   ],
   "source": [
    "X,T = loaddata('rajasthani.mat',5)\n",
    "len(X),len(T)"
   ]
  },
  {
   "cell_type": "code",
   "execution_count": 11,
   "metadata": {},
   "outputs": [
    {
     "data": {
      "text/plain": [
       "(27027, 27027)"
      ]
     },
     "execution_count": 11,
     "metadata": {},
     "output_type": "execute_result"
    }
   ],
   "source": [
    "X,T = loaddata('tamil.mat',6)\n",
    "len(X),len(T)"
   ]
  },
  {
   "cell_type": "code",
   "execution_count": 12,
   "metadata": {},
   "outputs": [
    {
     "data": {
      "text/plain": [
       "(29906, 29906)"
      ]
     },
     "execution_count": 12,
     "metadata": {},
     "output_type": "execute_result"
    }
   ],
   "source": [
    "X,T = loaddata('telugu.mat',7)\n",
    "len(X),len(T)"
   ]
  },
  {
   "cell_type": "markdown",
   "metadata": {},
   "source": [
    "## Split Dataset"
   ]
  },
  {
   "cell_type": "code",
   "execution_count": 13,
   "metadata": {},
   "outputs": [
    {
     "name": "stderr",
     "output_type": "stream",
     "text": [
      "c:\\users\\shash\\anaconda3\\envs\\tensorflow-gpu\\lib\\site-packages\\sklearn\\model_selection\\_split.py:2026: FutureWarning: From version 0.21, test_size will always complement train_size unless both are specified.\n",
      "  FutureWarning)\n"
     ]
    },
    {
     "data": {
      "text/plain": [
       "((23924, 39, 39), (5982, 39, 39))"
      ]
     },
     "execution_count": 13,
     "metadata": {},
     "output_type": "execute_result"
    }
   ],
   "source": [
    "Xtrain, Xtest, Ytrain, Ytest = train_test_split(np.array(X),np.array(T), train_size=0.8, random_state=30)\n",
    "np.array(Xtrain).shape, np.array(Xtest).shape"
   ]
  },
  {
   "cell_type": "markdown",
   "metadata": {},
   "source": [
    "## Convert 2D dataset to a 1D vector"
   ]
  },
  {
   "cell_type": "code",
   "execution_count": 14,
   "metadata": {},
   "outputs": [],
   "source": [
    "batchSize=128\n",
    "num_classes=8\n",
    "epochs=100\n",
    "imageRows, imageCols =39,39"
   ]
  },
  {
   "cell_type": "code",
   "execution_count": 15,
   "metadata": {},
   "outputs": [],
   "source": [
    "Xtrain = Xtrain.reshape(Xtrain.shape[0], imageRows, imageCols, 1)\n",
    "Xtest = Xtest.reshape(Xtest.shape[0], imageRows,imageCols, 1)\n",
    "input_shape = (imageRows, imageCols, 1)\n",
    "Xtrain = Xtrain.astype('float32')\n",
    "Xtest = Xtest.astype('float32')"
   ]
  },
  {
   "cell_type": "code",
   "execution_count": 16,
   "metadata": {},
   "outputs": [
    {
     "data": {
      "text/plain": [
       "(39, 39, 1)"
      ]
     },
     "execution_count": 16,
     "metadata": {},
     "output_type": "execute_result"
    }
   ],
   "source": [
    "input_shape"
   ]
  },
  {
   "cell_type": "code",
   "execution_count": 17,
   "metadata": {},
   "outputs": [],
   "source": [
    "Ytrain = keras.utils.to_categorical(Ytrain, num_classes)\n",
    "Ytest = keras.utils.to_categorical(Ytest, num_classes)"
   ]
  },
  {
   "cell_type": "markdown",
   "metadata": {},
   "source": [
    "## Define CNN Model"
   ]
  },
  {
   "cell_type": "code",
   "execution_count": 18,
   "metadata": {},
   "outputs": [
    {
     "name": "stderr",
     "output_type": "stream",
     "text": [
      "c:\\users\\shash\\anaconda3\\envs\\tensorflow-gpu\\lib\\site-packages\\ipykernel_launcher.py:5: UserWarning: Update your `Conv2D` call to the Keras 2 API: `Conv2D(64, kernel_size=(3, 3), padding=\"same\", activation=\"relu\", input_shape=(39, 39, 1..., kernel_regularizer=<keras.reg...)`\n",
      "  \"\"\"\n",
      "c:\\users\\shash\\anaconda3\\envs\\tensorflow-gpu\\lib\\site-packages\\ipykernel_launcher.py:9: UserWarning: Update your `Conv2D` call to the Keras 2 API: `Conv2D(128, kernel_size=(3, 3), padding=\"same\", activation=\"relu\", kernel_regularizer=<keras.reg...)`\n",
      "  if __name__ == '__main__':\n",
      "c:\\users\\shash\\anaconda3\\envs\\tensorflow-gpu\\lib\\site-packages\\ipykernel_launcher.py:13: UserWarning: Update your `Conv2D` call to the Keras 2 API: `Conv2D(256, kernel_size=(3, 3), padding=\"same\", activation=\"relu\", kernel_regularizer=<keras.reg...)`\n",
      "  del sys.path[0]\n",
      "c:\\users\\shash\\anaconda3\\envs\\tensorflow-gpu\\lib\\site-packages\\ipykernel_launcher.py:17: UserWarning: Update your `Conv2D` call to the Keras 2 API: `Conv2D(256, kernel_size=(3, 3), padding=\"same\", activation=\"relu\", kernel_regularizer=<keras.reg...)`\n",
      "c:\\users\\shash\\anaconda3\\envs\\tensorflow-gpu\\lib\\site-packages\\ipykernel_launcher.py:21: UserWarning: Update your `Conv2D` call to the Keras 2 API: `Conv2D(512, kernel_size=(3, 3), padding=\"same\", activation=\"relu\", kernel_regularizer=<keras.reg...)`\n",
      "c:\\users\\shash\\anaconda3\\envs\\tensorflow-gpu\\lib\\site-packages\\ipykernel_launcher.py:25: UserWarning: Update your `Conv2D` call to the Keras 2 API: `Conv2D(512, kernel_size=(3, 3), padding=\"same\", activation=\"relu\", kernel_regularizer=<keras.reg...)`\n",
      "c:\\users\\shash\\anaconda3\\envs\\tensorflow-gpu\\lib\\site-packages\\ipykernel_launcher.py:29: UserWarning: Update your `Conv2D` call to the Keras 2 API: `Conv2D(512, kernel_size=(3, 3), padding=\"same\", activation=\"relu\", kernel_regularizer=<keras.reg...)`\n"
     ]
    }
   ],
   "source": [
    "weight_decay = 0.001\n",
    "\n",
    "model = Sequential()\n",
    "\n",
    "model.add(Conv2D(64, kernel_size=(3,3), W_regularizer=l2(weight_decay), padding=\"same\", activation=\"relu\", input_shape=input_shape))\n",
    "model.add(BatchNormalization())\n",
    "model.add(MaxPooling2D(pool_size=(2, 2), strides=(2, 2)))\n",
    "\n",
    "model.add(Conv2D(128, kernel_size=(3,3), W_regularizer=l2(weight_decay), padding=\"same\", activation=\"relu\"))\n",
    "model.add(BatchNormalization())\n",
    "model.add(MaxPooling2D(pool_size=(2, 2), strides=(2, 2)))\n",
    "\n",
    "model.add(Conv2D(256, kernel_size=(3,3), W_regularizer=l2(weight_decay), padding=\"same\", activation=\"relu\"))\n",
    "model.add(BatchNormalization())\n",
    "#model.add(MaxPooling2D(pool_size=(2, 2), strides=(2, 2)))\n",
    "\n",
    "model.add(Conv2D(256, kernel_size=(3,3), W_regularizer=l2(weight_decay), padding=\"same\", activation=\"relu\"))\n",
    "model.add(BatchNormalization())\n",
    "model.add(MaxPooling2D(pool_size=(2, 2), strides=(2, 2)))\n",
    "\n",
    "model.add(Conv2D(512, kernel_size=(3,3), W_regularizer=l2(weight_decay), padding=\"same\", activation=\"relu\"))\n",
    "model.add(BatchNormalization())\n",
    "#model.add(MaxPooling2D(pool_size=(2, 2), strides=(2, 2)))\n",
    "\n",
    "model.add(Conv2D(512, kernel_size=(3,3), W_regularizer=l2(weight_decay),padding=\"same\", activation=\"relu\"))\n",
    "model.add(BatchNormalization())\n",
    "model.add(MaxPooling2D(pool_size=(2, 2), strides=(2, 2)))\n",
    "\n",
    "model.add(Conv2D(512, kernel_size=(3,3), W_regularizer=l2(weight_decay), padding=\"same\", activation=\"relu\"))\n",
    "model.add(BatchNormalization())\n",
    "model.add(MaxPooling2D(pool_size=(2, 2), strides=(2, 2)))\n",
    "\n",
    "    # (bs, y, x, c) --> (bs, x, y, c)\n",
    "model.add(Permute((2, 1, 3)))\n",
    "\n",
    "    # (bs, x, y, c) --> (bs, x, y * c)\n",
    "bs, x, y, c = model.layers[-1].output_shape\n",
    "model.add(Reshape((x, y*c)))\n",
    "\n",
    "model.add(Bidirectional(LSTM(256, return_sequences=False), merge_mode=\"concat\"))\n",
    "model.add(Dense(num_classes, activation=\"softmax\"))\n"
   ]
  },
  {
   "cell_type": "code",
   "execution_count": 19,
   "metadata": {},
   "outputs": [
    {
     "name": "stdout",
     "output_type": "stream",
     "text": [
      "_________________________________________________________________\n",
      "Layer (type)                 Output Shape              Param #   \n",
      "=================================================================\n",
      "conv2d_1 (Conv2D)            (None, 39, 39, 64)        640       \n",
      "_________________________________________________________________\n",
      "batch_normalization_1 (Batch (None, 39, 39, 64)        256       \n",
      "_________________________________________________________________\n",
      "max_pooling2d_1 (MaxPooling2 (None, 19, 19, 64)        0         \n",
      "_________________________________________________________________\n",
      "conv2d_2 (Conv2D)            (None, 19, 19, 128)       73856     \n",
      "_________________________________________________________________\n",
      "batch_normalization_2 (Batch (None, 19, 19, 128)       512       \n",
      "_________________________________________________________________\n",
      "max_pooling2d_2 (MaxPooling2 (None, 9, 9, 128)         0         \n",
      "_________________________________________________________________\n",
      "conv2d_3 (Conv2D)            (None, 9, 9, 256)         295168    \n",
      "_________________________________________________________________\n",
      "batch_normalization_3 (Batch (None, 9, 9, 256)         1024      \n",
      "_________________________________________________________________\n",
      "conv2d_4 (Conv2D)            (None, 9, 9, 256)         590080    \n",
      "_________________________________________________________________\n",
      "batch_normalization_4 (Batch (None, 9, 9, 256)         1024      \n",
      "_________________________________________________________________\n",
      "max_pooling2d_3 (MaxPooling2 (None, 4, 4, 256)         0         \n",
      "_________________________________________________________________\n",
      "conv2d_5 (Conv2D)            (None, 4, 4, 512)         1180160   \n",
      "_________________________________________________________________\n",
      "batch_normalization_5 (Batch (None, 4, 4, 512)         2048      \n",
      "_________________________________________________________________\n",
      "conv2d_6 (Conv2D)            (None, 4, 4, 512)         2359808   \n",
      "_________________________________________________________________\n",
      "batch_normalization_6 (Batch (None, 4, 4, 512)         2048      \n",
      "_________________________________________________________________\n",
      "max_pooling2d_4 (MaxPooling2 (None, 2, 2, 512)         0         \n",
      "_________________________________________________________________\n",
      "conv2d_7 (Conv2D)            (None, 2, 2, 512)         2359808   \n",
      "_________________________________________________________________\n",
      "batch_normalization_7 (Batch (None, 2, 2, 512)         2048      \n",
      "_________________________________________________________________\n",
      "max_pooling2d_5 (MaxPooling2 (None, 1, 1, 512)         0         \n",
      "_________________________________________________________________\n",
      "permute_1 (Permute)          (None, 1, 1, 512)         0         \n",
      "_________________________________________________________________\n",
      "reshape_1 (Reshape)          (None, 1, 512)            0         \n",
      "_________________________________________________________________\n",
      "bidirectional_1 (Bidirection (None, 512)               1574912   \n",
      "_________________________________________________________________\n",
      "dense_1 (Dense)              (None, 8)                 4104      \n",
      "=================================================================\n",
      "Total params: 8,447,496\n",
      "Trainable params: 8,443,016\n",
      "Non-trainable params: 4,480\n",
      "_________________________________________________________________\n"
     ]
    }
   ],
   "source": [
    "model.summary()"
   ]
  },
  {
   "cell_type": "markdown",
   "metadata": {},
   "source": [
    "## Model Train"
   ]
  },
  {
   "cell_type": "code",
   "execution_count": 20,
   "metadata": {},
   "outputs": [],
   "source": [
    "model.compile(loss=keras.losses.categorical_crossentropy,optimizer=keras.optimizers.Adadelta(),metrics=['accuracy'])"
   ]
  },
  {
   "cell_type": "code",
   "execution_count": 21,
   "metadata": {},
   "outputs": [
    {
     "name": "stdout",
     "output_type": "stream",
     "text": [
      "Train on 23924 samples, validate on 5982 samples\n",
      "Epoch 1/100\n",
      "23924/23924 [==============================] - 27s 1ms/step - loss: 2.2739 - acc: 0.7416 - val_loss: 1.7673 - val_acc: 0.8084\n",
      "Epoch 2/100\n",
      "23924/23924 [==============================] - 22s 913us/step - loss: 1.2331 - acc: 0.9199 - val_loss: 1.0927 - val_acc: 0.9064\n",
      "Epoch 3/100\n",
      "23924/23924 [==============================] - 22s 911us/step - loss: 0.8097 - acc: 0.9495 - val_loss: 0.7586 - val_acc: 0.9313\n",
      "Epoch 4/100\n",
      "23924/23924 [==============================] - 22s 912us/step - loss: 0.5859 - acc: 0.9627 - val_loss: 0.6279 - val_acc: 0.9328\n",
      "Epoch 5/100\n",
      "23924/23924 [==============================] - 22s 911us/step - loss: 0.4614 - acc: 0.9676 - val_loss: 0.5949 - val_acc: 0.9142\n",
      "Epoch 6/100\n",
      "23924/23924 [==============================] - 22s 915us/step - loss: 0.3885 - acc: 0.9737 - val_loss: 0.4599 - val_acc: 0.9371\n",
      "Epoch 7/100\n",
      "23924/23924 [==============================] - 22s 912us/step - loss: 0.3453 - acc: 0.9751 - val_loss: 0.4401 - val_acc: 0.9403\n",
      "Epoch 8/100\n",
      "23924/23924 [==============================] - 22s 914us/step - loss: 0.3119 - acc: 0.9769 - val_loss: 0.3710 - val_acc: 0.9572\n",
      "Epoch 9/100\n",
      "23924/23924 [==============================] - 22s 919us/step - loss: 0.2973 - acc: 0.9779 - val_loss: 0.4689 - val_acc: 0.9234\n",
      "Epoch 10/100\n",
      "23924/23924 [==============================] - 22s 918us/step - loss: 0.2710 - acc: 0.9801 - val_loss: 0.6182 - val_acc: 0.8860\n",
      "Epoch 11/100\n",
      "23924/23924 [==============================] - 22s 918us/step - loss: 0.2711 - acc: 0.9781 - val_loss: 0.3444 - val_acc: 0.9562\n",
      "Epoch 12/100\n",
      "23924/23924 [==============================] - 22s 923us/step - loss: 0.2509 - acc: 0.9828 - val_loss: 0.3048 - val_acc: 0.9644\n",
      "Epoch 13/100\n",
      "23924/23924 [==============================] - 22s 916us/step - loss: 0.2494 - acc: 0.9804 - val_loss: 0.4188 - val_acc: 0.9315\n",
      "Epoch 14/100\n",
      "23924/23924 [==============================] - 22s 917us/step - loss: 0.2329 - acc: 0.9843 - val_loss: 0.2884 - val_acc: 0.9671\n",
      "Epoch 15/100\n",
      "23924/23924 [==============================] - 22s 921us/step - loss: 0.2338 - acc: 0.9822 - val_loss: 0.2739 - val_acc: 0.9687\n",
      "Epoch 16/100\n",
      "23924/23924 [==============================] - 22s 921us/step - loss: 0.2274 - acc: 0.9822 - val_loss: 0.3376 - val_acc: 0.9432\n",
      "Epoch 17/100\n",
      "23924/23924 [==============================] - 22s 917us/step - loss: 0.2151 - acc: 0.9857 - val_loss: 0.3382 - val_acc: 0.9473\n",
      "Epoch 18/100\n",
      "23924/23924 [==============================] - 22s 921us/step - loss: 0.2227 - acc: 0.9826 - val_loss: 0.4504 - val_acc: 0.9191\n",
      "Epoch 19/100\n",
      "23924/23924 [==============================] - 22s 918us/step - loss: 0.2147 - acc: 0.9847 - val_loss: 0.2837 - val_acc: 0.9636\n",
      "Epoch 20/100\n",
      "23924/23924 [==============================] - 22s 919us/step - loss: 0.2087 - acc: 0.9847 - val_loss: 0.4265 - val_acc: 0.9231\n",
      "Epoch 21/100\n",
      "23924/23924 [==============================] - 22s 921us/step - loss: 0.2124 - acc: 0.9842 - val_loss: 0.2418 - val_acc: 0.9739\n",
      "Epoch 22/100\n",
      "23924/23924 [==============================] - 22s 919us/step - loss: 0.2075 - acc: 0.9840 - val_loss: 0.2829 - val_acc: 0.9584\n",
      "Epoch 23/100\n",
      "23924/23924 [==============================] - 22s 918us/step - loss: 0.2036 - acc: 0.9856 - val_loss: 0.2424 - val_acc: 0.9714\n",
      "Epoch 24/100\n",
      "23924/23924 [==============================] - 22s 921us/step - loss: 0.2051 - acc: 0.9838 - val_loss: 0.3543 - val_acc: 0.9417\n",
      "Epoch 25/100\n",
      "23924/23924 [==============================] - 22s 919us/step - loss: 0.1918 - acc: 0.9879 - val_loss: 0.5962 - val_acc: 0.8815\n",
      "Epoch 26/100\n",
      "23924/23924 [==============================] - 22s 921us/step - loss: 0.1922 - acc: 0.9858 - val_loss: 0.2728 - val_acc: 0.9647\n",
      "Epoch 27/100\n",
      "23924/23924 [==============================] - 22s 923us/step - loss: 0.1974 - acc: 0.9842 - val_loss: 0.2836 - val_acc: 0.9600\n",
      "Epoch 28/100\n",
      "23924/23924 [==============================] - 22s 919us/step - loss: 0.1822 - acc: 0.9882 - val_loss: 0.2755 - val_acc: 0.9632\n",
      "Epoch 29/100\n",
      "23924/23924 [==============================] - 22s 920us/step - loss: 0.1816 - acc: 0.9870 - val_loss: 0.4915 - val_acc: 0.9126\n",
      "Epoch 30/100\n",
      "23924/23924 [==============================] - 22s 918us/step - loss: 0.1789 - acc: 0.9873 - val_loss: 0.4289 - val_acc: 0.9203\n",
      "Epoch 31/100\n",
      "23924/23924 [==============================] - 22s 922us/step - loss: 0.1752 - acc: 0.9880 - val_loss: 0.2802 - val_acc: 0.9545\n",
      "Epoch 32/100\n",
      "23924/23924 [==============================] - 22s 923us/step - loss: 0.1844 - acc: 0.9851 - val_loss: 0.4126 - val_acc: 0.9313\n",
      "Epoch 33/100\n",
      "23924/23924 [==============================] - 22s 920us/step - loss: 0.1709 - acc: 0.9896 - val_loss: 0.8170 - val_acc: 0.8467\n",
      "Epoch 34/100\n",
      "23924/23924 [==============================] - 22s 917us/step - loss: 0.1744 - acc: 0.9867 - val_loss: 0.3640 - val_acc: 0.9328\n",
      "Epoch 35/100\n",
      "23924/23924 [==============================] - 22s 919us/step - loss: 0.1745 - acc: 0.9881 - val_loss: 0.2360 - val_acc: 0.9694\n",
      "Epoch 36/100\n",
      "23924/23924 [==============================] - 22s 918us/step - loss: 0.1684 - acc: 0.9891 - val_loss: 0.6811 - val_acc: 0.8688\n",
      "Epoch 37/100\n",
      "23924/23924 [==============================] - 22s 922us/step - loss: 0.1606 - acc: 0.9899 - val_loss: 0.2751 - val_acc: 0.9577\n",
      "Epoch 38/100\n",
      "23924/23924 [==============================] - 22s 917us/step - loss: 0.1698 - acc: 0.9870 - val_loss: 0.2327 - val_acc: 0.9681\n",
      "Epoch 39/100\n",
      "23924/23924 [==============================] - 22s 918us/step - loss: 0.1656 - acc: 0.9869 - val_loss: 0.2562 - val_acc: 0.9602\n",
      "Epoch 40/100\n",
      "23924/23924 [==============================] - 22s 918us/step - loss: 0.1592 - acc: 0.9899 - val_loss: 0.2503 - val_acc: 0.9641\n",
      "Epoch 41/100\n",
      "23924/23924 [==============================] - 24s 998us/step - loss: 0.1630 - acc: 0.9871 - val_loss: 0.2427 - val_acc: 0.9652\n",
      "Epoch 42/100\n",
      "23924/23924 [==============================] - 23s 945us/step - loss: 0.1518 - acc: 0.9896 - val_loss: 0.3411 - val_acc: 0.9407\n",
      "Epoch 43/100\n",
      "23924/23924 [==============================] - 24s 996us/step - loss: 0.1494 - acc: 0.9906 - val_loss: 0.2104 - val_acc: 0.9692\n",
      "Epoch 44/100\n",
      "23924/23924 [==============================] - 24s 993us/step - loss: 0.1610 - acc: 0.9873 - val_loss: 0.2607 - val_acc: 0.9594\n",
      "Epoch 45/100\n",
      "23924/23924 [==============================] - 75s 3ms/step - loss: 0.1490 - acc: 0.9904 - val_loss: 0.2733 - val_acc: 0.9602\n",
      "Epoch 46/100\n",
      "23924/23924 [==============================] - 41s 2ms/step - loss: 0.1495 - acc: 0.9888 - val_loss: 0.3480 - val_acc: 0.9435\n",
      "Epoch 47/100\n",
      "23924/23924 [==============================] - 22s 915us/step - loss: 0.1432 - acc: 0.9914 - val_loss: 0.2249 - val_acc: 0.9676\n",
      "Epoch 48/100\n",
      "23924/23924 [==============================] - 22s 920us/step - loss: 0.1505 - acc: 0.9881 - val_loss: 0.2441 - val_acc: 0.9624\n",
      "Epoch 49/100\n",
      "23924/23924 [==============================] - 22s 918us/step - loss: 0.1489 - acc: 0.9892 - val_loss: 0.2286 - val_acc: 0.9617\n",
      "Epoch 50/100\n",
      "23924/23924 [==============================] - 22s 921us/step - loss: 0.1366 - acc: 0.9917 - val_loss: 0.2464 - val_acc: 0.9636\n",
      "Epoch 51/100\n",
      "23924/23924 [==============================] - 22s 920us/step - loss: 0.1427 - acc: 0.9897 - val_loss: 0.2116 - val_acc: 0.9696\n",
      "Epoch 52/100\n",
      "23924/23924 [==============================] - 22s 924us/step - loss: 0.1365 - acc: 0.9908 - val_loss: 0.1700 - val_acc: 0.9809\n",
      "Epoch 53/100\n",
      "23924/23924 [==============================] - 22s 916us/step - loss: 0.1482 - acc: 0.9875 - val_loss: 0.2681 - val_acc: 0.9534\n",
      "Epoch 54/100\n",
      "23924/23924 [==============================] - 22s 914us/step - loss: 0.1400 - acc: 0.9894 - val_loss: 0.2326 - val_acc: 0.9657\n",
      "Epoch 55/100\n",
      "23924/23924 [==============================] - 22s 914us/step - loss: 0.1366 - acc: 0.9907 - val_loss: 0.2112 - val_acc: 0.9694\n",
      "Epoch 56/100\n",
      "23924/23924 [==============================] - 22s 913us/step - loss: 0.1289 - acc: 0.9915 - val_loss: 0.1934 - val_acc: 0.9741\n",
      "Epoch 57/100\n",
      "23924/23924 [==============================] - 22s 915us/step - loss: 0.1298 - acc: 0.9909 - val_loss: 0.5561 - val_acc: 0.9037\n",
      "Epoch 58/100\n",
      "23924/23924 [==============================] - 22s 912us/step - loss: 0.1328 - acc: 0.9908 - val_loss: 0.2034 - val_acc: 0.9662\n"
     ]
    },
    {
     "name": "stdout",
     "output_type": "stream",
     "text": [
      "Epoch 59/100\n",
      "23924/23924 [==============================] - 23s 944us/step - loss: 0.1352 - acc: 0.9891 - val_loss: 0.2180 - val_acc: 0.9647\n",
      "Epoch 60/100\n",
      "23924/23924 [==============================] - 23s 943us/step - loss: 0.1292 - acc: 0.9906 - val_loss: 0.2566 - val_acc: 0.9537\n",
      "Epoch 61/100\n",
      "23924/23924 [==============================] - 23s 942us/step - loss: 0.1289 - acc: 0.9911 - val_loss: 0.2410 - val_acc: 0.9632\n",
      "Epoch 62/100\n",
      "23924/23924 [==============================] - 22s 939us/step - loss: 0.1247 - acc: 0.9913 - val_loss: 0.3510 - val_acc: 0.9475\n",
      "Epoch 63/100\n",
      "23924/23924 [==============================] - 22s 939us/step - loss: 0.1235 - acc: 0.9922 - val_loss: 0.1650 - val_acc: 0.9798\n",
      "Epoch 64/100\n",
      "23924/23924 [==============================] - 22s 939us/step - loss: 0.1207 - acc: 0.9922 - val_loss: 0.1833 - val_acc: 0.9731\n",
      "Epoch 65/100\n",
      "23924/23924 [==============================] - 22s 939us/step - loss: 0.1141 - acc: 0.9929 - val_loss: 0.2852 - val_acc: 0.9453\n",
      "Epoch 66/100\n",
      "23924/23924 [==============================] - 22s 938us/step - loss: 0.1319 - acc: 0.9887 - val_loss: 0.1796 - val_acc: 0.9751\n",
      "Epoch 67/100\n",
      "23924/23924 [==============================] - 22s 936us/step - loss: 0.1127 - acc: 0.9944 - val_loss: 0.1614 - val_acc: 0.9778\n",
      "Epoch 68/100\n",
      "23924/23924 [==============================] - 22s 940us/step - loss: 0.1247 - acc: 0.9901 - val_loss: 0.2254 - val_acc: 0.9664\n",
      "Epoch 69/100\n",
      "23924/23924 [==============================] - 22s 940us/step - loss: 0.1134 - acc: 0.9931 - val_loss: 0.1585 - val_acc: 0.9799\n",
      "Epoch 70/100\n",
      "23924/23924 [==============================] - 22s 935us/step - loss: 0.1208 - acc: 0.9903 - val_loss: 0.2080 - val_acc: 0.9654\n",
      "Epoch 71/100\n",
      "23924/23924 [==============================] - 22s 936us/step - loss: 0.1173 - acc: 0.9917 - val_loss: 0.2028 - val_acc: 0.9687\n",
      "Epoch 72/100\n",
      "23924/23924 [==============================] - 22s 937us/step - loss: 0.1161 - acc: 0.9913 - val_loss: 0.1776 - val_acc: 0.9753\n",
      "Epoch 73/100\n",
      "23924/23924 [==============================] - 22s 939us/step - loss: 0.1148 - acc: 0.9917 - val_loss: 0.2007 - val_acc: 0.9676\n",
      "Epoch 74/100\n",
      "23924/23924 [==============================] - 22s 935us/step - loss: 0.1132 - acc: 0.9918 - val_loss: 0.2694 - val_acc: 0.9488\n",
      "Epoch 75/100\n",
      "23924/23924 [==============================] - 22s 935us/step - loss: 0.1141 - acc: 0.9918 - val_loss: 0.3029 - val_acc: 0.9468\n",
      "Epoch 76/100\n",
      "23924/23924 [==============================] - 22s 934us/step - loss: 0.1102 - acc: 0.9930 - val_loss: 0.2089 - val_acc: 0.9616\n",
      "Epoch 77/100\n",
      "23924/23924 [==============================] - 22s 935us/step - loss: 0.1114 - acc: 0.9923 - val_loss: 0.1992 - val_acc: 0.9681\n",
      "Epoch 78/100\n",
      "23924/23924 [==============================] - 22s 933us/step - loss: 0.1056 - acc: 0.9923 - val_loss: 0.2122 - val_acc: 0.9639\n",
      "Epoch 79/100\n",
      "23924/23924 [==============================] - 22s 930us/step - loss: 0.1109 - acc: 0.9920 - val_loss: 0.1630 - val_acc: 0.9773\n",
      "Epoch 80/100\n",
      "23924/23924 [==============================] - 22s 930us/step - loss: 0.1096 - acc: 0.9930 - val_loss: 0.1662 - val_acc: 0.9754\n",
      "Epoch 81/100\n",
      "23924/23924 [==============================] - 22s 937us/step - loss: 0.1047 - acc: 0.9931 - val_loss: 0.4308 - val_acc: 0.9157\n",
      "Epoch 82/100\n",
      "23924/23924 [==============================] - 22s 929us/step - loss: 0.1068 - acc: 0.9919 - val_loss: 0.1626 - val_acc: 0.9753\n",
      "Epoch 83/100\n",
      "23924/23924 [==============================] - 22s 932us/step - loss: 0.1061 - acc: 0.9929 - val_loss: 0.2204 - val_acc: 0.9629\n",
      "Epoch 84/100\n",
      "23924/23924 [==============================] - 22s 928us/step - loss: 0.1039 - acc: 0.9920 - val_loss: 0.3007 - val_acc: 0.9492\n",
      "Epoch 85/100\n",
      "23924/23924 [==============================] - 22s 929us/step - loss: 0.1068 - acc: 0.9926 - val_loss: 0.3478 - val_acc: 0.9371\n",
      "Epoch 86/100\n",
      "23924/23924 [==============================] - 22s 928us/step - loss: 0.1054 - acc: 0.9928 - val_loss: 0.2041 - val_acc: 0.9641\n",
      "Epoch 87/100\n",
      "23924/23924 [==============================] - 22s 928us/step - loss: 0.1028 - acc: 0.9926 - val_loss: 0.1884 - val_acc: 0.9681\n",
      "Epoch 88/100\n",
      "23924/23924 [==============================] - 22s 930us/step - loss: 0.1016 - acc: 0.9936 - val_loss: 0.2576 - val_acc: 0.9557\n",
      "Epoch 89/100\n",
      "23924/23924 [==============================] - 22s 931us/step - loss: 0.1054 - acc: 0.9921 - val_loss: 0.1856 - val_acc: 0.9671\n",
      "Epoch 90/100\n",
      "23924/23924 [==============================] - 22s 925us/step - loss: 0.1009 - acc: 0.9934 - val_loss: 0.2633 - val_acc: 0.9487\n",
      "Epoch 91/100\n",
      "23924/23924 [==============================] - 22s 930us/step - loss: 0.0975 - acc: 0.9942 - val_loss: 0.2154 - val_acc: 0.9629\n",
      "Epoch 92/100\n",
      "23924/23924 [==============================] - 22s 923us/step - loss: 0.1020 - acc: 0.9921 - val_loss: 0.1361 - val_acc: 0.9836\n",
      "Epoch 93/100\n",
      "23924/23924 [==============================] - 22s 927us/step - loss: 0.1036 - acc: 0.9924 - val_loss: 0.4707 - val_acc: 0.9101\n",
      "Epoch 94/100\n",
      "23924/23924 [==============================] - 22s 926us/step - loss: 0.0955 - acc: 0.9936 - val_loss: 0.2225 - val_acc: 0.9594\n",
      "Epoch 95/100\n",
      "23924/23924 [==============================] - 22s 933us/step - loss: 0.1011 - acc: 0.9922 - val_loss: 0.1469 - val_acc: 0.9793\n",
      "Epoch 96/100\n",
      "23924/23924 [==============================] - 22s 923us/step - loss: 0.0960 - acc: 0.9937 - val_loss: 0.2195 - val_acc: 0.9612\n",
      "Epoch 97/100\n",
      "23924/23924 [==============================] - 22s 926us/step - loss: 0.1022 - acc: 0.9923 - val_loss: 0.2696 - val_acc: 0.9492\n",
      "Epoch 98/100\n",
      "23924/23924 [==============================] - 22s 924us/step - loss: 0.0931 - acc: 0.9950 - val_loss: 0.1355 - val_acc: 0.9813\n",
      "Epoch 99/100\n",
      "23924/23924 [==============================] - 22s 924us/step - loss: 0.0980 - acc: 0.9926 - val_loss: 0.3084 - val_acc: 0.9435\n",
      "Epoch 100/100\n",
      "23924/23924 [==============================] - 22s 926us/step - loss: 0.1006 - acc: 0.9918 - val_loss: 0.1745 - val_acc: 0.9692\n"
     ]
    }
   ],
   "source": [
    "speechTrainData=model.fit(Xtrain, Ytrain,batch_size=batchSize,epochs=epochs,verbose=1,validation_data=(Xtest, Ytest))"
   ]
  },
  {
   "cell_type": "code",
   "execution_count": 22,
   "metadata": {},
   "outputs": [
    {
     "data": {
      "image/png": "[encoded data removed]",
      "text/plain": [
       "<Figure size 432x288 with 1 Axes>"
      ]
     },
     "metadata": {},
     "output_type": "display_data"
    },
    {
     "data": {
      "image/png": "[encoded data removed]",
      "text/plain": [
       "<Figure size 432x288 with 1 Axes>"
      ]
     },
     "metadata": {},
     "output_type": "display_data"
    }
   ],
   "source": [
    "plt.plot(speechTrainData.history['acc'])\n",
    "plt.plot(speechTrainData.history['val_acc'])\n",
    "plt.title('Model Accuracy for CNN with Batch Size={}, Epochs={} '.format(batchSize,epochs))\n",
    "plt.ylabel('Accuracy')\n",
    "plt.xlabel('Epoch')\n",
    "plt.legend(['Train', 'Test'], loc='upper left')\n",
    "plt.show()\n",
    "# Plot Model  Loss\n",
    "plt.plot(speechTrainData.history['loss'])\n",
    "plt.plot(speechTrainData.history['val_loss'])\n",
    "plt.title('Model Loss for CNN with Batch Size={}, Epochs={} '.format(batchSize,epochs))\n",
    "plt.ylabel('Loss')\n",
    "plt.xlabel('Epoch')\n",
    "plt.legend(['Train', 'Test'], loc='upper left')\n",
    "plt.show()"
   ]
  },
  {
   "cell_type": "code",
   "execution_count": 23,
   "metadata": {},
   "outputs": [],
   "source": [
    "def ConfusionMatrix(actual,predicts,numberClasses,classname):\n",
    "    nc=numberClasses\n",
    "    confmat=np.zeros([nc,nc])\n",
    "    I = pd.Index(classname, name=\"rows\")\n",
    "    C = pd.Index(classname, name=\"columns\")\n",
    "    for ri in range (nc):\n",
    "        value=[]\n",
    "        trueIndex=np.where(actual[:,ri]==1)\n",
    "        for j in range (len(trueIndex[0])):\n",
    "            value.append(predict[trueIndex[0][j]])\n",
    "        for rj in range (nc):\n",
    "            confmat[ri][rj]=100*np.mean(value,axis=0)[rj]\n",
    "    df = pd.DataFrame(data=confmat, index=I, columns=C)\n",
    "    print(df)\n",
    "    return"
   ]
  },
  {
   "cell_type": "code",
   "execution_count": 24,
   "metadata": {},
   "outputs": [
    {
     "name": "stdout",
     "output_type": "stream",
     "text": [
      "Confusion Matrix for Train Data\n",
      "columns      Assamese    Bengali    Kannada  Malayalam    Punjabi  Rajasthani  \\\n",
      "rows                                                                            \n",
      "Assamese    98.949331   0.007295   0.110225   0.060274   0.438823    0.274097   \n",
      "Bengali      0.000462  99.757600   0.001879   0.145383   0.000666    0.000932   \n",
      "Kannada      0.003339   0.012470  99.553877   0.228280   0.001163    0.170712   \n",
      "Malayalam    0.007143   3.024234   0.403321  95.381212   0.043942    0.255990   \n",
      "Punjabi      0.011501   0.000511   0.004905   0.000541  99.959713    0.003165   \n",
      "Rajasthani   0.004737   0.003744   0.065286   0.031335   0.087363   99.669492   \n",
      "Tamil        0.003846   0.340013   0.117081   0.176226   0.002972    0.367359   \n",
      "Telugu       0.035346   0.019554   1.244343   0.524956   0.096195    2.642622   \n",
      "\n",
      "columns         Tamil     Telugu  \n",
      "rows                              \n",
      "Assamese     0.023327   0.138312  \n",
      "Bengali      0.092887   0.000344  \n",
      "Kannada      0.025331   0.006532  \n",
      "Malayalam    0.871294   0.012873  \n",
      "Punjabi      0.000434   0.018814  \n",
      "Rajasthani   0.131527   0.006508  \n",
      "Tamil       98.988414   0.004065  \n",
      "Telugu       0.040688  95.396227  \n"
     ]
    }
   ],
   "source": [
    "predict=model.predict(Xtrain)\n",
    "print('Confusion Matrix for Train Data')\n",
    "ConfusionMatrix(Ytrain,predict,num_classes,['Assamese','Bengali','Kannada','Malayalam','Punjabi','Rajasthani','Tamil','Telugu'])"
   ]
  },
  {
   "cell_type": "code",
   "execution_count": 25,
   "metadata": {
    "scrolled": false
   },
   "outputs": [
    {
     "name": "stdout",
     "output_type": "stream",
     "text": [
      "Confusion Matrix for Test Data\n",
      "columns      Assamese    Bengali    Kannada  Malayalam    Punjabi  Rajasthani  \\\n",
      "rows                                                                            \n",
      "Assamese    98.830575   0.009964   0.065687   0.142068   0.404165    0.323258   \n",
      "Bengali      0.001193  97.002012   0.006298   2.447707   0.001519    0.063121   \n",
      "Kannada      0.050535   0.044269  97.867781   1.405494   0.012840    0.379354   \n",
      "Malayalam    0.017868   6.921861   1.521360  86.783934   0.012194    0.465252   \n",
      "Punjabi      0.016084   0.001449   0.130330   0.001404  99.763125    0.021049   \n",
      "Rajasthani   0.007691   0.005579   0.392907   0.197515   0.025270   98.590869   \n",
      "Tamil        0.006230   1.141625   0.413353   1.565980   0.005914    0.457587   \n",
      "Telugu       0.065651   0.020791   1.149852   1.126596   0.278834    4.565233   \n",
      "\n",
      "columns         Tamil     Telugu  \n",
      "rows                              \n",
      "Assamese     0.125476   0.098927  \n",
      "Bengali      0.476636   0.001547  \n",
      "Kannada      0.181146   0.058902  \n",
      "Malayalam    4.248342   0.029216  \n",
      "Punjabi      0.001793   0.064778  \n",
      "Rajasthani   0.772534   0.007596  \n",
      "Tamil       96.402127   0.007197  \n",
      "Telugu       0.027459  92.765552  \n"
     ]
    }
   ],
   "source": [
    "predict=model.predict(Xtest)\n",
    "print('Confusion Matrix for Test Data')\n",
    "ConfusionMatrix(Ytest,predict,num_classes,['Assamese','Bengali','Kannada','Malayalam','Punjabi','Rajasthani','Tamil','Telugu'])"
   ]
  }
 ],
 "metadata": {
  "kernelspec": {
   "display_name": "Python 3",
   "language": "python",
   "name": "python3"
  },
  "language_info": {
   "codemirror_mode": {
    "name": "ipython",
    "version": 3
   },
   "file_extension": ".py",
   "mimetype": "text/x-python",
   "name": "python",
   "nbconvert_exporter": "python",
   "pygments_lexer": "ipython3",
   "version": "3.6.4"
  }
 },
 "nbformat": 4,
 "nbformat_minor": 2
}
