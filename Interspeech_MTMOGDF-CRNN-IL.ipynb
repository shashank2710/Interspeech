{
 "cells": [
  {
   "cell_type": "markdown",
   "metadata": {},
   "source": [
    "# Interspeech\n"
   ]
  },
  {
   "cell_type": "code",
   "execution_count": 1,
   "metadata": {},
   "outputs": [],
   "source": [
    "import matplotlib.pyplot"
   ]
  },
  {
   "cell_type": "code",
   "execution_count": 2,
   "metadata": {},
   "outputs": [
    {
     "name": "stderr",
     "output_type": "stream",
     "text": [
      "Using TensorFlow backend.\n"
     ]
    }
   ],
   "source": [
    "import numpy as np\n",
    "import pandas as pd\n",
    "\n",
    "import scipy.io as sio\n",
    "import matplotlib.pyplot as plt\n",
    "%matplotlib inline\n",
    "from skimage import io\n",
    "from sklearn.model_selection import train_test_split\n",
    "import random\n",
    "\n",
    "import keras\n",
    "from keras import backend as K\n",
    "from keras import layers\n",
    "\n",
    "from keras.utils import np_utils\n",
    "from keras.models import Sequential\n",
    "from keras.layers import Dense, Dropout, Activation\n",
    "\n",
    "from keras.datasets import mnist\n",
    "from keras.layers import Dense, Dropout, Flatten\n",
    "from keras.layers import Conv2D, MaxPooling2D\n",
    "from keras.layers.convolutional import Convolution2D\n",
    "\n",
    "from keras.layers.core import Dense, Permute, Reshape\n",
    "from keras.layers.normalization import BatchNormalization\n",
    "from keras.layers.wrappers import Bidirectional\n",
    "from keras.layers.recurrent import LSTM\n",
    "from keras.models import Sequential\n",
    "from keras.regularizers import l2\n",
    "\n",
    "import tensorflow as tf"
   ]
  },
  {
   "cell_type": "code",
   "execution_count": 3,
   "metadata": {},
   "outputs": [],
   "source": [
    "global X, T\n",
    "X=[]\n",
    "T=[]"
   ]
  },
  {
   "cell_type": "code",
   "execution_count": 4,
   "metadata": {},
   "outputs": [],
   "source": [
    "def loaddata(filename,num):\n",
    "    f=sio.loadmat(filename)\n",
    "    data=f['cep']\n",
    "    data=np.asarray(data)\n",
    "    mean=np.mean(data,axis=0)\n",
    "    std=np.std(data,axis=0)\n",
    "    data=(data-mean)/std\n",
    "    data=np.asarray(np.vsplit(data[0:int(data.shape[0]/data.shape[1])*data.shape[1]],int(data.shape[0]/data.shape[1])))\n",
    "    for i in range (data.shape[0]):\n",
    "        X.append(data[i])\n",
    "        T.append(num)\n",
    "    return X, T"
   ]
  },
  {
   "cell_type": "code",
   "execution_count": 5,
   "metadata": {},
   "outputs": [
    {
     "data": {
      "text/plain": [
       "(5704, 5704)"
      ]
     },
     "execution_count": 5,
     "metadata": {},
     "output_type": "execute_result"
    }
   ],
   "source": [
    "X,T = loaddata('assamese.mat',0)\n",
    "len(X), len(T)"
   ]
  },
  {
   "cell_type": "code",
   "execution_count": 6,
   "metadata": {},
   "outputs": [
    {
     "data": {
      "text/plain": [
       "(8880, 8880)"
      ]
     },
     "execution_count": 6,
     "metadata": {},
     "output_type": "execute_result"
    }
   ],
   "source": [
    "X,T = loaddata('bengali.mat',1)\n",
    "len(X), len(T)"
   ]
  },
  {
   "cell_type": "code",
   "execution_count": 7,
   "metadata": {},
   "outputs": [
    {
     "data": {
      "text/plain": [
       "(15135, 15135)"
      ]
     },
     "execution_count": 7,
     "metadata": {},
     "output_type": "execute_result"
    }
   ],
   "source": [
    "X,T = loaddata('kannada.mat',2)\n",
    "len(X),len(T)"
   ]
  },
  {
   "cell_type": "code",
   "execution_count": 8,
   "metadata": {},
   "outputs": [
    {
     "data": {
      "text/plain": [
       "(18272, 18272)"
      ]
     },
     "execution_count": 8,
     "metadata": {},
     "output_type": "execute_result"
    }
   ],
   "source": [
    "X,T = loaddata('malayalam.mat',3)\n",
    "len(X),len(T)"
   ]
  },
  {
   "cell_type": "code",
   "execution_count": 9,
   "metadata": {},
   "outputs": [
    {
     "data": {
      "text/plain": [
       "(21083, 21083)"
      ]
     },
     "execution_count": 9,
     "metadata": {},
     "output_type": "execute_result"
    }
   ],
   "source": [
    "X,T = loaddata('punjabi.mat',4)\n",
    "len(X),len(T)"
   ]
  },
  {
   "cell_type": "code",
   "execution_count": 10,
   "metadata": {},
   "outputs": [
    {
     "data": {
      "text/plain": [
       "(24092, 24092)"
      ]
     },
     "execution_count": 10,
     "metadata": {},
     "output_type": "execute_result"
    }
   ],
   "source": [
    "X,T = loaddata('rajasthani.mat',5)\n",
    "len(X),len(T)"
   ]
  },
  {
   "cell_type": "code",
   "execution_count": 11,
   "metadata": {},
   "outputs": [
    {
     "data": {
      "text/plain": [
       "(27027, 27027)"
      ]
     },
     "execution_count": 11,
     "metadata": {},
     "output_type": "execute_result"
    }
   ],
   "source": [
    "X,T = loaddata('tamil.mat',6)\n",
    "len(X),len(T)"
   ]
  },
  {
   "cell_type": "code",
   "execution_count": 12,
   "metadata": {},
   "outputs": [
    {
     "data": {
      "text/plain": [
       "(29906, 29906)"
      ]
     },
     "execution_count": 12,
     "metadata": {},
     "output_type": "execute_result"
    }
   ],
   "source": [
    "X,T = loaddata('telugu.mat',7)\n",
    "len(X),len(T)"
   ]
  },
  {
   "cell_type": "code",
   "execution_count": 13,
   "metadata": {},
   "outputs": [
    {
     "data": {
      "text/plain": [
       "(39070, 39070)"
      ]
     },
     "execution_count": 13,
     "metadata": {},
     "output_type": "execute_result"
    }
   ],
   "source": [
    "X,T = loaddata('hindi.mat',8)\n",
    "len(X),len(T)"
   ]
  },
  {
   "cell_type": "code",
   "execution_count": 14,
   "metadata": {},
   "outputs": [
    {
     "data": {
      "text/plain": [
       "(42544, 42544)"
      ]
     },
     "execution_count": 14,
     "metadata": {},
     "output_type": "execute_result"
    }
   ],
   "source": [
    "X,T = loaddata('gujrati.mat',9)\n",
    "len(X),len(T)"
   ]
  },
  {
   "cell_type": "markdown",
   "metadata": {},
   "source": [
    "## Split Dataset"
   ]
  },
  {
   "cell_type": "code",
   "execution_count": 15,
   "metadata": {},
   "outputs": [
    {
     "name": "stderr",
     "output_type": "stream",
     "text": [
      "c:\\users\\shash\\anaconda3\\envs\\tensorflow-gpu\\lib\\site-packages\\sklearn\\model_selection\\_split.py:2026: FutureWarning: From version 0.21, test_size will always complement train_size unless both are specified.\n",
      "  FutureWarning)\n"
     ]
    },
    {
     "data": {
      "text/plain": [
       "((34035, 39, 39), (8509, 39, 39))"
      ]
     },
     "execution_count": 15,
     "metadata": {},
     "output_type": "execute_result"
    }
   ],
   "source": [
    "Xtrain, Xtest, Ytrain, Ytest = train_test_split(np.array(X),np.array(T), train_size=0.8, random_state=30)\n",
    "np.array(Xtrain).shape, np.array(Xtest).shape"
   ]
  },
  {
   "cell_type": "markdown",
   "metadata": {},
   "source": [
    "## Convert 2D dataset to a 1D vector"
   ]
  },
  {
   "cell_type": "code",
   "execution_count": 16,
   "metadata": {},
   "outputs": [],
   "source": [
    "batchSize=128\n",
    "num_classes=10\n",
    "epochs=10\n",
    "imageRows, imageCols =39,39"
   ]
  },
  {
   "cell_type": "code",
   "execution_count": 17,
   "metadata": {},
   "outputs": [],
   "source": [
    "Xtrain = Xtrain.reshape(Xtrain.shape[0], imageRows, imageCols, 1)\n",
    "Xtest = Xtest.reshape(Xtest.shape[0], imageRows,imageCols, 1)\n",
    "input_shape = (imageRows, imageCols, 1)\n",
    "Xtrain = Xtrain.astype('float32')\n",
    "Xtest = Xtest.astype('float32')"
   ]
  },
  {
   "cell_type": "code",
   "execution_count": 18,
   "metadata": {},
   "outputs": [
    {
     "data": {
      "text/plain": [
       "(39, 39, 1)"
      ]
     },
     "execution_count": 18,
     "metadata": {},
     "output_type": "execute_result"
    }
   ],
   "source": [
    "input_shape"
   ]
  },
  {
   "cell_type": "code",
   "execution_count": 19,
   "metadata": {},
   "outputs": [],
   "source": [
    "Ytrain = keras.utils.to_categorical(Ytrain, num_classes)\n",
    "Ytest = keras.utils.to_categorical(Ytest, num_classes)"
   ]
  },
  {
   "cell_type": "markdown",
   "metadata": {},
   "source": [
    "## Define CNN Model"
   ]
  },
  {
   "cell_type": "code",
   "execution_count": 20,
   "metadata": {},
   "outputs": [
    {
     "name": "stderr",
     "output_type": "stream",
     "text": [
      "c:\\users\\shash\\anaconda3\\envs\\tensorflow-gpu\\lib\\site-packages\\ipykernel_launcher.py:5: UserWarning: Update your `Conv2D` call to the Keras 2 API: `Conv2D(64, kernel_size=(3, 3), padding=\"same\", activation=\"relu\", input_shape=(39, 39, 1..., kernel_regularizer=<keras.reg...)`\n",
      "  \"\"\"\n",
      "c:\\users\\shash\\anaconda3\\envs\\tensorflow-gpu\\lib\\site-packages\\ipykernel_launcher.py:9: UserWarning: Update your `Conv2D` call to the Keras 2 API: `Conv2D(128, kernel_size=(3, 3), padding=\"same\", activation=\"relu\", kernel_regularizer=<keras.reg...)`\n",
      "  if __name__ == '__main__':\n",
      "c:\\users\\shash\\anaconda3\\envs\\tensorflow-gpu\\lib\\site-packages\\ipykernel_launcher.py:13: UserWarning: Update your `Conv2D` call to the Keras 2 API: `Conv2D(256, kernel_size=(3, 3), padding=\"same\", activation=\"relu\", kernel_regularizer=<keras.reg...)`\n",
      "  del sys.path[0]\n",
      "c:\\users\\shash\\anaconda3\\envs\\tensorflow-gpu\\lib\\site-packages\\ipykernel_launcher.py:17: UserWarning: Update your `Conv2D` call to the Keras 2 API: `Conv2D(256, kernel_size=(3, 3), padding=\"same\", activation=\"relu\", kernel_regularizer=<keras.reg...)`\n",
      "c:\\users\\shash\\anaconda3\\envs\\tensorflow-gpu\\lib\\site-packages\\ipykernel_launcher.py:21: UserWarning: Update your `Conv2D` call to the Keras 2 API: `Conv2D(512, kernel_size=(3, 3), padding=\"same\", activation=\"relu\", kernel_regularizer=<keras.reg...)`\n",
      "c:\\users\\shash\\anaconda3\\envs\\tensorflow-gpu\\lib\\site-packages\\ipykernel_launcher.py:25: UserWarning: Update your `Conv2D` call to the Keras 2 API: `Conv2D(512, kernel_size=(3, 3), padding=\"same\", activation=\"relu\", kernel_regularizer=<keras.reg...)`\n",
      "c:\\users\\shash\\anaconda3\\envs\\tensorflow-gpu\\lib\\site-packages\\ipykernel_launcher.py:29: UserWarning: Update your `Conv2D` call to the Keras 2 API: `Conv2D(512, kernel_size=(3, 3), padding=\"same\", activation=\"relu\", kernel_regularizer=<keras.reg...)`\n"
     ]
    }
   ],
   "source": [
    "weight_decay = 0.001\n",
    "\n",
    "model = Sequential()\n",
    "\n",
    "model.add(Conv2D(64, kernel_size=(3,3), W_regularizer=l2(weight_decay), padding=\"same\", activation=\"relu\", input_shape=input_shape))\n",
    "model.add(BatchNormalization())\n",
    "model.add(MaxPooling2D(pool_size=(2, 2), strides=(2, 2)))\n",
    "\n",
    "model.add(Conv2D(128, kernel_size=(3,3), W_regularizer=l2(weight_decay), padding=\"same\", activation=\"relu\"))\n",
    "model.add(BatchNormalization())\n",
    "model.add(MaxPooling2D(pool_size=(2, 2), strides=(2, 2)))\n",
    "\n",
    "model.add(Conv2D(256, kernel_size=(3,3), W_regularizer=l2(weight_decay), padding=\"same\", activation=\"relu\"))\n",
    "model.add(BatchNormalization())\n",
    "#model.add(MaxPooling2D(pool_size=(2, 2), strides=(2, 2)))\n",
    "\n",
    "model.add(Conv2D(256, kernel_size=(3,3), W_regularizer=l2(weight_decay), padding=\"same\", activation=\"relu\"))\n",
    "model.add(BatchNormalization())\n",
    "model.add(MaxPooling2D(pool_size=(2, 2), strides=(2, 2)))\n",
    "\n",
    "model.add(Conv2D(512, kernel_size=(3,3), W_regularizer=l2(weight_decay), padding=\"same\", activation=\"relu\"))\n",
    "model.add(BatchNormalization())\n",
    "#model.add(MaxPooling2D(pool_size=(2, 2), strides=(2, 2)))\n",
    "\n",
    "model.add(Conv2D(512, kernel_size=(3,3), W_regularizer=l2(weight_decay),padding=\"same\", activation=\"relu\"))\n",
    "model.add(BatchNormalization())\n",
    "model.add(MaxPooling2D(pool_size=(2, 2), strides=(2, 2)))\n",
    "\n",
    "model.add(Conv2D(512, kernel_size=(3,3), W_regularizer=l2(weight_decay), padding=\"same\", activation=\"relu\"))\n",
    "model.add(BatchNormalization())\n",
    "model.add(MaxPooling2D(pool_size=(2, 2), strides=(2, 2)))\n",
    "\n",
    "    # (bs, y, x, c) --> (bs, x, y, c)\n",
    "model.add(Permute((2, 1, 3)))\n",
    "\n",
    "    # (bs, x, y, c) --> (bs, x, y * c)\n",
    "bs, x, y, c = model.layers[-1].output_shape\n",
    "model.add(Reshape((x, y*c)))\n",
    "\n",
    "model.add(Bidirectional(LSTM(256, return_sequences=False), merge_mode=\"concat\"))\n",
    "model.add(Dense(num_classes, activation=\"softmax\"))\n"
   ]
  },
  {
   "cell_type": "code",
   "execution_count": 21,
   "metadata": {},
   "outputs": [
    {
     "name": "stdout",
     "output_type": "stream",
     "text": [
      "_________________________________________________________________\n",
      "Layer (type)                 Output Shape              Param #   \n",
      "=================================================================\n",
      "conv2d_1 (Conv2D)            (None, 39, 39, 64)        640       \n",
      "_________________________________________________________________\n",
      "batch_normalization_1 (Batch (None, 39, 39, 64)        256       \n",
      "_________________________________________________________________\n",
      "max_pooling2d_1 (MaxPooling2 (None, 19, 19, 64)        0         \n",
      "_________________________________________________________________\n",
      "conv2d_2 (Conv2D)            (None, 19, 19, 128)       73856     \n",
      "_________________________________________________________________\n",
      "batch_normalization_2 (Batch (None, 19, 19, 128)       512       \n",
      "_________________________________________________________________\n",
      "max_pooling2d_2 (MaxPooling2 (None, 9, 9, 128)         0         \n",
      "_________________________________________________________________\n",
      "conv2d_3 (Conv2D)            (None, 9, 9, 256)         295168    \n",
      "_________________________________________________________________\n",
      "batch_normalization_3 (Batch (None, 9, 9, 256)         1024      \n",
      "_________________________________________________________________\n",
      "conv2d_4 (Conv2D)            (None, 9, 9, 256)         590080    \n",
      "_________________________________________________________________\n",
      "batch_normalization_4 (Batch (None, 9, 9, 256)         1024      \n",
      "_________________________________________________________________\n",
      "max_pooling2d_3 (MaxPooling2 (None, 4, 4, 256)         0         \n",
      "_________________________________________________________________\n",
      "conv2d_5 (Conv2D)            (None, 4, 4, 512)         1180160   \n",
      "_________________________________________________________________\n",
      "batch_normalization_5 (Batch (None, 4, 4, 512)         2048      \n",
      "_________________________________________________________________\n",
      "conv2d_6 (Conv2D)            (None, 4, 4, 512)         2359808   \n",
      "_________________________________________________________________\n",
      "batch_normalization_6 (Batch (None, 4, 4, 512)         2048      \n",
      "_________________________________________________________________\n",
      "max_pooling2d_4 (MaxPooling2 (None, 2, 2, 512)         0         \n",
      "_________________________________________________________________\n",
      "conv2d_7 (Conv2D)            (None, 2, 2, 512)         2359808   \n",
      "_________________________________________________________________\n",
      "batch_normalization_7 (Batch (None, 2, 2, 512)         2048      \n",
      "_________________________________________________________________\n",
      "max_pooling2d_5 (MaxPooling2 (None, 1, 1, 512)         0         \n",
      "_________________________________________________________________\n",
      "permute_1 (Permute)          (None, 1, 1, 512)         0         \n",
      "_________________________________________________________________\n",
      "reshape_1 (Reshape)          (None, 1, 512)            0         \n",
      "_________________________________________________________________\n",
      "bidirectional_1 (Bidirection (None, 512)               1574912   \n",
      "_________________________________________________________________\n",
      "dense_1 (Dense)              (None, 10)                5130      \n",
      "=================================================================\n",
      "Total params: 8,448,522\n",
      "Trainable params: 8,444,042\n",
      "Non-trainable params: 4,480\n",
      "_________________________________________________________________\n"
     ]
    }
   ],
   "source": [
    "model.summary()"
   ]
  },
  {
   "cell_type": "markdown",
   "metadata": {},
   "source": [
    "## Model Train"
   ]
  },
  {
   "cell_type": "code",
   "execution_count": 22,
   "metadata": {},
   "outputs": [],
   "source": [
    "model.compile(loss=keras.losses.categorical_crossentropy,optimizer=keras.optimizers.Adadelta(),metrics=['accuracy'])"
   ]
  },
  {
   "cell_type": "code",
   "execution_count": 23,
   "metadata": {},
   "outputs": [
    {
     "name": "stdout",
     "output_type": "stream",
     "text": [
      "Train on 34035 samples, validate on 8509 samples\n",
      "Epoch 1/10\n",
      "34035/34035 [==============================] - 35s 1ms/step - loss: 2.1272 - acc: 0.7644 - val_loss: 1.6883 - val_acc: 0.7654\n",
      "Epoch 2/10\n",
      "34035/34035 [==============================] - 30s 877us/step - loss: 1.0074 - acc: 0.9289 - val_loss: 0.9554 - val_acc: 0.8759\n",
      "Epoch 3/10\n",
      "34035/34035 [==============================] - 30s 883us/step - loss: 0.6324 - acc: 0.9522 - val_loss: 0.7168 - val_acc: 0.8913\n",
      "Epoch 4/10\n",
      "34035/34035 [==============================] - 30s 883us/step - loss: 0.4678 - acc: 0.9601 - val_loss: 0.7128 - val_acc: 0.8766\n",
      "Epoch 5/10\n",
      "34035/34035 [==============================] - 30s 886us/step - loss: 0.3826 - acc: 0.9655 - val_loss: 0.7030 - val_acc: 0.8641\n",
      "Epoch 6/10\n",
      "34035/34035 [==============================] - 30s 885us/step - loss: 0.3547 - acc: 0.9658 - val_loss: 0.4650 - val_acc: 0.9240\n",
      "Epoch 7/10\n",
      "34035/34035 [==============================] - 31s 901us/step - loss: 0.3200 - acc: 0.9706 - val_loss: 0.4240 - val_acc: 0.9374\n",
      "Epoch 8/10\n",
      "34035/34035 [==============================] - 31s 906us/step - loss: 0.3070 - acc: 0.9713 - val_loss: 0.3448 - val_acc: 0.9576\n",
      "Epoch 9/10\n",
      "34035/34035 [==============================] - 30s 885us/step - loss: 0.2912 - acc: 0.9729 - val_loss: 0.3137 - val_acc: 0.9678\n",
      "Epoch 10/10\n",
      "34035/34035 [==============================] - 30s 893us/step - loss: 0.2785 - acc: 0.9758 - val_loss: 0.3498 - val_acc: 0.9518\n"
     ]
    }
   ],
   "source": [
    "speechTrainData=model.fit(Xtrain, Ytrain,batch_size=batchSize,epochs=epochs,verbose=1,validation_data=(Xtest, Ytest))"
   ]
  },
  {
   "cell_type": "code",
   "execution_count": 24,
   "metadata": {},
   "outputs": [
    {
     "data": {
      "image/png": "[encoded data removed]",
      "text/plain": [
       "<Figure size 432x288 with 1 Axes>"
      ]
     },
     "metadata": {},
     "output_type": "display_data"
    },
    {
     "data": {
      "image/png": "[encoded data removed]",
      "text/plain": [
       "<Figure size 432x288 with 1 Axes>"
      ]
     },
     "metadata": {},
     "output_type": "display_data"
    }
   ],
   "source": [
    "plt.plot(speechTrainData.history['acc'])\n",
    "plt.plot(speechTrainData.history['val_acc'])\n",
    "plt.title('Model Accuracy for CNN with Batch Size={}, Epochs={} '.format(batchSize,epochs))\n",
    "plt.ylabel('Accuracy')\n",
    "plt.xlabel('Epoch')\n",
    "plt.legend(['Train', 'Test'], loc='upper left')\n",
    "plt.show()\n",
    "# Plot Model  Loss\n",
    "plt.plot(speechTrainData.history['loss'])\n",
    "plt.plot(speechTrainData.history['val_loss'])\n",
    "plt.title('Model Loss for CNN with Batch Size={}, Epochs={} '.format(batchSize,epochs))\n",
    "plt.ylabel('Loss')\n",
    "plt.xlabel('Epoch')\n",
    "plt.legend(['Train', 'Test'], loc='upper left')\n",
    "plt.show()"
   ]
  },
  {
   "cell_type": "code",
   "execution_count": 25,
   "metadata": {},
   "outputs": [],
   "source": [
    "def ConfusionMatrix(actual,predicts,numberClasses,classname):\n",
    "    nc=numberClasses\n",
    "    confmat=np.zeros([nc,nc])\n",
    "    I = pd.Index(classname, name=\"rows\")\n",
    "    C = pd.Index(classname, name=\"columns\")\n",
    "    for ri in range (nc):\n",
    "        value=[]\n",
    "        trueIndex=np.where(actual[:,ri]==1)\n",
    "        for j in range (len(trueIndex[0])):\n",
    "            value.append(predict[trueIndex[0][j]])\n",
    "        for rj in range (nc):\n",
    "            confmat[ri][rj]=100*np.mean(value,axis=0)[rj]\n",
    "    df = pd.DataFrame(data=confmat, index=I, columns=C)\n",
    "    print(df)\n",
    "    return"
   ]
  },
  {
   "cell_type": "code",
   "execution_count": 26,
   "metadata": {},
   "outputs": [
    {
     "name": "stdout",
     "output_type": "stream",
     "text": [
      "Confusion Matrix for Train Data\n",
      "columns      Assamese    Bengali    Kannada  Malayalam    Punjabi  Rajasthani  \\\n",
      "rows                                                                            \n",
      "Assamese    94.806224   0.007021   0.003392   0.017279   0.032794    0.012189   \n",
      "Bengali      0.001446  98.532683   0.003315   0.942279   0.001173    0.244165   \n",
      "Kannada      0.018629   0.100980  88.756728   0.157227   0.014339    5.249141   \n",
      "Malayalam    0.006808   1.847795   0.029551  92.789108   0.003076    0.226874   \n",
      "Punjabi      0.199999   0.001775   0.003496   0.006815  98.981619    0.072832   \n",
      "Rajasthani   0.001570   0.012114   0.058316   0.088714   0.001172   99.366254   \n",
      "Tamil        0.009844   1.052394   0.854124   0.100138   0.006328    1.234529   \n",
      "Telugu       0.018265   0.016126   0.073366   0.234840   0.018591    2.022316   \n",
      "Hindi        0.033525   0.194661   0.024558   1.599948   0.005261    1.959298   \n",
      "Gujrati      0.012586   0.016647   0.011333   0.182167   0.009004    0.169686   \n",
      "\n",
      "columns         Tamil     Telugu      Hindi    Gujrati  \n",
      "rows                                                    \n",
      "Assamese     0.002468   0.017023   5.057551   0.044050  \n",
      "Bengali      0.047396   0.001687   0.220096   0.005758  \n",
      "Kannada      3.707108   0.418881   1.521289   0.055696  \n",
      "Malayalam    0.023139   0.020905   5.039744   0.012917  \n",
      "Punjabi      0.001270   0.189729   0.485702   0.056826  \n",
      "Rajasthani   0.015968   0.005947   0.440202   0.009660  \n",
      "Tamil       96.341032   0.007037   0.286797   0.107808  \n",
      "Telugu       0.011671  90.450156   7.080571   0.074108  \n",
      "Hindi        0.028764   0.043835  95.719343   0.390816  \n",
      "Gujrati      0.016280   0.021470   2.265572  97.295260  \n"
     ]
    }
   ],
   "source": [
    "predict=model.predict(Xtrain)\n",
    "print('Confusion Matrix for Train Data')\n",
    "ConfusionMatrix(Ytrain,predict,num_classes,['Assamese','Bengali','Kannada','Malayalam','Punjabi','Rajasthani','Tamil','Telugu','Hindi','Gujrati'])"
   ]
  },
  {
   "cell_type": "code",
   "execution_count": 27,
   "metadata": {
    "scrolled": false
   },
   "outputs": [
    {
     "name": "stdout",
     "output_type": "stream",
     "text": [
      "Confusion Matrix for Test Data\n",
      "columns      Assamese    Bengali    Kannada  Malayalam    Punjabi  Rajasthani  \\\n",
      "rows                                                                            \n",
      "Assamese    94.057578   0.004923   0.003395   0.011228   0.023999    0.010826   \n",
      "Bengali      0.002124  97.826296   0.004292   1.191550   0.001616    0.286455   \n",
      "Kannada      0.018656   0.271191  87.911522   0.158436   0.014170    4.965767   \n",
      "Malayalam    0.009208   4.091477   0.006417  86.323363   0.003695    0.399299   \n",
      "Punjabi      0.473587   0.001065   0.002633   0.005217  98.470747    0.003337   \n",
      "Rajasthani   0.001521   0.012357   0.001794   0.144612   0.000721   98.897696   \n",
      "Tamil        0.012877   1.734134   1.374982   0.193816   0.008273    1.422100   \n",
      "Telugu       0.026595   0.013404   0.068637   0.414672   0.020907    1.457801   \n",
      "Hindi        0.032939   0.248777   0.011888   1.982414   0.008817    2.385776   \n",
      "Gujrati      0.017217   0.014250   0.007696   0.365042   0.008108    0.464663   \n",
      "\n",
      "columns         Tamil     Telugu      Hindi    Gujrati  \n",
      "rows                                                    \n",
      "Assamese     0.002449   0.055980   5.619856   0.209784  \n",
      "Bengali      0.058490   0.002385   0.601574   0.025229  \n",
      "Kannada      4.774939   0.388810   1.439069   0.057409  \n",
      "Malayalam    0.011425   0.027032   9.111284   0.016829  \n",
      "Punjabi      0.000718   0.606555   0.412975   0.023147  \n",
      "Rajasthani   0.005869   0.004850   0.919364   0.011170  \n",
      "Tamil       94.701797   0.009348   0.419184   0.123455  \n",
      "Telugu       0.006516  88.896596   9.046241   0.048646  \n",
      "Hindi        0.019619   0.056933  94.585061   0.667853  \n",
      "Gujrati      0.016158   0.026721   5.700821  93.379301  \n"
     ]
    }
   ],
   "source": [
    "predict=model.predict(Xtest)\n",
    "print('Confusion Matrix for Test Data')\n",
    "ConfusionMatrix(Ytest,predict,num_classes,['Assamese','Bengali','Kannada','Malayalam','Punjabi','Rajasthani','Tamil','Telugu','Hindi','Gujrati'])"
   ]
  }
 ],
 "metadata": {
  "kernelspec": {
   "display_name": "Python 3",
   "language": "python",
   "name": "python3"
  },
  "language_info": {
   "codemirror_mode": {
    "name": "ipython",
    "version": 3
   },
   "file_extension": ".py",
   "mimetype": "text/x-python",
   "name": "python",
   "nbconvert_exporter": "python",
   "pygments_lexer": "ipython3",
   "version": "3.6.4"
  }
 },
 "nbformat": 4,
 "nbformat_minor": 2
}
