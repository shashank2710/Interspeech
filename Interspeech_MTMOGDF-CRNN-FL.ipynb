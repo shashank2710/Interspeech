{
 "cells": [
  {
   "cell_type": "markdown",
   "metadata": {},
   "source": [
    "# Interspeech\n"
   ]
  },
  {
   "cell_type": "code",
   "execution_count": 1,
   "metadata": {},
   "outputs": [],
   "source": [
    "import matplotlib.pyplot"
   ]
  },
  {
   "cell_type": "code",
   "execution_count": 2,
   "metadata": {},
   "outputs": [
    {
     "name": "stderr",
     "output_type": "stream",
     "text": [
      "Using TensorFlow backend.\n"
     ]
    }
   ],
   "source": [
    "import numpy as np\n",
    "import pandas as pd\n",
    "\n",
    "import scipy.io as sio\n",
    "import matplotlib.pyplot as plt\n",
    "%matplotlib inline\n",
    "from skimage import io\n",
    "from sklearn.model_selection import train_test_split\n",
    "import random\n",
    "\n",
    "import keras\n",
    "from keras import backend as K\n",
    "from keras import layers\n",
    "\n",
    "from keras.utils import np_utils\n",
    "from keras.models import Sequential\n",
    "from keras.layers import Dense, Dropout, Activation\n",
    "\n",
    "from keras.datasets import mnist\n",
    "from keras.layers import Dense, Dropout, Flatten\n",
    "from keras.layers import Conv2D, MaxPooling2D\n",
    "from keras.layers.convolutional import Convolution2D\n",
    "\n",
    "from keras.layers.core import Dense, Permute, Reshape\n",
    "from keras.layers.normalization import BatchNormalization\n",
    "from keras.layers.wrappers import Bidirectional\n",
    "from keras.layers.recurrent import LSTM\n",
    "from keras.models import Sequential\n",
    "from keras.regularizers import l2\n",
    "\n",
    "import tensorflow as tf"
   ]
  },
  {
   "cell_type": "code",
   "execution_count": 3,
   "metadata": {},
   "outputs": [],
   "source": [
    "global X, T\n",
    "X=[]\n",
    "T=[]"
   ]
  },
  {
   "cell_type": "code",
   "execution_count": 4,
   "metadata": {},
   "outputs": [],
   "source": [
    "def loaddata(filename,num):\n",
    "    f=sio.loadmat(filename)\n",
    "    data=f['cep']\n",
    "    data=np.asarray(data)\n",
    "    mean=np.mean(data,axis=0)\n",
    "    std=np.std(data,axis=0)\n",
    "    data=(data-mean)/std\n",
    "    data=np.asarray(np.vsplit(data[0:int(data.shape[0]/data.shape[1])*data.shape[1]],int(data.shape[0]/data.shape[1])))\n",
    "    for i in range (data.shape[0]):\n",
    "        X.append(data[i])\n",
    "        T.append(num)\n",
    "    return X, T"
   ]
  },
  {
   "cell_type": "code",
   "execution_count": 5,
   "metadata": {},
   "outputs": [
    {
     "data": {
      "text/plain": [
       "(3220, 3220)"
      ]
     },
     "execution_count": 5,
     "metadata": {},
     "output_type": "execute_result"
    }
   ],
   "source": [
    "X,T = loaddata('Chinese.mat',0)\n",
    "len(X), len(T)"
   ]
  },
  {
   "cell_type": "code",
   "execution_count": 6,
   "metadata": {},
   "outputs": [
    {
     "data": {
      "text/plain": [
       "(11140, 11140)"
      ]
     },
     "execution_count": 6,
     "metadata": {},
     "output_type": "execute_result"
    }
   ],
   "source": [
    "X,T = loaddata('French.mat',1)\n",
    "len(X), len(T)"
   ]
  },
  {
   "cell_type": "code",
   "execution_count": 7,
   "metadata": {},
   "outputs": [
    {
     "data": {
      "text/plain": [
       "(14700, 14700)"
      ]
     },
     "execution_count": 7,
     "metadata": {},
     "output_type": "execute_result"
    }
   ],
   "source": [
    "X,T = loaddata('German.mat',2)\n",
    "len(X), len(T)"
   ]
  },
  {
   "cell_type": "code",
   "execution_count": 8,
   "metadata": {},
   "outputs": [
    {
     "data": {
      "text/plain": [
       "(17069, 17069)"
      ]
     },
     "execution_count": 8,
     "metadata": {},
     "output_type": "execute_result"
    }
   ],
   "source": [
    "X,T = loaddata('Russian.mat',3)\n",
    "len(X), len(T)"
   ]
  },
  {
   "cell_type": "code",
   "execution_count": 9,
   "metadata": {},
   "outputs": [
    {
     "data": {
      "text/plain": [
       "(20693, 20693)"
      ]
     },
     "execution_count": 9,
     "metadata": {},
     "output_type": "execute_result"
    }
   ],
   "source": [
    "X,T = loaddata('Spanish.mat',4)\n",
    "len(X), len(T)"
   ]
  },
  {
   "cell_type": "code",
   "execution_count": 10,
   "metadata": {},
   "outputs": [
    {
     "data": {
      "text/plain": [
       "(24445, 24445)"
      ]
     },
     "execution_count": 10,
     "metadata": {},
     "output_type": "execute_result"
    }
   ],
   "source": [
    "X,T = loaddata('english.mat',5)\n",
    "len(X), len(T)"
   ]
  },
  {
   "cell_type": "markdown",
   "metadata": {},
   "source": [
    "## Split Dataset"
   ]
  },
  {
   "cell_type": "code",
   "execution_count": 11,
   "metadata": {},
   "outputs": [
    {
     "name": "stderr",
     "output_type": "stream",
     "text": [
      "c:\\users\\shash\\anaconda3\\envs\\tensorflow-gpu\\lib\\site-packages\\sklearn\\model_selection\\_split.py:2026: FutureWarning: From version 0.21, test_size will always complement train_size unless both are specified.\n",
      "  FutureWarning)\n"
     ]
    },
    {
     "data": {
      "text/plain": [
       "((19556, 39, 39), (4889, 39, 39))"
      ]
     },
     "execution_count": 11,
     "metadata": {},
     "output_type": "execute_result"
    }
   ],
   "source": [
    "Xtrain, Xtest, Ytrain, Ytest = train_test_split(np.array(X),np.array(T), train_size=0.8, random_state=30)\n",
    "np.array(Xtrain).shape, np.array(Xtest).shape"
   ]
  },
  {
   "cell_type": "markdown",
   "metadata": {},
   "source": [
    "## Convert 2D dataset to a 1D vector"
   ]
  },
  {
   "cell_type": "code",
   "execution_count": 12,
   "metadata": {},
   "outputs": [],
   "source": [
    "batchSize=128\n",
    "num_classes=6\n",
    "epochs=10\n",
    "imageRows, imageCols =39,39"
   ]
  },
  {
   "cell_type": "code",
   "execution_count": 13,
   "metadata": {},
   "outputs": [],
   "source": [
    "Xtrain = Xtrain.reshape(Xtrain.shape[0], imageRows, imageCols, 1)\n",
    "Xtest = Xtest.reshape(Xtest.shape[0], imageRows,imageCols, 1)\n",
    "input_shape = (imageRows, imageCols, 1)\n",
    "Xtrain = Xtrain.astype('float32')\n",
    "Xtest = Xtest.astype('float32')"
   ]
  },
  {
   "cell_type": "code",
   "execution_count": 14,
   "metadata": {},
   "outputs": [
    {
     "data": {
      "text/plain": [
       "(39, 39, 1)"
      ]
     },
     "execution_count": 14,
     "metadata": {},
     "output_type": "execute_result"
    }
   ],
   "source": [
    "input_shape"
   ]
  },
  {
   "cell_type": "code",
   "execution_count": 15,
   "metadata": {},
   "outputs": [],
   "source": [
    "Ytrain = keras.utils.to_categorical(Ytrain, num_classes)\n",
    "Ytest = keras.utils.to_categorical(Ytest, num_classes)"
   ]
  },
  {
   "cell_type": "markdown",
   "metadata": {},
   "source": [
    "## Define CNN Model"
   ]
  },
  {
   "cell_type": "code",
   "execution_count": 16,
   "metadata": {},
   "outputs": [
    {
     "name": "stderr",
     "output_type": "stream",
     "text": [
      "c:\\users\\shash\\anaconda3\\envs\\tensorflow-gpu\\lib\\site-packages\\ipykernel_launcher.py:5: UserWarning: Update your `Conv2D` call to the Keras 2 API: `Conv2D(64, kernel_size=(3, 3), padding=\"same\", activation=\"relu\", input_shape=(39, 39, 1..., kernel_regularizer=<keras.reg...)`\n",
      "  \"\"\"\n",
      "c:\\users\\shash\\anaconda3\\envs\\tensorflow-gpu\\lib\\site-packages\\ipykernel_launcher.py:9: UserWarning: Update your `Conv2D` call to the Keras 2 API: `Conv2D(128, kernel_size=(3, 3), padding=\"same\", activation=\"relu\", kernel_regularizer=<keras.reg...)`\n",
      "  if __name__ == '__main__':\n",
      "c:\\users\\shash\\anaconda3\\envs\\tensorflow-gpu\\lib\\site-packages\\ipykernel_launcher.py:13: UserWarning: Update your `Conv2D` call to the Keras 2 API: `Conv2D(256, kernel_size=(3, 3), padding=\"same\", activation=\"relu\", kernel_regularizer=<keras.reg...)`\n",
      "  del sys.path[0]\n",
      "c:\\users\\shash\\anaconda3\\envs\\tensorflow-gpu\\lib\\site-packages\\ipykernel_launcher.py:17: UserWarning: Update your `Conv2D` call to the Keras 2 API: `Conv2D(256, kernel_size=(3, 3), padding=\"same\", activation=\"relu\", kernel_regularizer=<keras.reg...)`\n",
      "c:\\users\\shash\\anaconda3\\envs\\tensorflow-gpu\\lib\\site-packages\\ipykernel_launcher.py:21: UserWarning: Update your `Conv2D` call to the Keras 2 API: `Conv2D(512, kernel_size=(3, 3), padding=\"same\", activation=\"relu\", kernel_regularizer=<keras.reg...)`\n",
      "c:\\users\\shash\\anaconda3\\envs\\tensorflow-gpu\\lib\\site-packages\\ipykernel_launcher.py:25: UserWarning: Update your `Conv2D` call to the Keras 2 API: `Conv2D(512, kernel_size=(3, 3), padding=\"same\", activation=\"relu\", kernel_regularizer=<keras.reg...)`\n",
      "c:\\users\\shash\\anaconda3\\envs\\tensorflow-gpu\\lib\\site-packages\\ipykernel_launcher.py:29: UserWarning: Update your `Conv2D` call to the Keras 2 API: `Conv2D(512, kernel_size=(3, 3), padding=\"same\", activation=\"relu\", kernel_regularizer=<keras.reg...)`\n"
     ]
    }
   ],
   "source": [
    "weight_decay = 0.001\n",
    "\n",
    "model = Sequential()\n",
    "\n",
    "model.add(Conv2D(64, kernel_size=(3,3), W_regularizer=l2(weight_decay), padding=\"same\", activation=\"relu\", input_shape=input_shape))\n",
    "model.add(BatchNormalization())\n",
    "model.add(MaxPooling2D(pool_size=(2, 2), strides=(2, 2)))\n",
    "\n",
    "model.add(Conv2D(128, kernel_size=(3,3), W_regularizer=l2(weight_decay), padding=\"same\", activation=\"relu\"))\n",
    "model.add(BatchNormalization())\n",
    "model.add(MaxPooling2D(pool_size=(2, 2), strides=(2, 2)))\n",
    "\n",
    "model.add(Conv2D(256, kernel_size=(3,3), W_regularizer=l2(weight_decay), padding=\"same\", activation=\"relu\"))\n",
    "model.add(BatchNormalization())\n",
    "#model.add(MaxPooling2D(pool_size=(2, 2), strides=(2, 2)))\n",
    "\n",
    "model.add(Conv2D(256, kernel_size=(3,3), W_regularizer=l2(weight_decay), padding=\"same\", activation=\"relu\"))\n",
    "model.add(BatchNormalization())\n",
    "model.add(MaxPooling2D(pool_size=(2, 2), strides=(2, 2)))\n",
    "\n",
    "model.add(Conv2D(512, kernel_size=(3,3), W_regularizer=l2(weight_decay), padding=\"same\", activation=\"relu\"))\n",
    "model.add(BatchNormalization())\n",
    "#model.add(MaxPooling2D(pool_size=(2, 2), strides=(2, 2)))\n",
    "\n",
    "model.add(Conv2D(512, kernel_size=(3,3), W_regularizer=l2(weight_decay),padding=\"same\", activation=\"relu\"))\n",
    "model.add(BatchNormalization())\n",
    "model.add(MaxPooling2D(pool_size=(2, 2), strides=(2, 2)))\n",
    "\n",
    "model.add(Conv2D(512, kernel_size=(3,3), W_regularizer=l2(weight_decay), padding=\"same\", activation=\"relu\"))\n",
    "model.add(BatchNormalization())\n",
    "model.add(MaxPooling2D(pool_size=(2, 2), strides=(2, 2)))\n",
    "\n",
    "    # (bs, y, x, c) --> (bs, x, y, c)\n",
    "model.add(Permute((2, 1, 3)))\n",
    "\n",
    "    # (bs, x, y, c) --> (bs, x, y * c)\n",
    "bs, x, y, c = model.layers[-1].output_shape\n",
    "model.add(Reshape((x, y*c)))\n",
    "\n",
    "model.add(Bidirectional(LSTM(256, return_sequences=False), merge_mode=\"concat\"))\n",
    "model.add(Dense(num_classes, activation=\"softmax\"))\n"
   ]
  },
  {
   "cell_type": "code",
   "execution_count": 17,
   "metadata": {},
   "outputs": [
    {
     "name": "stdout",
     "output_type": "stream",
     "text": [
      "_________________________________________________________________\n",
      "Layer (type)                 Output Shape              Param #   \n",
      "=================================================================\n",
      "conv2d_1 (Conv2D)            (None, 39, 39, 64)        640       \n",
      "_________________________________________________________________\n",
      "batch_normalization_1 (Batch (None, 39, 39, 64)        256       \n",
      "_________________________________________________________________\n",
      "max_pooling2d_1 (MaxPooling2 (None, 19, 19, 64)        0         \n",
      "_________________________________________________________________\n",
      "conv2d_2 (Conv2D)            (None, 19, 19, 128)       73856     \n",
      "_________________________________________________________________\n",
      "batch_normalization_2 (Batch (None, 19, 19, 128)       512       \n",
      "_________________________________________________________________\n",
      "max_pooling2d_2 (MaxPooling2 (None, 9, 9, 128)         0         \n",
      "_________________________________________________________________\n",
      "conv2d_3 (Conv2D)            (None, 9, 9, 256)         295168    \n",
      "_________________________________________________________________\n",
      "batch_normalization_3 (Batch (None, 9, 9, 256)         1024      \n",
      "_________________________________________________________________\n",
      "conv2d_4 (Conv2D)            (None, 9, 9, 256)         590080    \n",
      "_________________________________________________________________\n",
      "batch_normalization_4 (Batch (None, 9, 9, 256)         1024      \n",
      "_________________________________________________________________\n",
      "max_pooling2d_3 (MaxPooling2 (None, 4, 4, 256)         0         \n",
      "_________________________________________________________________\n",
      "conv2d_5 (Conv2D)            (None, 4, 4, 512)         1180160   \n",
      "_________________________________________________________________\n",
      "batch_normalization_5 (Batch (None, 4, 4, 512)         2048      \n",
      "_________________________________________________________________\n",
      "conv2d_6 (Conv2D)            (None, 4, 4, 512)         2359808   \n",
      "_________________________________________________________________\n",
      "batch_normalization_6 (Batch (None, 4, 4, 512)         2048      \n",
      "_________________________________________________________________\n",
      "max_pooling2d_4 (MaxPooling2 (None, 2, 2, 512)         0         \n",
      "_________________________________________________________________\n",
      "conv2d_7 (Conv2D)            (None, 2, 2, 512)         2359808   \n",
      "_________________________________________________________________\n",
      "batch_normalization_7 (Batch (None, 2, 2, 512)         2048      \n",
      "_________________________________________________________________\n",
      "max_pooling2d_5 (MaxPooling2 (None, 1, 1, 512)         0         \n",
      "_________________________________________________________________\n",
      "permute_1 (Permute)          (None, 1, 1, 512)         0         \n",
      "_________________________________________________________________\n",
      "reshape_1 (Reshape)          (None, 1, 512)            0         \n",
      "_________________________________________________________________\n",
      "bidirectional_1 (Bidirection (None, 512)               1574912   \n",
      "_________________________________________________________________\n",
      "dense_1 (Dense)              (None, 6)                 3078      \n",
      "=================================================================\n",
      "Total params: 8,446,470\n",
      "Trainable params: 8,441,990\n",
      "Non-trainable params: 4,480\n",
      "_________________________________________________________________\n"
     ]
    }
   ],
   "source": [
    "model.summary()"
   ]
  },
  {
   "cell_type": "markdown",
   "metadata": {},
   "source": [
    "## Model Train"
   ]
  },
  {
   "cell_type": "code",
   "execution_count": 18,
   "metadata": {},
   "outputs": [],
   "source": [
    "model.compile(loss=keras.losses.categorical_crossentropy,optimizer=keras.optimizers.Adadelta(),metrics=['accuracy'])"
   ]
  },
  {
   "cell_type": "code",
   "execution_count": 19,
   "metadata": {},
   "outputs": [
    {
     "name": "stdout",
     "output_type": "stream",
     "text": [
      "Train on 19556 samples, validate on 4889 samples\n",
      "Epoch 1/10\n",
      "19556/19556 [==============================] - 23s 1ms/step - loss: 2.1738 - acc: 0.7840 - val_loss: 1.7508 - val_acc: 0.8278\n",
      "Epoch 2/10\n",
      "19556/19556 [==============================] - 18s 910us/step - loss: 1.2318 - acc: 0.9428 - val_loss: 1.2339 - val_acc: 0.8859\n",
      "Epoch 3/10\n",
      "19556/19556 [==============================] - 18s 935us/step - loss: 0.8094 - acc: 0.9674 - val_loss: 0.7548 - val_acc: 0.9435\n",
      "Epoch 4/10\n",
      "19556/19556 [==============================] - 18s 921us/step - loss: 0.5668 - acc: 0.9758 - val_loss: 0.5561 - val_acc: 0.9491\n",
      "Epoch 5/10\n",
      "19556/19556 [==============================] - 20s 1ms/step - loss: 0.4254 - acc: 0.9779 - val_loss: 0.4291 - val_acc: 0.9566\n",
      "Epoch 6/10\n",
      "19556/19556 [==============================] - 18s 919us/step - loss: 0.3396 - acc: 0.9802 - val_loss: 0.3747 - val_acc: 0.9575\n",
      "Epoch 7/10\n",
      "19556/19556 [==============================] - 18s 911us/step - loss: 0.2771 - acc: 0.9832 - val_loss: 0.2910 - val_acc: 0.9708\n",
      "Epoch 8/10\n",
      "19556/19556 [==============================] - 18s 914us/step - loss: 0.2471 - acc: 0.9823 - val_loss: 0.3029 - val_acc: 0.9566\n",
      "Epoch 9/10\n",
      "19556/19556 [==============================] - 18s 914us/step - loss: 0.2309 - acc: 0.9816 - val_loss: 0.3333 - val_acc: 0.9409\n",
      "Epoch 10/10\n",
      "19556/19556 [==============================] - 18s 921us/step - loss: 0.2052 - acc: 0.9860 - val_loss: 0.2578 - val_acc: 0.9628\n"
     ]
    }
   ],
   "source": [
    "speechTrainData=model.fit(Xtrain, Ytrain,batch_size=batchSize,epochs=epochs,verbose=1,validation_data=(Xtest, Ytest))"
   ]
  },
  {
   "cell_type": "code",
   "execution_count": 20,
   "metadata": {},
   "outputs": [
    {
     "data": {
      "image/png": "[encoded data removed]",
      "text/plain": [
       "<Figure size 432x288 with 1 Axes>"
      ]
     },
     "metadata": {},
     "output_type": "display_data"
    },
    {
     "data": {
      "image/png": "[encoded data removed]",
      "text/plain": [
       "<Figure size 432x288 with 1 Axes>"
      ]
     },
     "metadata": {},
     "output_type": "display_data"
    }
   ],
   "source": [
    "plt.plot(speechTrainData.history['acc'])\n",
    "plt.plot(speechTrainData.history['val_acc'])\n",
    "plt.title('Model Accuracy for CNN with Batch Size={}, Epochs={} '.format(batchSize,epochs))\n",
    "plt.ylabel('Accuracy')\n",
    "plt.xlabel('Epoch')\n",
    "plt.legend(['Train', 'Test'], loc='upper left')\n",
    "plt.show()\n",
    "# Plot Model  Loss\n",
    "plt.plot(speechTrainData.history['loss'])\n",
    "plt.plot(speechTrainData.history['val_loss'])\n",
    "plt.title('Model Loss for CNN with Batch Size={}, Epochs={} '.format(batchSize,epochs))\n",
    "plt.ylabel('Loss')\n",
    "plt.xlabel('Epoch')\n",
    "plt.legend(['Train', 'Test'], loc='upper left')\n",
    "plt.show()"
   ]
  },
  {
   "cell_type": "code",
   "execution_count": 21,
   "metadata": {},
   "outputs": [],
   "source": [
    "def ConfusionMatrix(actual,predicts,numberClasses,classname):\n",
    "    nc=numberClasses\n",
    "    confmat=np.zeros([nc,nc])\n",
    "    I = pd.Index(classname, name=\"rows\")\n",
    "    C = pd.Index(classname, name=\"columns\")\n",
    "    for ri in range (nc):\n",
    "        value=[]\n",
    "        trueIndex=np.where(actual[:,ri]==1)\n",
    "        for j in range (len(trueIndex[0])):\n",
    "            value.append(predict[trueIndex[0][j]])\n",
    "        for rj in range (nc):\n",
    "            confmat[ri][rj]=100*np.mean(value,axis=0)[rj]\n",
    "    df = pd.DataFrame(data=confmat, index=I, columns=C)\n",
    "    print(df)\n",
    "    return"
   ]
  },
  {
   "cell_type": "code",
   "execution_count": 22,
   "metadata": {},
   "outputs": [
    {
     "name": "stdout",
     "output_type": "stream",
     "text": [
      "Confusion Matrix for Train Data\n",
      "columns    Chinese     French     German    Russian    Spanish    English\n",
      "rows                                                                     \n",
      "Chinese  89.092612   0.042583   0.027565   1.449546   4.011700   5.375943\n",
      "French    0.003584  99.401337   0.550860   0.003842   0.003440   0.036777\n",
      "German    0.009469   1.991112  97.878528   0.019623   0.026310   0.075014\n",
      "Russian   0.025593   0.036441   0.084916  99.442101   0.354149   0.056858\n",
      "Spanish   0.583635   0.058365   0.128311   5.810499  93.373466   0.045719\n",
      "English   0.055842   0.777966   0.336085   0.179576   0.134010  98.516434\n"
     ]
    }
   ],
   "source": [
    "predict=model.predict(Xtrain)\n",
    "print('Confusion Matrix for Train Data')\n",
    "ConfusionMatrix(Ytrain,predict,num_classes,['Chinese','French','German','Russian','Spanish','English'])"
   ]
  },
  {
   "cell_type": "code",
   "execution_count": 23,
   "metadata": {
    "scrolled": false
   },
   "outputs": [
    {
     "name": "stdout",
     "output_type": "stream",
     "text": [
      "Confusion Matrix for Test Data\n",
      "columns    Chinese     French     German    Russian    Spanish    English\n",
      "rows                                                                     \n",
      "Chinese  85.913181   0.019733   0.017430   1.434986   7.678390   4.936317\n",
      "French    0.003830  99.115849   0.833185   0.004088   0.003691   0.039354\n",
      "German    0.012560   4.272734  95.552731   0.021990   0.037129   0.102780\n",
      "Russian   0.621742   0.148229   0.071279  97.427779   1.674558   0.056434\n",
      "Spanish   0.904430   0.025740   0.083147   9.180842  89.599454   0.206408\n",
      "English   0.170977   0.280774   0.328477   0.147958   0.310277  98.761535\n"
     ]
    }
   ],
   "source": [
    "predict=model.predict(Xtest)\n",
    "print('Confusion Matrix for Test Data')\n",
    "ConfusionMatrix(Ytest,predict,num_classes,['Chinese','French','German','Russian','Spanish','English'])"
   ]
  }
 ],
 "metadata": {
  "kernelspec": {
   "display_name": "Python 3",
   "language": "python",
   "name": "python3"
  },
  "language_info": {
   "codemirror_mode": {
    "name": "ipython",
    "version": 3
   },
   "file_extension": ".py",
   "mimetype": "text/x-python",
   "name": "python",
   "nbconvert_exporter": "python",
   "pygments_lexer": "ipython3",
   "version": "3.6.4"
  }
 },
 "nbformat": 4,
 "nbformat_minor": 2
}
