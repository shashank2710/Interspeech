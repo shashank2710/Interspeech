{
 "cells": [
  {
   "cell_type": "code",
   "execution_count": 1,
   "metadata": {},
   "outputs": [],
   "source": [
    "import numpy as np\n",
    "import matplotlib.pyplot as plt\n",
    "%matplotlib inline"
   ]
  },
  {
   "cell_type": "code",
   "execution_count": null,
   "metadata": {},
   "outputs": [],
   "source": [
    "n_groups = 4\n",
    "\n",
    "mfcc=(14.01,0.94,0.86,0.90)\n",
    "mtmag=(5.49,0.99,0.95,0.97)\n",
    "#mtmogdf=(3.07,0.99,0.97,0.98)\n",
    "\n",
    "fig, ax = plt.subplots()\n",
    "index = np.arange(n_groups)\n",
    "bar_width = 0.3\n",
    "opacity = 0.5\n",
    " \n",
    "rects1 = plt.bar(index, mfcc, bar_width, alpha=opacity, color='k', label='MFCC')\n",
    " \n",
    "rects2 = plt.bar(index + bar_width, mtmag, bar_width, alpha=opacity, color='b', label='MTMAG')\n",
    "\n",
    "#rects3 = plt.bar(index + 2*bar_width, mtmogdf, bar_width, alpha=opacity, color='r', label='MTMOGDF')\n",
    "\n",
    "\n",
    "ax.set_title('Performance of CRNN \\n')\n",
    "plt.xticks(index + bar_width, ('EER', 'Precision', 'Recall', 'F1-Score'))\n",
    "plt.legend()\n",
    "\n",
    "def autolabel(rects,name):\n",
    "    \n",
    "    for rect,label in zip(rects,name):\n",
    "        height = rect.get_height()\n",
    "        ax.text(rect.get_x() + rect.get_width()/2., 1.05*height,\n",
    "                label,\n",
    "                ha='center', va='bottom')\n",
    "\n",
    "autolabel(rects1,mfcc)\n",
    "autolabel(rects2,mtmag)\n",
    "#autolabel(rects3,mtmogdf)\n",
    "\n",
    "ax.spines['top'].set_visible(False)\n",
    "ax.spines['right'].set_visible(False)\n",
    "\n",
    "plt.show()\n",
    "fig.savefig('FL.png')"
   ]
  },
  {
   "cell_type": "code",
   "execution_count": 3,
   "metadata": {
    "scrolled": true
   },
   "outputs": [
    {
     "data": {
      "image/png": "[encoded data removed]",
      "text/plain": [
       "<Figure size 432x288 with 1 Axes>"
      ]
     },
     "metadata": {},
     "output_type": "display_data"
    }
   ],
   "source": [
    "n_groups = 4\n",
    "\n",
    "mfcc=(9.51,0.96,0.90,0.93)\n",
    "mtmag=(9.37,0.95,0.91,0.93)\n",
    "mtmogdf=(5.14,0.98,0.95,0.96)\n",
    "\n",
    "fig, ax = plt.subplots()\n",
    "index = np.arange(n_groups)\n",
    "bar_width = 0.3\n",
    "opacity = 0.8\n",
    " \n",
    "rects1 = plt.bar(index, mfcc, bar_width, alpha=opacity, color='k', label='MFCC')\n",
    " \n",
    "rects2 = plt.bar(index + bar_width, mtmag, bar_width, alpha=opacity, color='b', label='MTMAG')\n",
    "\n",
    "rects3 = plt.bar(index + 2*bar_width, mtmogdf, bar_width, alpha=opacity, color='r', label='MTMOGDF')\n",
    "\n",
    "ax.set_title('Performance For Indian Languages \\n')\n",
    "plt.xticks(index + bar_width, ('EER', 'Precision', 'Recall', 'F1-Score'))\n",
    "plt.legend()\n",
    "\n",
    "def autolabel(rects,name):\n",
    "    \n",
    "    for rect,label in zip(rects,name):\n",
    "        height = rect.get_height()\n",
    "        ax.text(rect.get_x() + rect.get_width()/2., 1.05*height,\n",
    "                label,\n",
    "                ha='center', va='bottom')\n",
    "\n",
    "autolabel(rects1,mfcc)\n",
    "autolabel(rects2,mtmag)\n",
    "autolabel(rects3,mtmogdf)\n",
    "\n",
    "ax.spines['top'].set_visible(False)\n",
    "ax.spines['right'].set_visible(False)\n",
    "\n",
    "plt.show()\n",
    "fig.savefig('IL.png')"
   ]
  }
 ],
 "metadata": {
  "kernelspec": {
   "display_name": "Python 3",
   "language": "python",
   "name": "python3"
  },
  "language_info": {
   "codemirror_mode": {
    "name": "ipython",
    "version": 3
   },
   "file_extension": ".py",
   "mimetype": "text/x-python",
   "name": "python",
   "nbconvert_exporter": "python",
   "pygments_lexer": "ipython3",
   "version": "3.5.4"
  }
 },
 "nbformat": 4,
 "nbformat_minor": 2
}
