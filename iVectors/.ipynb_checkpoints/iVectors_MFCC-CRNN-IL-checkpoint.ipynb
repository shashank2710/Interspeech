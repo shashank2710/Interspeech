{
 "cells": [
  {
   "cell_type": "markdown",
   "metadata": {},
   "source": [
    "# Interspeech\n"
   ]
  },
  {
   "cell_type": "code",
   "execution_count": 1,
   "metadata": {},
   "outputs": [],
   "source": [
    "import matplotlib.pyplot"
   ]
  },
  {
   "cell_type": "code",
   "execution_count": 2,
   "metadata": {},
   "outputs": [
    {
     "name": "stderr",
     "output_type": "stream",
     "text": [
      "Using TensorFlow backend.\n"
     ]
    }
   ],
   "source": [
    "import numpy as np\n",
    "import pandas as pd\n",
    "\n",
    "import scipy.io as sio\n",
    "import matplotlib.pyplot as plt\n",
    "%matplotlib inline\n",
    "from skimage import io\n",
    "from sklearn.model_selection import train_test_split\n",
    "import random\n",
    "\n",
    "import keras\n",
    "from keras import backend as K\n",
    "from keras import layers\n",
    "\n",
    "from keras.utils import np_utils\n",
    "from keras.models import Sequential\n",
    "from keras.layers import Dense, Dropout, Activation\n",
    "\n",
    "from keras.datasets import mnist\n",
    "from keras.layers import Dense, Dropout, Flatten\n",
    "from keras.layers import Conv2D, MaxPooling2D\n",
    "from keras.layers.convolutional import Convolution2D\n",
    "\n",
    "from keras.layers.core import Dense, Permute, Reshape\n",
    "from keras.layers.normalization import BatchNormalization\n",
    "from keras.layers.wrappers import Bidirectional\n",
    "from keras.layers.recurrent import LSTM\n",
    "from keras.models import Sequential\n",
    "from keras.regularizers import l2\n",
    "\n",
    "import tensorflow as tf"
   ]
  },
  {
   "cell_type": "code",
   "execution_count": 3,
   "metadata": {},
   "outputs": [],
   "source": [
    "global X, T\n",
    "X=[]\n",
    "T=[]"
   ]
  },
  {
   "cell_type": "code",
   "execution_count": 4,
   "metadata": {},
   "outputs": [],
   "source": [
    "def loaddata(filename,num):\n",
    "    f=sio.loadmat(filename)\n",
    "    data=f['cep']\n",
    "    data=np.asarray(data)\n",
    "    mean=np.mean(data,axis=0)\n",
    "    std=np.std(data,axis=0)\n",
    "    data=(data-mean)/std\n",
    "    data=np.asarray(np.vsplit(data[0:int(data.shape[0]/data.shape[1])*data.shape[1]],int(data.shape[0]/data.shape[1])))\n",
    "    for i in range (data.shape[0]):\n",
    "        X.append(data[i])\n",
    "        T.append(num)\n",
    "    return X, T"
   ]
  },
  {
   "cell_type": "code",
   "execution_count": 5,
   "metadata": {},
   "outputs": [
    {
     "data": {
      "text/plain": [
       "(5704, 5704)"
      ]
     },
     "execution_count": 5,
     "metadata": {},
     "output_type": "execute_result"
    }
   ],
   "source": [
    "X,T = loaddata('assamese.mat',0)\n",
    "len(X), len(T)"
   ]
  },
  {
   "cell_type": "code",
   "execution_count": 6,
   "metadata": {},
   "outputs": [
    {
     "data": {
      "text/plain": [
       "(8880, 8880)"
      ]
     },
     "execution_count": 6,
     "metadata": {},
     "output_type": "execute_result"
    }
   ],
   "source": [
    "X,T = loaddata('bengali.mat',1)\n",
    "len(X), len(T)"
   ]
  },
  {
   "cell_type": "code",
   "execution_count": 7,
   "metadata": {},
   "outputs": [
    {
     "data": {
      "text/plain": [
       "(15135, 15135)"
      ]
     },
     "execution_count": 7,
     "metadata": {},
     "output_type": "execute_result"
    }
   ],
   "source": [
    "X,T = loaddata('kannada.mat',2)\n",
    "len(X),len(T)"
   ]
  },
  {
   "cell_type": "code",
   "execution_count": 8,
   "metadata": {},
   "outputs": [
    {
     "data": {
      "text/plain": [
       "(18272, 18272)"
      ]
     },
     "execution_count": 8,
     "metadata": {},
     "output_type": "execute_result"
    }
   ],
   "source": [
    "X,T = loaddata('malayalam.mat',3)\n",
    "len(X),len(T)"
   ]
  },
  {
   "cell_type": "code",
   "execution_count": 9,
   "metadata": {},
   "outputs": [
    {
     "data": {
      "text/plain": [
       "(21083, 21083)"
      ]
     },
     "execution_count": 9,
     "metadata": {},
     "output_type": "execute_result"
    }
   ],
   "source": [
    "X,T = loaddata('punjabi.mat',4)\n",
    "len(X),len(T)"
   ]
  },
  {
   "cell_type": "code",
   "execution_count": 10,
   "metadata": {},
   "outputs": [
    {
     "data": {
      "text/plain": [
       "(24092, 24092)"
      ]
     },
     "execution_count": 10,
     "metadata": {},
     "output_type": "execute_result"
    }
   ],
   "source": [
    "X,T = loaddata('rajasthani.mat',5)\n",
    "len(X),len(T)"
   ]
  },
  {
   "cell_type": "code",
   "execution_count": 11,
   "metadata": {},
   "outputs": [
    {
     "data": {
      "text/plain": [
       "(27027, 27027)"
      ]
     },
     "execution_count": 11,
     "metadata": {},
     "output_type": "execute_result"
    }
   ],
   "source": [
    "X,T = loaddata('tamil.mat',6)\n",
    "len(X),len(T)"
   ]
  },
  {
   "cell_type": "code",
   "execution_count": 12,
   "metadata": {},
   "outputs": [
    {
     "data": {
      "text/plain": [
       "(29906, 29906)"
      ]
     },
     "execution_count": 12,
     "metadata": {},
     "output_type": "execute_result"
    }
   ],
   "source": [
    "X,T = loaddata('telugu.mat',7)\n",
    "len(X),len(T)"
   ]
  },
  {
   "cell_type": "code",
   "execution_count": 13,
   "metadata": {},
   "outputs": [
    {
     "data": {
      "text/plain": [
       "(39070, 39070)"
      ]
     },
     "execution_count": 13,
     "metadata": {},
     "output_type": "execute_result"
    }
   ],
   "source": [
    "X,T = loaddata('hindi.mat',8)\n",
    "len(X),len(T)"
   ]
  },
  {
   "cell_type": "code",
   "execution_count": 14,
   "metadata": {},
   "outputs": [
    {
     "data": {
      "text/plain": [
       "(42544, 42544)"
      ]
     },
     "execution_count": 14,
     "metadata": {},
     "output_type": "execute_result"
    }
   ],
   "source": [
    "X,T = loaddata('gujrati.mat',9)\n",
    "len(X),len(T)"
   ]
  },
  {
   "cell_type": "markdown",
   "metadata": {},
   "source": [
    "## Split Dataset"
   ]
  },
  {
   "cell_type": "code",
   "execution_count": 15,
   "metadata": {},
   "outputs": [
    {
     "name": "stderr",
     "output_type": "stream",
     "text": [
      "c:\\users\\shash\\anaconda3\\envs\\tensorflow-gpu\\lib\\site-packages\\sklearn\\model_selection\\_split.py:2026: FutureWarning: From version 0.21, test_size will always complement train_size unless both are specified.\n",
      "  FutureWarning)\n"
     ]
    },
    {
     "data": {
      "text/plain": [
       "((34035, 39, 39), (8509, 39, 39))"
      ]
     },
     "execution_count": 15,
     "metadata": {},
     "output_type": "execute_result"
    }
   ],
   "source": [
    "Xtrain, Xtest, Ytrain, Ytest = train_test_split(np.array(X),np.array(T), train_size=0.8, random_state=30)\n",
    "np.array(Xtrain).shape, np.array(Xtest).shape"
   ]
  },
  {
   "cell_type": "markdown",
   "metadata": {},
   "source": [
    "## Convert 2D dataset to a 1D vector"
   ]
  },
  {
   "cell_type": "code",
   "execution_count": 16,
   "metadata": {},
   "outputs": [],
   "source": [
    "batchSize=128\n",
    "num_classes=10\n",
    "epochs=10\n",
    "imageRows, imageCols =39,39"
   ]
  },
  {
   "cell_type": "code",
   "execution_count": 17,
   "metadata": {},
   "outputs": [],
   "source": [
    "Xtrain = Xtrain.reshape(Xtrain.shape[0], imageRows, imageCols, 1)\n",
    "Xtest = Xtest.reshape(Xtest.shape[0], imageRows,imageCols, 1)\n",
    "input_shape = (imageRows, imageCols, 1)\n",
    "Xtrain = Xtrain.astype('float32')\n",
    "Xtest = Xtest.astype('float32')"
   ]
  },
  {
   "cell_type": "code",
   "execution_count": 18,
   "metadata": {},
   "outputs": [
    {
     "data": {
      "text/plain": [
       "(39, 39, 1)"
      ]
     },
     "execution_count": 18,
     "metadata": {},
     "output_type": "execute_result"
    }
   ],
   "source": [
    "input_shape"
   ]
  },
  {
   "cell_type": "code",
   "execution_count": 19,
   "metadata": {},
   "outputs": [],
   "source": [
    "Ytrain = keras.utils.to_categorical(Ytrain, num_classes)\n",
    "Ytest = keras.utils.to_categorical(Ytest, num_classes)"
   ]
  },
  {
   "cell_type": "markdown",
   "metadata": {},
   "source": [
    "## Define CNN Model"
   ]
  },
  {
   "cell_type": "code",
   "execution_count": 20,
   "metadata": {},
   "outputs": [
    {
     "name": "stderr",
     "output_type": "stream",
     "text": [
      "c:\\users\\shash\\anaconda3\\envs\\tensorflow-gpu\\lib\\site-packages\\ipykernel_launcher.py:5: UserWarning: Update your `Conv2D` call to the Keras 2 API: `Conv2D(64, kernel_size=(3, 3), padding=\"same\", activation=\"relu\", input_shape=(39, 39, 1..., kernel_regularizer=<keras.reg...)`\n",
      "  \"\"\"\n",
      "c:\\users\\shash\\anaconda3\\envs\\tensorflow-gpu\\lib\\site-packages\\ipykernel_launcher.py:9: UserWarning: Update your `Conv2D` call to the Keras 2 API: `Conv2D(128, kernel_size=(3, 3), padding=\"same\", activation=\"relu\", kernel_regularizer=<keras.reg...)`\n",
      "  if __name__ == '__main__':\n",
      "c:\\users\\shash\\anaconda3\\envs\\tensorflow-gpu\\lib\\site-packages\\ipykernel_launcher.py:13: UserWarning: Update your `Conv2D` call to the Keras 2 API: `Conv2D(256, kernel_size=(3, 3), padding=\"same\", activation=\"relu\", kernel_regularizer=<keras.reg...)`\n",
      "  del sys.path[0]\n",
      "c:\\users\\shash\\anaconda3\\envs\\tensorflow-gpu\\lib\\site-packages\\ipykernel_launcher.py:17: UserWarning: Update your `Conv2D` call to the Keras 2 API: `Conv2D(256, kernel_size=(3, 3), padding=\"same\", activation=\"relu\", kernel_regularizer=<keras.reg...)`\n",
      "c:\\users\\shash\\anaconda3\\envs\\tensorflow-gpu\\lib\\site-packages\\ipykernel_launcher.py:21: UserWarning: Update your `Conv2D` call to the Keras 2 API: `Conv2D(512, kernel_size=(3, 3), padding=\"same\", activation=\"relu\", kernel_regularizer=<keras.reg...)`\n",
      "c:\\users\\shash\\anaconda3\\envs\\tensorflow-gpu\\lib\\site-packages\\ipykernel_launcher.py:25: UserWarning: Update your `Conv2D` call to the Keras 2 API: `Conv2D(512, kernel_size=(3, 3), padding=\"same\", activation=\"relu\", kernel_regularizer=<keras.reg...)`\n",
      "c:\\users\\shash\\anaconda3\\envs\\tensorflow-gpu\\lib\\site-packages\\ipykernel_launcher.py:29: UserWarning: Update your `Conv2D` call to the Keras 2 API: `Conv2D(512, kernel_size=(3, 3), padding=\"same\", activation=\"relu\", kernel_regularizer=<keras.reg...)`\n"
     ]
    }
   ],
   "source": [
    "weight_decay = 0.001\n",
    "\n",
    "model = Sequential()\n",
    "\n",
    "model.add(Conv2D(64, kernel_size=(3,3), W_regularizer=l2(weight_decay), padding=\"same\", activation=\"relu\", input_shape=input_shape))\n",
    "model.add(BatchNormalization())\n",
    "model.add(MaxPooling2D(pool_size=(2, 2), strides=(2, 2)))\n",
    "\n",
    "model.add(Conv2D(128, kernel_size=(3,3), W_regularizer=l2(weight_decay), padding=\"same\", activation=\"relu\"))\n",
    "model.add(BatchNormalization())\n",
    "model.add(MaxPooling2D(pool_size=(2, 2), strides=(2, 2)))\n",
    "\n",
    "model.add(Conv2D(256, kernel_size=(3,3), W_regularizer=l2(weight_decay), padding=\"same\", activation=\"relu\"))\n",
    "model.add(BatchNormalization())\n",
    "#model.add(MaxPooling2D(pool_size=(2, 2), strides=(2, 2)))\n",
    "\n",
    "model.add(Conv2D(256, kernel_size=(3,3), W_regularizer=l2(weight_decay), padding=\"same\", activation=\"relu\"))\n",
    "model.add(BatchNormalization())\n",
    "model.add(MaxPooling2D(pool_size=(2, 2), strides=(2, 2)))\n",
    "\n",
    "model.add(Conv2D(512, kernel_size=(3,3), W_regularizer=l2(weight_decay), padding=\"same\", activation=\"relu\"))\n",
    "model.add(BatchNormalization())\n",
    "#model.add(MaxPooling2D(pool_size=(2, 2), strides=(2, 2)))\n",
    "\n",
    "model.add(Conv2D(512, kernel_size=(3,3), W_regularizer=l2(weight_decay),padding=\"same\", activation=\"relu\"))\n",
    "model.add(BatchNormalization())\n",
    "model.add(MaxPooling2D(pool_size=(2, 2), strides=(2, 2)))\n",
    "\n",
    "model.add(Conv2D(512, kernel_size=(3,3), W_regularizer=l2(weight_decay), padding=\"same\", activation=\"relu\"))\n",
    "model.add(BatchNormalization())\n",
    "model.add(MaxPooling2D(pool_size=(2, 2), strides=(2, 2)))\n",
    "\n",
    "    # (bs, y, x, c) --> (bs, x, y, c)\n",
    "model.add(Permute((2, 1, 3)))\n",
    "\n",
    "    # (bs, x, y, c) --> (bs, x, y * c)\n",
    "bs, x, y, c = model.layers[-1].output_shape\n",
    "model.add(Reshape((x, y*c)))\n",
    "\n",
    "model.add(Bidirectional(LSTM(256, return_sequences=False), merge_mode=\"concat\"))\n",
    "model.add(Dense(num_classes, activation=\"softmax\"))\n"
   ]
  },
  {
   "cell_type": "code",
   "execution_count": 21,
   "metadata": {},
   "outputs": [
    {
     "name": "stdout",
     "output_type": "stream",
     "text": [
      "_________________________________________________________________\n",
      "Layer (type)                 Output Shape              Param #   \n",
      "=================================================================\n",
      "conv2d_1 (Conv2D)            (None, 39, 39, 64)        640       \n",
      "_________________________________________________________________\n",
      "batch_normalization_1 (Batch (None, 39, 39, 64)        256       \n",
      "_________________________________________________________________\n",
      "max_pooling2d_1 (MaxPooling2 (None, 19, 19, 64)        0         \n",
      "_________________________________________________________________\n",
      "conv2d_2 (Conv2D)            (None, 19, 19, 128)       73856     \n",
      "_________________________________________________________________\n",
      "batch_normalization_2 (Batch (None, 19, 19, 128)       512       \n",
      "_________________________________________________________________\n",
      "max_pooling2d_2 (MaxPooling2 (None, 9, 9, 128)         0         \n",
      "_________________________________________________________________\n",
      "conv2d_3 (Conv2D)            (None, 9, 9, 256)         295168    \n",
      "_________________________________________________________________\n",
      "batch_normalization_3 (Batch (None, 9, 9, 256)         1024      \n",
      "_________________________________________________________________\n",
      "conv2d_4 (Conv2D)            (None, 9, 9, 256)         590080    \n",
      "_________________________________________________________________\n",
      "batch_normalization_4 (Batch (None, 9, 9, 256)         1024      \n",
      "_________________________________________________________________\n",
      "max_pooling2d_3 (MaxPooling2 (None, 4, 4, 256)         0         \n",
      "_________________________________________________________________\n",
      "conv2d_5 (Conv2D)            (None, 4, 4, 512)         1180160   \n",
      "_________________________________________________________________\n",
      "batch_normalization_5 (Batch (None, 4, 4, 512)         2048      \n",
      "_________________________________________________________________\n",
      "conv2d_6 (Conv2D)            (None, 4, 4, 512)         2359808   \n",
      "_________________________________________________________________\n",
      "batch_normalization_6 (Batch (None, 4, 4, 512)         2048      \n",
      "_________________________________________________________________\n",
      "max_pooling2d_4 (MaxPooling2 (None, 2, 2, 512)         0         \n",
      "_________________________________________________________________\n",
      "conv2d_7 (Conv2D)            (None, 2, 2, 512)         2359808   \n",
      "_________________________________________________________________\n",
      "batch_normalization_7 (Batch (None, 2, 2, 512)         2048      \n",
      "_________________________________________________________________\n",
      "max_pooling2d_5 (MaxPooling2 (None, 1, 1, 512)         0         \n",
      "_________________________________________________________________\n",
      "permute_1 (Permute)          (None, 1, 1, 512)         0         \n",
      "_________________________________________________________________\n",
      "reshape_1 (Reshape)          (None, 1, 512)            0         \n",
      "_________________________________________________________________\n",
      "bidirectional_1 (Bidirection (None, 512)               1574912   \n",
      "_________________________________________________________________\n",
      "dense_1 (Dense)              (None, 10)                5130      \n",
      "=================================================================\n",
      "Total params: 8,448,522\n",
      "Trainable params: 8,444,042\n",
      "Non-trainable params: 4,480\n",
      "_________________________________________________________________\n"
     ]
    }
   ],
   "source": [
    "model.summary()"
   ]
  },
  {
   "cell_type": "markdown",
   "metadata": {},
   "source": [
    "## Model Train"
   ]
  },
  {
   "cell_type": "code",
   "execution_count": 22,
   "metadata": {},
   "outputs": [],
   "source": [
    "model.compile(loss=keras.losses.categorical_crossentropy,optimizer=keras.optimizers.Adadelta(),metrics=['accuracy'])"
   ]
  },
  {
   "cell_type": "code",
   "execution_count": 23,
   "metadata": {},
   "outputs": [
    {
     "name": "stdout",
     "output_type": "stream",
     "text": [
      "Train on 34035 samples, validate on 8509 samples\n",
      "Epoch 1/10\n",
      "34035/34035 [==============================] - 64s 2ms/step - loss: 2.3233 - acc: 0.7141 - val_loss: 2.0212 - val_acc: 0.7149\n",
      "Epoch 2/10\n",
      "34035/34035 [==============================] - 32s 933us/step - loss: 1.1884 - acc: 0.9023 - val_loss: 1.0192 - val_acc: 0.8947\n",
      "Epoch 3/10\n",
      "34035/34035 [==============================] - 32s 933us/step - loss: 0.8058 - acc: 0.9325 - val_loss: 0.8258 - val_acc: 0.8974\n",
      "Epoch 4/10\n",
      "34035/34035 [==============================] - 32s 933us/step - loss: 0.6295 - acc: 0.9473 - val_loss: 0.7170 - val_acc: 0.9050\n",
      "Epoch 5/10\n",
      "34035/34035 [==============================] - 32s 938us/step - loss: 0.5478 - acc: 0.9524 - val_loss: 0.7598 - val_acc: 0.8845\n",
      "Epoch 6/10\n",
      "34035/34035 [==============================] - 31s 924us/step - loss: 0.4960 - acc: 0.9574 - val_loss: 0.5916 - val_acc: 0.9208\n",
      "Epoch 7/10\n",
      "34035/34035 [==============================] - 32s 936us/step - loss: 0.4595 - acc: 0.9627 - val_loss: 0.6033 - val_acc: 0.9163\n",
      "Epoch 8/10\n",
      "34035/34035 [==============================] - 32s 941us/step - loss: 0.4462 - acc: 0.9636 - val_loss: 0.5264 - val_acc: 0.9392\n",
      "Epoch 9/10\n",
      "34035/34035 [==============================] - 32s 934us/step - loss: 0.4231 - acc: 0.9673 - val_loss: 0.6891 - val_acc: 0.8887\n",
      "Epoch 10/10\n",
      "34035/34035 [==============================] - 32s 943us/step - loss: 0.4102 - acc: 0.9662 - val_loss: 0.5632 - val_acc: 0.9217\n"
     ]
    }
   ],
   "source": [
    "speechTrainData=model.fit(Xtrain, Ytrain,batch_size=batchSize,epochs=epochs,verbose=1,validation_data=(Xtest, Ytest))"
   ]
  },
  {
   "cell_type": "code",
   "execution_count": 24,
   "metadata": {},
   "outputs": [
    {
     "data": {
      "image/png": "[encoded data removed]",
      "text/plain": [
       "<Figure size 432x288 with 1 Axes>"
      ]
     },
     "metadata": {},
     "output_type": "display_data"
    },
    {
     "data": {
      "image/png": "[encoded data removed]",
      "text/plain": [
       "<Figure size 432x288 with 1 Axes>"
      ]
     },
     "metadata": {},
     "output_type": "display_data"
    }
   ],
   "source": [
    "plt.plot(speechTrainData.history['acc'])\n",
    "plt.plot(speechTrainData.history['val_acc'])\n",
    "plt.title('Model Accuracy for CNN with Batch Size={}, Epochs={} '.format(batchSize,epochs))\n",
    "plt.ylabel('Accuracy')\n",
    "plt.xlabel('Epoch')\n",
    "plt.legend(['Train', 'Test'], loc='upper left')\n",
    "plt.show()\n",
    "# Plot Model  Loss\n",
    "plt.plot(speechTrainData.history['loss'])\n",
    "plt.plot(speechTrainData.history['val_loss'])\n",
    "plt.title('Model Loss for CNN with Batch Size={}, Epochs={} '.format(batchSize,epochs))\n",
    "plt.ylabel('Loss')\n",
    "plt.xlabel('Epoch')\n",
    "plt.legend(['Train', 'Test'], loc='upper left')\n",
    "plt.show()"
   ]
  },
  {
   "cell_type": "code",
   "execution_count": 25,
   "metadata": {},
   "outputs": [],
   "source": [
    "def ConfusionMatrix(actual,predicts,numberClasses,classname):\n",
    "    nc=numberClasses\n",
    "    confmat=np.zeros([nc,nc])\n",
    "    I = pd.Index(classname, name=\"rows\")\n",
    "    C = pd.Index(classname, name=\"columns\")\n",
    "    for ri in range (nc):\n",
    "        value=[]\n",
    "        trueIndex=np.where(actual[:,ri]==1)\n",
    "        for j in range (len(trueIndex[0])):\n",
    "            value.append(predict[trueIndex[0][j]])\n",
    "        for rj in range (nc):\n",
    "            confmat[ri][rj]=100*np.mean(value,axis=0)[rj]\n",
    "    df = pd.DataFrame(data=confmat, index=I, columns=C)\n",
    "    print(df)\n",
    "    return"
   ]
  },
  {
   "cell_type": "code",
   "execution_count": 26,
   "metadata": {},
   "outputs": [
    {
     "name": "stdout",
     "output_type": "stream",
     "text": [
      "Confusion Matrix for Train Data\n",
      "columns      Assamese    Bengali    Kannada  Malayalam    Punjabi  Rajasthani  \\\n",
      "rows                                                                            \n",
      "Assamese    98.018146   0.005882   0.014599   0.196343   0.254123    0.023298   \n",
      "Bengali      0.049197  82.967615   0.034328   2.863564   0.016448    0.026585   \n",
      "Kannada      0.031993   0.022180  94.110405   0.779169   0.123404    0.313152   \n",
      "Malayalam    0.174485   0.639981   1.047010  89.747447   0.036336    0.295483   \n",
      "Punjabi      0.056772   0.001646   0.065631   0.000610  99.684727    0.001634   \n",
      "Rajasthani   0.014837   0.012774   0.148305   0.397719   0.009898   96.602160   \n",
      "Tamil        0.036641   0.666100   0.902625   8.169822   0.143058    1.766300   \n",
      "Telugu       0.150658   0.014318   0.566864   0.734892   0.411659    0.108105   \n",
      "Hindi        0.336854   0.185277   0.108745   0.791170   0.186810    0.677662   \n",
      "Gujrati      0.082486   0.367936   0.263026   0.229465   1.051745    0.012290   \n",
      "\n",
      "columns         Tamil     Telugu      Hindi    Gujrati  \n",
      "rows                                                    \n",
      "Assamese     0.008123   0.447479   0.933774   0.098630  \n",
      "Bengali      0.059984   0.479889  13.449915   0.052417  \n",
      "Kannada      0.145905   1.707117   2.675624   0.091164  \n",
      "Malayalam    0.294729   2.307670   5.364934   0.092020  \n",
      "Punjabi      0.001962   0.015196   0.149104   0.022506  \n",
      "Rajasthani   0.012038   0.534429   2.263220   0.004605  \n",
      "Tamil       81.577218   0.490621   5.975180   0.272368  \n",
      "Telugu       0.011342  96.309227   1.661365   0.031588  \n",
      "Hindi        0.072529   0.941266  96.424925   0.274591  \n",
      "Gujrati      0.171454   0.519320   5.458167  91.844088  \n"
     ]
    }
   ],
   "source": [
    "predict=model.predict(Xtrain)\n",
    "print('Confusion Matrix for Train Data')\n",
    "ConfusionMatrix(Ytrain,predict,num_classes,['Assamese','Bengali','Kannada','Malayalam','Punjabi','Rajasthani','Tamil','Telugu', 'Hindi', 'Gujrati'])"
   ]
  },
  {
   "cell_type": "code",
   "execution_count": 27,
   "metadata": {
    "scrolled": false
   },
   "outputs": [
    {
     "name": "stdout",
     "output_type": "stream",
     "text": [
      "Confusion Matrix for Test Data\n",
      "columns      Assamese    Bengali    Kannada  Malayalam    Punjabi  Rajasthani  \\\n",
      "rows                                                                            \n",
      "Assamese    96.939337   0.009711   0.019839   0.350204   0.359776    0.005487   \n",
      "Bengali      0.045682  80.006999   0.038526   4.034786   0.013803    0.026208   \n",
      "Kannada      0.355449   0.006690  91.488034   1.005908   0.232619    0.216529   \n",
      "Malayalam    0.207639   1.810827   1.892263  81.123060   0.038398    0.475420   \n",
      "Punjabi      0.048468   0.002420   0.095258   0.000682  99.153394    0.002202   \n",
      "Rajasthani   0.007834   0.024207   0.216201   0.369979   0.005212   95.193875   \n",
      "Tamil        0.039867   1.636908   1.315557  12.834440   0.145325    2.404071   \n",
      "Telugu       0.183806   0.023982   1.166453   1.155611   0.902246    0.056042   \n",
      "Hindi        0.431873   0.428460   0.192052   1.251442   0.141288    0.713082   \n",
      "Gujrati      0.109331   0.523640   0.515250   0.488896   1.058305    0.056694   \n",
      "\n",
      "columns         Tamil     Telugu      Hindi    Gujrati  \n",
      "rows                                                    \n",
      "Assamese     0.006239   0.350899   1.852262   0.106217  \n",
      "Bengali      0.078894   0.636571  15.031436   0.087097  \n",
      "Kannada      0.107038   3.476953   3.042305   0.068461  \n",
      "Malayalam    1.242866   3.036877  10.041423   0.131263  \n",
      "Punjabi      0.004223   0.011430   0.666392   0.015556  \n",
      "Rajasthani   0.023219   0.294318   3.861129   0.004081  \n",
      "Tamil       71.681154   0.607424   8.839348   0.495913  \n",
      "Telugu       0.182172  92.197615   4.029399   0.102712  \n",
      "Hindi        0.065296   1.570131  94.913369   0.293081  \n",
      "Gujrati      0.236066   0.646757   8.441253  87.923867  \n"
     ]
    }
   ],
   "source": [
    "predict=model.predict(Xtest)\n",
    "print('Confusion Matrix for Test Data')\n",
    "ConfusionMatrix(Ytest,predict,num_classes,['Assamese','Bengali','Kannada','Malayalam','Punjabi','Rajasthani','Tamil','Telugu', 'Hindi', 'Gujrati'])"
   ]
  }
 ],
 "metadata": {
  "kernelspec": {
   "display_name": "Python 3",
   "language": "python",
   "name": "python3"
  },
  "language_info": {
   "codemirror_mode": {
    "name": "ipython",
    "version": 3
   },
   "file_extension": ".py",
   "mimetype": "text/x-python",
   "name": "python",
   "nbconvert_exporter": "python",
   "pygments_lexer": "ipython3",
   "version": "3.5.4"
  }
 },
 "nbformat": 4,
 "nbformat_minor": 2
}
