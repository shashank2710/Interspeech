{
 "cells": [
  {
   "cell_type": "markdown",
   "metadata": {},
   "source": [
    "# Interspeech\n"
   ]
  },
  {
   "cell_type": "code",
   "execution_count": 1,
   "metadata": {},
   "outputs": [],
   "source": [
    "import matplotlib.pyplot"
   ]
  },
  {
   "cell_type": "code",
   "execution_count": 2,
   "metadata": {},
   "outputs": [
    {
     "name": "stderr",
     "output_type": "stream",
     "text": [
      "Using TensorFlow backend.\n"
     ]
    }
   ],
   "source": [
    "import numpy as np\n",
    "import pandas as pd\n",
    "\n",
    "import scipy.io as sio\n",
    "import matplotlib.pyplot as plt\n",
    "%matplotlib inline\n",
    "from skimage import io\n",
    "from sklearn.model_selection import train_test_split\n",
    "import random\n",
    "\n",
    "import keras\n",
    "from keras import backend as K\n",
    "from keras import layers\n",
    "\n",
    "from keras.utils import np_utils\n",
    "from keras.models import Sequential\n",
    "from keras.layers import Dense, Dropout, Activation\n",
    "\n",
    "from keras.datasets import mnist\n",
    "from keras.layers import Dense, Dropout, Flatten\n",
    "from keras.layers import Conv2D, MaxPooling2D\n",
    "from keras.layers.convolutional import Convolution2D\n",
    "\n",
    "from keras.layers.core import Dense, Permute, Reshape\n",
    "from keras.layers.normalization import BatchNormalization\n",
    "from keras.layers.wrappers import Bidirectional\n",
    "from keras.layers.recurrent import LSTM\n",
    "from keras.models import Sequential\n",
    "from keras.regularizers import l2\n",
    "\n",
    "import tensorflow as tf"
   ]
  },
  {
   "cell_type": "code",
   "execution_count": 3,
   "metadata": {},
   "outputs": [],
   "source": [
    "global X, T\n",
    "X=[]\n",
    "T=[]"
   ]
  },
  {
   "cell_type": "code",
   "execution_count": 4,
   "metadata": {},
   "outputs": [],
   "source": [
    "def loaddata(filename,num):\n",
    "    f=sio.loadmat(filename)\n",
    "    data=f['cep']\n",
    "    data=np.asarray(data)\n",
    "    mean=np.mean(data,axis=0)\n",
    "    std=np.std(data,axis=0)\n",
    "    data=(data-mean)/std\n",
    "    data=np.asarray(np.vsplit(data[0:int(data.shape[0]/data.shape[1])*data.shape[1]],int(data.shape[0]/data.shape[1])))\n",
    "    for i in range (data.shape[0]):\n",
    "        X.append(data[i])\n",
    "        T.append(num)\n",
    "    return X, T"
   ]
  },
  {
   "cell_type": "code",
   "execution_count": 5,
   "metadata": {},
   "outputs": [
    {
     "data": {
      "text/plain": [
       "(5704, 5704)"
      ]
     },
     "execution_count": 5,
     "metadata": {},
     "output_type": "execute_result"
    }
   ],
   "source": [
    "X,T = loaddata('assamese.mat',0)\n",
    "len(X), len(T)"
   ]
  },
  {
   "cell_type": "code",
   "execution_count": 6,
   "metadata": {},
   "outputs": [
    {
     "data": {
      "text/plain": [
       "(8880, 8880)"
      ]
     },
     "execution_count": 6,
     "metadata": {},
     "output_type": "execute_result"
    }
   ],
   "source": [
    "X,T = loaddata('bengali.mat',1)\n",
    "len(X), len(T)"
   ]
  },
  {
   "cell_type": "code",
   "execution_count": 7,
   "metadata": {},
   "outputs": [
    {
     "data": {
      "text/plain": [
       "(15135, 15135)"
      ]
     },
     "execution_count": 7,
     "metadata": {},
     "output_type": "execute_result"
    }
   ],
   "source": [
    "X,T = loaddata('kannada.mat',2)\n",
    "len(X),len(T)"
   ]
  },
  {
   "cell_type": "code",
   "execution_count": 8,
   "metadata": {},
   "outputs": [
    {
     "data": {
      "text/plain": [
       "(18272, 18272)"
      ]
     },
     "execution_count": 8,
     "metadata": {},
     "output_type": "execute_result"
    }
   ],
   "source": [
    "X,T = loaddata('malayalam.mat',3)\n",
    "len(X),len(T)"
   ]
  },
  {
   "cell_type": "code",
   "execution_count": 9,
   "metadata": {},
   "outputs": [
    {
     "data": {
      "text/plain": [
       "(21083, 21083)"
      ]
     },
     "execution_count": 9,
     "metadata": {},
     "output_type": "execute_result"
    }
   ],
   "source": [
    "X,T = loaddata('punjabi.mat',4)\n",
    "len(X),len(T)"
   ]
  },
  {
   "cell_type": "code",
   "execution_count": 10,
   "metadata": {},
   "outputs": [
    {
     "data": {
      "text/plain": [
       "(24092, 24092)"
      ]
     },
     "execution_count": 10,
     "metadata": {},
     "output_type": "execute_result"
    }
   ],
   "source": [
    "X,T = loaddata('rajasthani.mat',5)\n",
    "len(X),len(T)"
   ]
  },
  {
   "cell_type": "code",
   "execution_count": 11,
   "metadata": {},
   "outputs": [
    {
     "data": {
      "text/plain": [
       "(27027, 27027)"
      ]
     },
     "execution_count": 11,
     "metadata": {},
     "output_type": "execute_result"
    }
   ],
   "source": [
    "X,T = loaddata('tamil.mat',6)\n",
    "len(X),len(T)"
   ]
  },
  {
   "cell_type": "code",
   "execution_count": 12,
   "metadata": {},
   "outputs": [
    {
     "data": {
      "text/plain": [
       "(29906, 29906)"
      ]
     },
     "execution_count": 12,
     "metadata": {},
     "output_type": "execute_result"
    }
   ],
   "source": [
    "X,T = loaddata('telugu.mat',7)\n",
    "len(X),len(T)"
   ]
  },
  {
   "cell_type": "code",
   "execution_count": 13,
   "metadata": {},
   "outputs": [
    {
     "data": {
      "text/plain": [
       "(39070, 39070)"
      ]
     },
     "execution_count": 13,
     "metadata": {},
     "output_type": "execute_result"
    }
   ],
   "source": [
    "X,T = loaddata('hindi.mat',8)\n",
    "len(X),len(T)"
   ]
  },
  {
   "cell_type": "code",
   "execution_count": 14,
   "metadata": {},
   "outputs": [
    {
     "data": {
      "text/plain": [
       "(42544, 42544)"
      ]
     },
     "execution_count": 14,
     "metadata": {},
     "output_type": "execute_result"
    }
   ],
   "source": [
    "X,T = loaddata('gujrati.mat',9)\n",
    "len(X),len(T)"
   ]
  },
  {
   "cell_type": "markdown",
   "metadata": {},
   "source": [
    "## Split Dataset"
   ]
  },
  {
   "cell_type": "code",
   "execution_count": 15,
   "metadata": {},
   "outputs": [
    {
     "name": "stderr",
     "output_type": "stream",
     "text": [
      "c:\\users\\shash\\anaconda3\\envs\\tensorflow-gpu\\lib\\site-packages\\sklearn\\model_selection\\_split.py:2026: FutureWarning: From version 0.21, test_size will always complement train_size unless both are specified.\n",
      "  FutureWarning)\n"
     ]
    },
    {
     "data": {
      "text/plain": [
       "((34035, 39, 39), (8509, 39, 39))"
      ]
     },
     "execution_count": 15,
     "metadata": {},
     "output_type": "execute_result"
    }
   ],
   "source": [
    "Xtrain, Xtest, Ytrain, Ytest = train_test_split(np.array(X),np.array(T), train_size=0.8, random_state=30)\n",
    "np.array(Xtrain).shape, np.array(Xtest).shape"
   ]
  },
  {
   "cell_type": "markdown",
   "metadata": {},
   "source": [
    "## Convert 2D dataset to a 1D vector"
   ]
  },
  {
   "cell_type": "code",
   "execution_count": 16,
   "metadata": {},
   "outputs": [],
   "source": [
    "batchSize=128\n",
    "num_classes=10\n",
    "epochs=10\n",
    "imageRows, imageCols =39,39"
   ]
  },
  {
   "cell_type": "code",
   "execution_count": 17,
   "metadata": {},
   "outputs": [],
   "source": [
    "Xtrain = Xtrain.reshape(Xtrain.shape[0], imageRows, imageCols, 1)\n",
    "Xtest = Xtest.reshape(Xtest.shape[0], imageRows,imageCols, 1)\n",
    "input_shape = (imageRows, imageCols, 1)\n",
    "Xtrain = Xtrain.astype('float32')\n",
    "Xtest = Xtest.astype('float32')"
   ]
  },
  {
   "cell_type": "code",
   "execution_count": 18,
   "metadata": {},
   "outputs": [
    {
     "data": {
      "text/plain": [
       "(39, 39, 1)"
      ]
     },
     "execution_count": 18,
     "metadata": {},
     "output_type": "execute_result"
    }
   ],
   "source": [
    "input_shape"
   ]
  },
  {
   "cell_type": "code",
   "execution_count": 19,
   "metadata": {},
   "outputs": [],
   "source": [
    "Ytrain = keras.utils.to_categorical(Ytrain, num_classes)\n",
    "Ytest = keras.utils.to_categorical(Ytest, num_classes)"
   ]
  },
  {
   "cell_type": "markdown",
   "metadata": {},
   "source": [
    "## Define CNN Model"
   ]
  },
  {
   "cell_type": "code",
   "execution_count": 20,
   "metadata": {},
   "outputs": [
    {
     "name": "stderr",
     "output_type": "stream",
     "text": [
      "c:\\users\\shash\\anaconda3\\envs\\tensorflow-gpu\\lib\\site-packages\\ipykernel_launcher.py:5: UserWarning: Update your `Conv2D` call to the Keras 2 API: `Conv2D(64, kernel_size=(3, 3), padding=\"same\", activation=\"relu\", input_shape=(39, 39, 1..., kernel_regularizer=<keras.reg...)`\n",
      "  \"\"\"\n",
      "c:\\users\\shash\\anaconda3\\envs\\tensorflow-gpu\\lib\\site-packages\\ipykernel_launcher.py:9: UserWarning: Update your `Conv2D` call to the Keras 2 API: `Conv2D(128, kernel_size=(3, 3), padding=\"same\", activation=\"relu\", kernel_regularizer=<keras.reg...)`\n",
      "  if __name__ == '__main__':\n",
      "c:\\users\\shash\\anaconda3\\envs\\tensorflow-gpu\\lib\\site-packages\\ipykernel_launcher.py:13: UserWarning: Update your `Conv2D` call to the Keras 2 API: `Conv2D(256, kernel_size=(3, 3), padding=\"same\", activation=\"relu\", kernel_regularizer=<keras.reg...)`\n",
      "  del sys.path[0]\n",
      "c:\\users\\shash\\anaconda3\\envs\\tensorflow-gpu\\lib\\site-packages\\ipykernel_launcher.py:17: UserWarning: Update your `Conv2D` call to the Keras 2 API: `Conv2D(256, kernel_size=(3, 3), padding=\"same\", activation=\"relu\", kernel_regularizer=<keras.reg...)`\n",
      "c:\\users\\shash\\anaconda3\\envs\\tensorflow-gpu\\lib\\site-packages\\ipykernel_launcher.py:21: UserWarning: Update your `Conv2D` call to the Keras 2 API: `Conv2D(512, kernel_size=(3, 3), padding=\"same\", activation=\"relu\", kernel_regularizer=<keras.reg...)`\n",
      "c:\\users\\shash\\anaconda3\\envs\\tensorflow-gpu\\lib\\site-packages\\ipykernel_launcher.py:25: UserWarning: Update your `Conv2D` call to the Keras 2 API: `Conv2D(512, kernel_size=(3, 3), padding=\"same\", activation=\"relu\", kernel_regularizer=<keras.reg...)`\n",
      "c:\\users\\shash\\anaconda3\\envs\\tensorflow-gpu\\lib\\site-packages\\ipykernel_launcher.py:29: UserWarning: Update your `Conv2D` call to the Keras 2 API: `Conv2D(512, kernel_size=(3, 3), padding=\"same\", activation=\"relu\", kernel_regularizer=<keras.reg...)`\n"
     ]
    }
   ],
   "source": [
    "weight_decay = 0.001\n",
    "\n",
    "model = Sequential()\n",
    "\n",
    "model.add(Conv2D(64, kernel_size=(3,3), W_regularizer=l2(weight_decay), padding=\"same\", activation=\"relu\", input_shape=input_shape))\n",
    "model.add(BatchNormalization())\n",
    "model.add(MaxPooling2D(pool_size=(2, 2), strides=(2, 2)))\n",
    "\n",
    "model.add(Conv2D(128, kernel_size=(3,3), W_regularizer=l2(weight_decay), padding=\"same\", activation=\"relu\"))\n",
    "model.add(BatchNormalization())\n",
    "model.add(MaxPooling2D(pool_size=(2, 2), strides=(2, 2)))\n",
    "\n",
    "model.add(Conv2D(256, kernel_size=(3,3), W_regularizer=l2(weight_decay), padding=\"same\", activation=\"relu\"))\n",
    "model.add(BatchNormalization())\n",
    "#model.add(MaxPooling2D(pool_size=(2, 2), strides=(2, 2)))\n",
    "\n",
    "model.add(Conv2D(256, kernel_size=(3,3), W_regularizer=l2(weight_decay), padding=\"same\", activation=\"relu\"))\n",
    "model.add(BatchNormalization())\n",
    "model.add(MaxPooling2D(pool_size=(2, 2), strides=(2, 2)))\n",
    "\n",
    "model.add(Conv2D(512, kernel_size=(3,3), W_regularizer=l2(weight_decay), padding=\"same\", activation=\"relu\"))\n",
    "model.add(BatchNormalization())\n",
    "#model.add(MaxPooling2D(pool_size=(2, 2), strides=(2, 2)))\n",
    "\n",
    "model.add(Conv2D(512, kernel_size=(3,3), W_regularizer=l2(weight_decay),padding=\"same\", activation=\"relu\"))\n",
    "model.add(BatchNormalization())\n",
    "model.add(MaxPooling2D(pool_size=(2, 2), strides=(2, 2)))\n",
    "\n",
    "model.add(Conv2D(512, kernel_size=(3,3), W_regularizer=l2(weight_decay), padding=\"same\", activation=\"relu\"))\n",
    "model.add(BatchNormalization())\n",
    "model.add(MaxPooling2D(pool_size=(2, 2), strides=(2, 2)))\n",
    "\n",
    "    # (bs, y, x, c) --> (bs, x, y, c)\n",
    "model.add(Permute((2, 1, 3)))\n",
    "\n",
    "    # (bs, x, y, c) --> (bs, x, y * c)\n",
    "bs, x, y, c = model.layers[-1].output_shape\n",
    "model.add(Reshape((x, y*c)))\n",
    "\n",
    "model.add(Bidirectional(LSTM(256, return_sequences=False), merge_mode=\"concat\"))\n",
    "model.add(Dense(num_classes, activation=\"softmax\"))\n"
   ]
  },
  {
   "cell_type": "code",
   "execution_count": 21,
   "metadata": {},
   "outputs": [
    {
     "name": "stdout",
     "output_type": "stream",
     "text": [
      "_________________________________________________________________\n",
      "Layer (type)                 Output Shape              Param #   \n",
      "=================================================================\n",
      "conv2d_1 (Conv2D)            (None, 39, 39, 64)        640       \n",
      "_________________________________________________________________\n",
      "batch_normalization_1 (Batch (None, 39, 39, 64)        256       \n",
      "_________________________________________________________________\n",
      "max_pooling2d_1 (MaxPooling2 (None, 19, 19, 64)        0         \n",
      "_________________________________________________________________\n",
      "conv2d_2 (Conv2D)            (None, 19, 19, 128)       73856     \n",
      "_________________________________________________________________\n",
      "batch_normalization_2 (Batch (None, 19, 19, 128)       512       \n",
      "_________________________________________________________________\n",
      "max_pooling2d_2 (MaxPooling2 (None, 9, 9, 128)         0         \n",
      "_________________________________________________________________\n",
      "conv2d_3 (Conv2D)            (None, 9, 9, 256)         295168    \n",
      "_________________________________________________________________\n",
      "batch_normalization_3 (Batch (None, 9, 9, 256)         1024      \n",
      "_________________________________________________________________\n",
      "conv2d_4 (Conv2D)            (None, 9, 9, 256)         590080    \n",
      "_________________________________________________________________\n",
      "batch_normalization_4 (Batch (None, 9, 9, 256)         1024      \n",
      "_________________________________________________________________\n",
      "max_pooling2d_3 (MaxPooling2 (None, 4, 4, 256)         0         \n",
      "_________________________________________________________________\n",
      "conv2d_5 (Conv2D)            (None, 4, 4, 512)         1180160   \n",
      "_________________________________________________________________\n",
      "batch_normalization_5 (Batch (None, 4, 4, 512)         2048      \n",
      "_________________________________________________________________\n",
      "conv2d_6 (Conv2D)            (None, 4, 4, 512)         2359808   \n",
      "_________________________________________________________________\n",
      "batch_normalization_6 (Batch (None, 4, 4, 512)         2048      \n",
      "_________________________________________________________________\n",
      "max_pooling2d_4 (MaxPooling2 (None, 2, 2, 512)         0         \n",
      "_________________________________________________________________\n",
      "conv2d_7 (Conv2D)            (None, 2, 2, 512)         2359808   \n",
      "_________________________________________________________________\n",
      "batch_normalization_7 (Batch (None, 2, 2, 512)         2048      \n",
      "_________________________________________________________________\n",
      "max_pooling2d_5 (MaxPooling2 (None, 1, 1, 512)         0         \n",
      "_________________________________________________________________\n",
      "permute_1 (Permute)          (None, 1, 1, 512)         0         \n",
      "_________________________________________________________________\n",
      "reshape_1 (Reshape)          (None, 1, 512)            0         \n",
      "_________________________________________________________________\n",
      "bidirectional_1 (Bidirection (None, 512)               1574912   \n",
      "_________________________________________________________________\n",
      "dense_1 (Dense)              (None, 10)                5130      \n",
      "=================================================================\n",
      "Total params: 8,448,522\n",
      "Trainable params: 8,444,042\n",
      "Non-trainable params: 4,480\n",
      "_________________________________________________________________\n"
     ]
    }
   ],
   "source": [
    "model.summary()"
   ]
  },
  {
   "cell_type": "markdown",
   "metadata": {},
   "source": [
    "## Model Train"
   ]
  },
  {
   "cell_type": "code",
   "execution_count": 22,
   "metadata": {},
   "outputs": [],
   "source": [
    "model.compile(loss=keras.losses.categorical_crossentropy,optimizer=keras.optimizers.Adadelta(),metrics=['accuracy'])"
   ]
  },
  {
   "cell_type": "code",
   "execution_count": 23,
   "metadata": {},
   "outputs": [
    {
     "name": "stdout",
     "output_type": "stream",
     "text": [
      "Train on 34035 samples, validate on 8509 samples\n",
      "Epoch 1/10\n",
      "34035/34035 [==============================] - 35s 1ms/step - loss: 2.2515 - acc: 0.7235 - val_loss: 1.8538 - val_acc: 0.7521\n",
      "Epoch 2/10\n",
      "34035/34035 [==============================] - 31s 903us/step - loss: 1.1160 - acc: 0.9054 - val_loss: 0.9981 - val_acc: 0.8831\n",
      "Epoch 3/10\n",
      "34035/34035 [==============================] - 31s 907us/step - loss: 0.7291 - acc: 0.9396 - val_loss: 0.7090 - val_acc: 0.9154\n",
      "Epoch 4/10\n",
      "34035/34035 [==============================] - 31s 906us/step - loss: 0.5520 - acc: 0.9533 - val_loss: 0.6224 - val_acc: 0.9126\n",
      "Epoch 5/10\n",
      "34035/34035 [==============================] - 31s 909us/step - loss: 0.4714 - acc: 0.9581 - val_loss: 0.5508 - val_acc: 0.9310\n",
      "Epoch 6/10\n",
      "34035/34035 [==============================] - 31s 907us/step - loss: 0.4253 - acc: 0.9627 - val_loss: 0.9281 - val_acc: 0.8234\n",
      "Epoch 7/10\n",
      "34035/34035 [==============================] - 30s 883us/step - loss: 0.4065 - acc: 0.9629 - val_loss: 0.5817 - val_acc: 0.9057\n",
      "Epoch 8/10\n",
      "34035/34035 [==============================] - 30s 886us/step - loss: 0.3713 - acc: 0.9696 - val_loss: 0.6088 - val_acc: 0.9049\n",
      "Epoch 9/10\n",
      "34035/34035 [==============================] - 30s 887us/step - loss: 0.3603 - acc: 0.9684 - val_loss: 0.4716 - val_acc: 0.9309\n",
      "Epoch 10/10\n",
      "34035/34035 [==============================] - 30s 888us/step - loss: 0.3516 - acc: 0.9704 - val_loss: 0.5050 - val_acc: 0.9227\n"
     ]
    }
   ],
   "source": [
    "speechTrainData=model.fit(Xtrain, Ytrain,batch_size=batchSize,epochs=epochs,verbose=1,validation_data=(Xtest, Ytest))"
   ]
  },
  {
   "cell_type": "code",
   "execution_count": 24,
   "metadata": {},
   "outputs": [
    {
     "data": {
      "image/png": "[encoded data removed]",
      "text/plain": [
       "<Figure size 432x288 with 1 Axes>"
      ]
     },
     "metadata": {},
     "output_type": "display_data"
    },
    {
     "data": {
      "image/png": "[encoded data removed]",
      "text/plain": [
       "<Figure size 432x288 with 1 Axes>"
      ]
     },
     "metadata": {},
     "output_type": "display_data"
    }
   ],
   "source": [
    "plt.plot(speechTrainData.history['acc'])\n",
    "plt.plot(speechTrainData.history['val_acc'])\n",
    "plt.title('Model Accuracy for CNN with Batch Size={}, Epochs={} '.format(batchSize,epochs))\n",
    "plt.ylabel('Accuracy')\n",
    "plt.xlabel('Epoch')\n",
    "plt.legend(['Train', 'Test'], loc='upper left')\n",
    "plt.show()\n",
    "# Plot Model  Loss\n",
    "plt.plot(speechTrainData.history['loss'])\n",
    "plt.plot(speechTrainData.history['val_loss'])\n",
    "plt.title('Model Loss for CNN with Batch Size={}, Epochs={} '.format(batchSize,epochs))\n",
    "plt.ylabel('Loss')\n",
    "plt.xlabel('Epoch')\n",
    "plt.legend(['Train', 'Test'], loc='upper left')\n",
    "plt.show()"
   ]
  },
  {
   "cell_type": "code",
   "execution_count": 25,
   "metadata": {},
   "outputs": [],
   "source": [
    "def ConfusionMatrix(actual,predicts,numberClasses,classname):\n",
    "    nc=numberClasses\n",
    "    confmat=np.zeros([nc,nc])\n",
    "    I = pd.Index(classname, name=\"rows\")\n",
    "    C = pd.Index(classname, name=\"columns\")\n",
    "    for ri in range (nc):\n",
    "        value=[]\n",
    "        trueIndex=np.where(actual[:,ri]==1)\n",
    "        for j in range (len(trueIndex[0])):\n",
    "            value.append(predict[trueIndex[0][j]])\n",
    "        for rj in range (nc):\n",
    "            confmat[ri][rj]=100*np.mean(value,axis=0)[rj]\n",
    "    df = pd.DataFrame(data=confmat, index=I, columns=C)\n",
    "    print(df)\n",
    "    return"
   ]
  },
  {
   "cell_type": "code",
   "execution_count": 26,
   "metadata": {},
   "outputs": [
    {
     "name": "stdout",
     "output_type": "stream",
     "text": [
      "Confusion Matrix for Train Data\n",
      "columns      Assamese    Bengali    Kannada  Malayalam    Punjabi  Rajasthani  \\\n",
      "rows                                                                            \n",
      "Assamese    98.668814   0.002996   0.007959   0.042277   0.033252    0.021851   \n",
      "Bengali      0.004765  81.864947   0.101837  15.392914   0.001882    0.009193   \n",
      "Kannada      0.027896   0.025251  93.268466   4.457342   0.006190    0.020325   \n",
      "Malayalam    0.028441   2.352047   0.996109  93.289214   0.006738    0.033698   \n",
      "Punjabi      0.350276   0.003425   0.056455   0.003142  97.068197    0.170668   \n",
      "Rajasthani   0.007564   0.007498   0.343927   0.426482   0.005523   95.345461   \n",
      "Tamil        0.003488   0.188799   0.195431   2.664777   0.004376    0.026711   \n",
      "Telugu       0.061709   0.010098   0.541758   1.463945   0.026920    0.254865   \n",
      "Hindi        0.040895   0.041886   0.567660   4.251121   0.007000    0.294304   \n",
      "Gujrati      0.056409   0.013208   0.038282   0.053097   0.011401    0.154433   \n",
      "\n",
      "columns         Tamil     Telugu      Hindi    Gujrati  \n",
      "rows                                                    \n",
      "Assamese     0.002330   0.423913   0.776629   0.021252  \n",
      "Bengali      2.406424   0.006561   0.197754   0.013696  \n",
      "Kannada      0.653028   0.080048   1.420328   0.041125  \n",
      "Malayalam    1.659798   0.052883   1.571845   0.009234  \n",
      "Punjabi      0.007426   0.659261   1.191596   0.489403  \n",
      "Rajasthani   0.040425   0.329908   3.414563   0.078633  \n",
      "Tamil       94.475502   0.003779   2.388379   0.048775  \n",
      "Telugu       0.004688  94.461322   3.164715   0.010000  \n",
      "Hindi        0.941709   0.055296  93.682015   0.118200  \n",
      "Gujrati      5.461386   0.004891  13.204430  81.002516  \n"
     ]
    }
   ],
   "source": [
    "predict=model.predict(Xtrain)\n",
    "print('Confusion Matrix for Train Data')\n",
    "ConfusionMatrix(Ytrain,predict,num_classes,['Assamese','Bengali','Kannada','Malayalam','Punjabi','Rajasthani','Tamil','Telugu','Hindi','Gujrati'])"
   ]
  },
  {
   "cell_type": "code",
   "execution_count": 27,
   "metadata": {
    "scrolled": false
   },
   "outputs": [
    {
     "name": "stdout",
     "output_type": "stream",
     "text": [
      "Confusion Matrix for Test Data\n",
      "columns      Assamese    Bengali    Kannada  Malayalam    Punjabi  Rajasthani  \\\n",
      "rows                                                                            \n",
      "Assamese    97.868764   0.003540   0.010757   0.049739   0.024170    0.090039   \n",
      "Bengali      0.003991  80.037504   0.122904  16.195168   0.002115    0.010547   \n",
      "Kannada      0.061811   0.080273  90.218246   6.313779   0.008756    0.034086   \n",
      "Malayalam    0.016752   3.403527   1.457458  87.767202   0.007857    0.092243   \n",
      "Punjabi      0.471780   0.004478   0.014068   0.003373  96.722794    0.095995   \n",
      "Rajasthani   0.012851   0.010749   0.680610   0.401412   0.015459   91.449142   \n",
      "Tamil        0.003707   0.215988   0.508161   3.786544   0.004898    0.035750   \n",
      "Telugu       0.096370   0.010144   0.360359   2.140763   0.036027    0.445093   \n",
      "Hindi        0.117815   0.095886   0.794676   4.401559   0.008256    0.522172   \n",
      "Gujrati      0.115270   0.018750   0.202365   0.074222   0.010406    0.305498   \n",
      "\n",
      "columns         Tamil     Telugu      Hindi    Gujrati  \n",
      "rows                                                    \n",
      "Assamese     0.002990   0.452169   1.457730   0.040069  \n",
      "Bengali      3.240977   0.007556   0.364148   0.015060  \n",
      "Kannada      1.048682   0.038154   2.118905   0.077260  \n",
      "Malayalam    3.876752   0.026585   3.333390   0.018193  \n",
      "Punjabi      0.007236   0.414148   1.632025   0.634096  \n",
      "Rajasthani   0.135060   0.611883   6.440714   0.242080  \n",
      "Tamil       93.497401   0.004342   1.874962   0.068185  \n",
      "Telugu       0.005630  92.663628   4.223607   0.018341  \n",
      "Hindi        1.494253   0.112814  92.342275   0.110330  \n",
      "Gujrati      4.875891   0.008010  16.924883  77.464688  \n"
     ]
    }
   ],
   "source": [
    "predict=model.predict(Xtest)\n",
    "print('Confusion Matrix for Test Data')\n",
    "ConfusionMatrix(Ytest,predict,num_classes,['Assamese','Bengali','Kannada','Malayalam','Punjabi','Rajasthani','Tamil','Telugu','Hindi','Gujrati'])"
   ]
  }
 ],
 "metadata": {
  "kernelspec": {
   "display_name": "Python 3",
   "language": "python",
   "name": "python3"
  },
  "language_info": {
   "codemirror_mode": {
    "name": "ipython",
    "version": 3
   },
   "file_extension": ".py",
   "mimetype": "text/x-python",
   "name": "python",
   "nbconvert_exporter": "python",
   "pygments_lexer": "ipython3",
   "version": "3.6.4"
  }
 },
 "nbformat": 4,
 "nbformat_minor": 2
}
